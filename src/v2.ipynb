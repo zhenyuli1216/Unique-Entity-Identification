{
 "cells": [
  {
   "cell_type": "code",
   "execution_count": 1,
   "metadata": {},
   "outputs": [],
   "source": [
    "import pandas as pd\n",
    "import matplotlib.pyplot as plt\n",
    "import nltk\n",
    "from nltk.tokenize import word_tokenize \n",
    "import gensim\n",
    "import gensim.downloader as api\n",
    "import string\n",
    "import re\n",
    "import numpy as np\n",
    "from sklearn.decomposition import PCA\n",
    "from sklearn.cluster import DBSCAN\n",
    "from gensim.models import Phrases\n",
    "from gensim.models.phrases import Phraser\n",
    "from nltk.corpus import stopwords \n",
    "from fuzzywuzzy import fuzz\n",
    "from sklearn import preprocessing\n",
    "from numpy import dot\n",
    "from numpy.linalg import norm\n",
    "from gensim.models import Word2Vec, KeyedVectors\n",
    "from scipy.cluster import  hierarchy"
   ]
  },
  {
   "cell_type": "markdown",
   "metadata": {},
   "source": [
    "## Load pretrained Word2Vec and sample data"
   ]
  },
  {
   "cell_type": "code",
   "execution_count": null,
   "metadata": {},
   "outputs": [],
   "source": [
    "#model = api.load(\"word2vec-google-news-300\")"
   ]
  },
  {
   "cell_type": "code",
   "execution_count": 2,
   "metadata": {},
   "outputs": [],
   "source": [
    "model_path = api.load(\"word2vec-google-news-300\", return_path=True)"
   ]
  },
  {
   "cell_type": "code",
   "execution_count": 58,
   "metadata": {},
   "outputs": [],
   "source": [
    "w2v = KeyedVectors.load_word2vec_format(model_path, binary= True)"
   ]
  },
  {
   "cell_type": "code",
   "execution_count": 59,
   "metadata": {},
   "outputs": [],
   "source": [
    "# normalized model so we can use wmdistance later\n",
    "w2v_norm = KeyedVectors.load_word2vec_format(model_path, binary= True)\n",
    "w2v_norm.init_sims(replace=True)"
   ]
  },
  {
   "cell_type": "code",
   "execution_count": 9,
   "metadata": {},
   "outputs": [],
   "source": [
    "with open('../data/data.txt', 'r') as f: \n",
    "    data = f.readlines()\n",
    "f.close()\n",
    "data = [x.rstrip().lstrip().strip('\\\",') for x in data]"
   ]
  },
  {
   "cell_type": "code",
   "execution_count": 10,
   "metadata": {},
   "outputs": [
    {
     "name": "stdout",
     "output_type": "stream",
     "text": [
      "['Marks and Spencers Ltd', 'M&S Limited', 'NVIDIA Ireland', 'SLOUGH SE12 2XY', '33 TIMBER YARD,LONDON, L1 8XY', '44 CHINA ROAD, KOWLOON, HONG KONG', 'XYZ 13423 / ILD', 'ABC/ICL/20891NC', 'HARDWOOD TABLE', 'PLASTIC BOTTLE', 'LONDON', 'HONG KONG', 'ASIA', 'JP Morgan & Chase Co.', 'ICNAO02312', 'TOYS', '5 Time Square, New York, NY 10036', 'COMPUTER PARTS', 'INTEL CORPORATION', 'INTEL CO', 'Ryland Group Inc.', 'Sabre Holdings Corp', 'Safeco Corp', '4CE0460D0G', 'Vero Beach, Florida', 'WINE', 'Microwave', 'Plastic container', 'Europe', 'Canada', 'HGU6UH3']\n"
     ]
    }
   ],
   "source": [
    "print (data)"
   ]
  },
  {
   "cell_type": "markdown",
   "metadata": {},
   "source": [
    "## Preprocess data"
   ]
  },
  {
   "cell_type": "code",
   "execution_count": 473,
   "metadata": {},
   "outputs": [],
   "source": [
    "df = pd.DataFrame()\n",
    "df['text'] = data"
   ]
  },
  {
   "cell_type": "code",
   "execution_count": 474,
   "metadata": {},
   "outputs": [],
   "source": [
    "table = str.maketrans('', '', string.punctuation.replace('#', '').replace('&', ''))\n",
    "stop_words = set(stopwords.words('english')) \n",
    "    # After trying different preprocessing combinations, I decided not to filter out stops words, \n",
    "    # and keept '#' and '&' since they can help defining a string in our specific case \n",
    "def get_tokens(x): \n",
    "    x = re.sub(r'\\d', '#', x).lower()\n",
    "    tokens = word_tokenize(x)\n",
    "    tokens = [w.translate(table) for w in tokens]\n",
    "    tokens = [x for x in tokens if x != '']\n",
    "    return tokens"
   ]
  },
  {
   "cell_type": "code",
   "execution_count": 475,
   "metadata": {},
   "outputs": [],
   "source": [
    "df['clean_token'] = df['text'].apply(lambda x: get_tokens(x))"
   ]
  },
  {
   "cell_type": "markdown",
   "metadata": {},
   "source": [
    "## Get word2vec vectors from pretrained model"
   ]
  },
  {
   "cell_type": "code",
   "execution_count": 25,
   "metadata": {},
   "outputs": [],
   "source": [
    "model_vocab = w2v.vocab"
   ]
  },
  {
   "cell_type": "code",
   "execution_count": 476,
   "metadata": {},
   "outputs": [],
   "source": [
    "# get vector per string\n",
    "def get_vector(x):\n",
    "    agg_vector = []\n",
    "    for token in x: \n",
    "        if token in model_vocab: \n",
    "            v = w2v[token]  \n",
    "        elif token.capitalize() in model_vocab:\n",
    "            v = w2v[token.capitalize()] \n",
    "        else: \n",
    "            print (token, 'NOT FOUND!')\n",
    "            v = w2v['#'] # assign unknown words (usually random letters in a serial number) to # to skew the vector\n",
    "        agg_vector.append(v)\n",
    "    agg_vector = np.array(agg_vector)\n",
    "    agg_vector = np.mean(agg_vector, axis = 0)\n",
    "    return agg_vector"
   ]
  },
  {
   "cell_type": "code",
   "execution_count": 477,
   "metadata": {},
   "outputs": [
    {
     "name": "stdout",
     "output_type": "stream",
     "text": [
      "abcicl NOT FOUND!\n",
      "icnao NOT FOUND!\n",
      "hgu NOT FOUND!\n"
     ]
    }
   ],
   "source": [
    "df['vecter_300'] = df['clean_token'].apply(lambda x: get_vector(x))"
   ]
  },
  {
   "cell_type": "markdown",
   "metadata": {},
   "source": [
    "## Add more features"
   ]
  },
  {
   "cell_type": "code",
   "execution_count": 481,
   "metadata": {},
   "outputs": [],
   "source": [
    "# Adding word and character count, and a flag for possible company name\n",
    "company_str = ['corporation', 'inc', 'co', 'corp', 'cooperatives', 'ltd', 'limited', 'company', \\\n",
    "               'lp', 'incorporated', 'international']\n",
    "\n",
    "def get_word_cnt(x): \n",
    "    return len(x)\n",
    "\n",
    "def get_char_cnt(x): \n",
    "    return len(''.join(x))\n",
    "\n",
    "def get_company_flag(x): \n",
    "    if any(w in company_str for w in x): \n",
    "        return 1\n",
    "    else: return 0 \n",
    "        \n",
    "df['word_count'] = df['clean_token'].apply(lambda x: get_word_cnt(x))\n",
    "df['char_count'] = df['clean_token'].apply(lambda x: get_char_cnt(x))\n",
    "df['company_str'] = df['clean_token'].apply(lambda x: get_company_flag(x))"
   ]
  },
  {
   "cell_type": "code",
   "execution_count": 482,
   "metadata": {},
   "outputs": [],
   "source": [
    "def concat_features(row): \n",
    "    concat_list = np.array([row['word_count'], row['char_count'], row['company_str']])\n",
    "    new_concat_list = np.append(row['vecter_300'], concat_list)\n",
    "    return new_concat_list"
   ]
  },
  {
   "cell_type": "code",
   "execution_count": 483,
   "metadata": {},
   "outputs": [],
   "source": [
    "df['new_feature_concat'] = df.apply(lambda row: concat_features(row), axis = 1)"
   ]
  },
  {
   "cell_type": "code",
   "execution_count": 485,
   "metadata": {},
   "outputs": [
    {
     "data": {
      "text/html": [
       "<div>\n",
       "<style scoped>\n",
       "    .dataframe tbody tr th:only-of-type {\n",
       "        vertical-align: middle;\n",
       "    }\n",
       "\n",
       "    .dataframe tbody tr th {\n",
       "        vertical-align: top;\n",
       "    }\n",
       "\n",
       "    .dataframe thead th {\n",
       "        text-align: right;\n",
       "    }\n",
       "</style>\n",
       "<table border=\"1\" class=\"dataframe\">\n",
       "  <thead>\n",
       "    <tr style=\"text-align: right;\">\n",
       "      <th></th>\n",
       "      <th>text</th>\n",
       "      <th>clean_token</th>\n",
       "      <th>vecter_300</th>\n",
       "      <th>word_count</th>\n",
       "      <th>char_count</th>\n",
       "      <th>company_str</th>\n",
       "      <th>new_feature_concat</th>\n",
       "    </tr>\n",
       "  </thead>\n",
       "  <tbody>\n",
       "    <tr>\n",
       "      <th>0</th>\n",
       "      <td>Marks and Spencers Ltd</td>\n",
       "      <td>[marks, and, spencers, ltd]</td>\n",
       "      <td>[-0.081870556, -0.028320312, -0.05102539, 0.10...</td>\n",
       "      <td>4</td>\n",
       "      <td>19</td>\n",
       "      <td>1</td>\n",
       "      <td>[-0.08187055587768555, -0.0283203125, -0.05102...</td>\n",
       "    </tr>\n",
       "    <tr>\n",
       "      <th>1</th>\n",
       "      <td>M&amp;S Limited</td>\n",
       "      <td>[m, &amp;, s, limited]</td>\n",
       "      <td>[-0.15039062, 0.09075928, -0.11743164, 0.13623...</td>\n",
       "      <td>4</td>\n",
       "      <td>10</td>\n",
       "      <td>1</td>\n",
       "      <td>[-0.150390625, 0.09075927734375, -0.1174316406...</td>\n",
       "    </tr>\n",
       "    <tr>\n",
       "      <th>2</th>\n",
       "      <td>NVIDIA Ireland</td>\n",
       "      <td>[nvidia, ireland]</td>\n",
       "      <td>[0.01928711, -0.19091797, -0.053955078, 0.3242...</td>\n",
       "      <td>2</td>\n",
       "      <td>13</td>\n",
       "      <td>0</td>\n",
       "      <td>[0.019287109375, -0.19091796875, -0.0539550781...</td>\n",
       "    </tr>\n",
       "  </tbody>\n",
       "</table>\n",
       "</div>"
      ],
      "text/plain": [
       "                     text                  clean_token  \\\n",
       "0  Marks and Spencers Ltd  [marks, and, spencers, ltd]   \n",
       "1             M&S Limited           [m, &, s, limited]   \n",
       "2          NVIDIA Ireland            [nvidia, ireland]   \n",
       "\n",
       "                                          vecter_300  word_count  char_count  \\\n",
       "0  [-0.081870556, -0.028320312, -0.05102539, 0.10...           4          19   \n",
       "1  [-0.15039062, 0.09075928, -0.11743164, 0.13623...           4          10   \n",
       "2  [0.01928711, -0.19091797, -0.053955078, 0.3242...           2          13   \n",
       "\n",
       "   company_str                                 new_feature_concat  \n",
       "0            1  [-0.08187055587768555, -0.0283203125, -0.05102...  \n",
       "1            1  [-0.150390625, 0.09075927734375, -0.1174316406...  \n",
       "2            0  [0.019287109375, -0.19091796875, -0.0539550781...  "
      ]
     },
     "execution_count": 485,
     "metadata": {},
     "output_type": "execute_result"
    }
   ],
   "source": [
    "df.head(3)"
   ]
  },
  {
   "cell_type": "markdown",
   "metadata": {},
   "source": [
    "## Normalize matrix"
   ]
  },
  {
   "cell_type": "code",
   "execution_count": 318,
   "metadata": {},
   "outputs": [
    {
     "name": "stdout",
     "output_type": "stream",
     "text": [
      "vector size:  (31, 303)\n"
     ]
    }
   ],
   "source": [
    "def scale_mat(vec_matrix,preprocess_type):\n",
    "    if preprocess_type == 'MinMax':\n",
    "        scale = preprocessing.MinMaxScaler().fit(vec_matrix)  \n",
    "    if preprocess_type == 'Standard':\n",
    "        scale = preprocessing.StandardScaler().fit(vec_matrix)\n",
    "    vals = scale.transform(vec_matrix)\n",
    "    return vals\n",
    "\n",
    "vector_matrix = np.array(df['new_feature_concat'].tolist())\n",
    "vector_matrix = scale_mat(vector_matrix, 'MinMax')\n",
    "print ('vector size: ', vector_matrix.shape)"
   ]
  },
  {
   "cell_type": "code",
   "execution_count": 171,
   "metadata": {},
   "outputs": [],
   "source": [
    "# PCA reduce dimensions\n",
    "sklearn_pca = PCA(n_components = 2)\n",
    "vals_pca = sklearn_pca.fit_transform(vector_matrix)"
   ]
  },
  {
   "cell_type": "code",
   "execution_count": 319,
   "metadata": {},
   "outputs": [],
   "source": [
    "# Add 2D array to df \n",
    "df['2D'] = vals_pca.tolist()"
   ]
  },
  {
   "cell_type": "code",
   "execution_count": 320,
   "metadata": {},
   "outputs": [
    {
     "data": {
      "image/png": "[encoded data removed]",
      "text/plain": [
       "<Figure size 432x288 with 1 Axes>"
      ]
     },
     "metadata": {
      "needs_background": "light"
     },
     "output_type": "display_data"
    }
   ],
   "source": [
    "# plot\n",
    "data2D = np.array(df['2D'].tolist())\n",
    "n = df.index\n",
    "plt.scatter(vals_pca[:,0], vals_pca[:,1])\n",
    "for i, txt in enumerate(n):\n",
    "    plt.annotate(txt, (vals_pca[i,0], vals_pca[i,1]))\n",
    "plt.show()"
   ]
  },
  {
   "cell_type": "markdown",
   "metadata": {},
   "source": [
    "We can see that there are some sort of patterns forming. Some examples are: \n",
    "<br> On top there are locations: 10(LONDON), 12(ASIA), 28(Europ), and 29(Canada) \n",
    "<br> The center cluster is mostly companies: 0(Marks and Spencers Ltd), 1(M&S Limited), 21(Sabre Holdings Corp), 13(JP Morgan & Chase Co)\n",
    "<br> Bottom left is mostly items, there are 8(HARDWOOD TABLE), 9(PLASTIC BOTTLE), 15(TOYS), 17(COMPUTER PARTS), 25(WINE), 26(microwave), 27(Plastic container)\n",
    "<br> On the far right, there are serial numbers: 6(XYZ 13423 / ILD), 7(ABC/ICL/20891NC), 14(ICNAO02312), 23(4CE0460D0G), 30(HGU6UH3)"
   ]
  },
  {
   "cell_type": "markdown",
   "metadata": {},
   "source": [
    "## Curious to see the clusters in a more mathematical way\n",
    "<b> (Though hierarchy can't really be applied to massive data)"
   ]
  },
  {
   "cell_type": "code",
   "execution_count": 195,
   "metadata": {},
   "outputs": [],
   "source": [
    "def print_clusters(df, cluster_col):\n",
    "    cluster_dict = df.groupby(cluster_col)['text'].apply(list).to_dict()\n",
    "    for k, v, in cluster_dict.items():\n",
    "        print (k, v)\n",
    "        print ()"
   ]
  },
  {
   "cell_type": "code",
   "execution_count": 328,
   "metadata": {},
   "outputs": [
    {
     "data": {
      "image/png": "[encoded data removed]",
      "text/plain": [
       "<Figure size 432x288 with 1 Axes>"
      ]
     },
     "metadata": {
      "needs_background": "light"
     },
     "output_type": "display_data"
    }
   ],
   "source": [
    "Z = hierarchy.linkage(vals_pca, method = \"average\", metric = 'euclidean')\n",
    "plt.figure()\n",
    "dn = hierarchy.dendrogram(Z)"
   ]
  },
  {
   "cell_type": "markdown",
   "metadata": {},
   "source": [
    "Decent hierarchy graph, looks like 5 would be a good threshold"
   ]
  },
  {
   "cell_type": "code",
   "execution_count": 313,
   "metadata": {},
   "outputs": [],
   "source": [
    "threshold = 5\n",
    "C = hierarchy.fcluster(Z, threshold, criterion=\"distance\")\n",
    "labels = (C).tolist()\n",
    "labels = ['cluster_'+str(s) for s in labels]"
   ]
  },
  {
   "cell_type": "code",
   "execution_count": 322,
   "metadata": {},
   "outputs": [
    {
     "name": "stdout",
     "output_type": "stream",
     "text": [
      "cluster_1 ['SLOUGH SE12 2XY', '33 TIMBER YARD,LONDON, L1 8XY', '5 Time Square, New York, NY 10036']\n",
      "\n",
      "cluster_2 ['XYZ 13423 / ILD', 'ABC/ICL/20891NC', 'ICNAO02312', '4CE0460D0G', 'HGU6UH3']\n",
      "\n",
      "cluster_3 ['NVIDIA Ireland', 'LONDON', 'ASIA', 'Europe', 'Canada']\n",
      "\n",
      "cluster_4 ['HARDWOOD TABLE', 'PLASTIC BOTTLE', 'TOYS', 'COMPUTER PARTS', 'WINE', 'Microwave', 'Plastic container']\n",
      "\n",
      "cluster_5 ['Marks and Spencers Ltd', 'M&S Limited', '44 CHINA ROAD, KOWLOON, HONG KONG', 'HONG KONG', 'JP Morgan & Chase Co.', 'INTEL CORPORATION', 'INTEL CO', 'Ryland Group Inc.', 'Sabre Holdings Corp', 'Safeco Corp', 'Vero Beach, Florida']\n",
      "\n"
     ]
    }
   ],
   "source": [
    "df['eps=0.3'] = labels\n",
    "print_clusters(df, 'eps=0.3')"
   ]
  },
  {
   "cell_type": "markdown",
   "metadata": {},
   "source": [
    "## Add features for unique entity recognition "
   ]
  },
  {
   "cell_type": "code",
   "execution_count": null,
   "metadata": {},
   "outputs": [],
   "source": [
    "import scipy.spatial.distance as D"
   ]
  },
  {
   "cell_type": "code",
   "execution_count": 497,
   "metadata": {},
   "outputs": [],
   "source": [
    "# Warp - Preprocess, get vector features, and normalize \n",
    "def get_feature_vector_303(string_input): \n",
    "    token = get_tokens(string_input)\n",
    "    word_vec_google = get_vector(token)\n",
    "    word_cnt = get_word_cnt(token)\n",
    "    char_cnt = get_char_cnt(token)\n",
    "    com_flag = get_company_flag(token)\n",
    "    extra_features = np.array([word_cnt, char_cnt, com_flag])\n",
    "    v = np.append(word_vec_google, extra_features)\n",
    "    #v = scale_mat(v.reshape(-1,1),'MinMax')\n",
    "    return token, word_cnt, char_cnt, com_flag, v"
   ]
  },
  {
   "cell_type": "code",
   "execution_count": 517,
   "metadata": {},
   "outputs": [],
   "source": [
    "def scaler_for_df(df): \n",
    "    df_array = np.array(df['vec_303'])[0]\n",
    "    return df_array"
   ]
  },
  {
   "cell_type": "code",
   "execution_count": 520,
   "metadata": {},
   "outputs": [],
   "source": [
    "# Start with 'HARDWOOD TABLE'\n",
    "init_string = 'HARDWOOD TABLE'\n",
    "init_run = get_feature_vector_303(init_string)\n",
    "my_df = pd.DataFrame({'text': [init_string], 'clean_string': [' '.join(init_run[0])], \\\n",
    "                      'clean_token': [init_run[0]], 'word_cnt':[init_run[1]], \\\n",
    "                      'char_cnt':[init_run[2]], 'com_flag': [init_run[3]],\\\n",
    "                      'vec_303': [init_run[4]], 'vec_303_norm': ''})\n",
    "#my_df.iloc[0,7] = [scaler_for_df(my_df)]"
   ]
  },
  {
   "cell_type": "code",
   "execution_count": 521,
   "metadata": {},
   "outputs": [
    {
     "data": {
      "text/html": [
       "<div>\n",
       "<style scoped>\n",
       "    .dataframe tbody tr th:only-of-type {\n",
       "        vertical-align: middle;\n",
       "    }\n",
       "\n",
       "    .dataframe tbody tr th {\n",
       "        vertical-align: top;\n",
       "    }\n",
       "\n",
       "    .dataframe thead th {\n",
       "        text-align: right;\n",
       "    }\n",
       "</style>\n",
       "<table border=\"1\" class=\"dataframe\">\n",
       "  <thead>\n",
       "    <tr style=\"text-align: right;\">\n",
       "      <th></th>\n",
       "      <th>text</th>\n",
       "      <th>clean_string</th>\n",
       "      <th>clean_token</th>\n",
       "      <th>word_cnt</th>\n",
       "      <th>char_cnt</th>\n",
       "      <th>com_flag</th>\n",
       "      <th>vec_303</th>\n",
       "      <th>vec_303_norm</th>\n",
       "    </tr>\n",
       "  </thead>\n",
       "  <tbody>\n",
       "    <tr>\n",
       "      <th>0</th>\n",
       "      <td>HARDWOOD TABLE</td>\n",
       "      <td>hardwood table</td>\n",
       "      <td>[hardwood, table]</td>\n",
       "      <td>2</td>\n",
       "      <td>13</td>\n",
       "      <td>0</td>\n",
       "      <td>[-0.066802978515625, 0.09027099609375, 0.01513...</td>\n",
       "      <td></td>\n",
       "    </tr>\n",
       "  </tbody>\n",
       "</table>\n",
       "</div>"
      ],
      "text/plain": [
       "             text    clean_string        clean_token  word_cnt  char_cnt  \\\n",
       "0  HARDWOOD TABLE  hardwood table  [hardwood, table]         2        13   \n",
       "\n",
       "   com_flag                                            vec_303 vec_303_norm  \n",
       "0         0  [-0.066802978515625, 0.09027099609375, 0.01513...               "
      ]
     },
     "execution_count": 521,
     "metadata": {},
     "output_type": "execute_result"
    }
   ],
   "source": [
    "my_df"
   ]
  },
  {
   "cell_type": "code",
   "execution_count": 499,
   "metadata": {},
   "outputs": [],
   "source": [
    "test_string = 'apple computer'\n",
    "test_ = get_feature_vector_303(test_string)\n",
    "test_token = test_[0]\n",
    "test_clean_string = ' '.join(test_[0])\n",
    "test_w_cnt = test_[1]\n",
    "test_c_cnt = test_[2]\n",
    "test_vector = test_[4]"
   ]
  },
  {
   "cell_type": "code",
   "execution_count": 500,
   "metadata": {},
   "outputs": [
    {
     "data": {
      "text/plain": [
       "2"
      ]
     },
     "execution_count": 500,
     "metadata": {},
     "output_type": "execute_result"
    }
   ],
   "source": [
    "df['fuzz_token_set_ratio'] = df.apply(lambda x: fuzz.token_set_ratio(str(x['question1']), str(x['question2'])), axis=1)\n",
    "df['fuzz_token_sort_ratio']"
   ]
  },
  {
   "cell_type": "code",
   "execution_count": 513,
   "metadata": {},
   "outputs": [
    {
     "name": "stdout",
     "output_type": "stream",
     "text": [
      "[0, 0, 0, 29, 29, 29, 29, 29, 29]\n"
     ]
    }
   ],
   "source": [
    "for idx, row in my_df.iterrows(): \n",
    "    my_dict = row.to_dict()\n",
    "    character_list = []\n",
    "    character_list.append(my_dict['word_cnt']-test_w_cnt) # word count difference\n",
    "    character_list.append(my_dict['char_cnt']-test_c_cnt) # character count difference\n",
    "    character_list.append(len(set(my_dict['clean_token']).intersection(set(test_token)))) # number of common word\n",
    "    character_list.append(fuzz.ratio(my_dict['clean_string'], test_clean_string)) # fuzz ratio\n",
    "    character_list.append(fuzz.partial_ratio(my_dict['clean_string'], test_clean_string)) # fuzz partical\n",
    "    character_list.append(fuzz.token_set_ratio(my_dict['clean_string'], test_clean_string))\n",
    "    character_list.append(fuzz.token_sort_ratio(my_dict['clean_string'], test_clean_string))\n",
    "    character_list.append(fuzz.partial_token_set_ratio(my_dict['clean_string'], test_clean_string))\n",
    "    character_list.append(fuzz.partial_token_sort_ratio(my_dict['clean_string'], test_clean_string))\n",
    "    print (character_list)\n",
    "    print (get_all_dist())"
   ]
  },
  {
   "cell_type": "code",
   "execution_count": 515,
   "metadata": {},
   "outputs": [],
   "source": [
    "# return a matrix of all kinds of distances \n",
    "def get_all_dist(v1, v2): \n",
    "    dist_list = []\n",
    "    dist_list.append(D.cosine(v1, v2))\n",
    "    dist_list.append(D.euclidean((v1, v2)))\n",
    "    return np.array(dist_list)"
   ]
  },
  {
   "cell_type": "code",
   "execution_count": 467,
   "metadata": {},
   "outputs": [
    {
     "name": "stdout",
     "output_type": "stream",
     "text": [
      "{'text': 'HARDWOOD TABLE', 'clean_string': 'hardwood table', 'clean_token': ['hardwood', 'table'], 'word_cnt': 2, 'char_cnt': 13, 'com_flag': 0, 'vec_303': array([-6.68029785e-02,  9.02709961e-02,  1.51367188e-02,  2.20703125e-01,\n",
      "        1.40014648e-01, -5.60302734e-02,  7.73925781e-02, -3.54003906e-01,\n",
      "        1.87255859e-01,  3.33007812e-01, -7.11669922e-02, -2.16308594e-01,\n",
      "        2.08496094e-01, -2.07519531e-02,  1.04980469e-02,  9.16748047e-02,\n",
      "       -3.02734375e-02,  5.01708984e-02,  1.87988281e-01,  2.22167969e-01,\n",
      "        1.85546875e-02,  1.02294922e-01, -2.44140625e-02,  3.34472656e-02,\n",
      "       -7.73925781e-02,  1.28417969e-01, -1.58203125e-01,  1.08032227e-01,\n",
      "       -1.14501953e-01, -1.08398438e-01, -1.46484375e-02,  5.45654297e-02,\n",
      "        5.23834229e-02,  9.52148438e-02, -6.26220703e-02, -9.57031250e-02,\n",
      "       -1.33056641e-01, -2.63671875e-02,  4.73632812e-02,  3.56445312e-02,\n",
      "        3.58886719e-02, -2.67089844e-01,  6.44531250e-02, -1.16943359e-01,\n",
      "        1.61621094e-01, -1.49658203e-01,  4.53567505e-02,  9.71679688e-02,\n",
      "        2.11425781e-01,  3.02734375e-02, -8.78906250e-03,  1.96289062e-01,\n",
      "       -2.47802734e-01, -1.93748474e-01, -2.49023438e-02, -8.74023438e-02,\n",
      "        7.27539062e-02, -1.71539307e-01,  1.05102539e-01, -1.09863281e-02,\n",
      "       -2.45605469e-01, -1.74804688e-01, -2.47558594e-01,  5.22155762e-02,\n",
      "       -1.31835938e-02, -1.46484375e-03,  3.38134766e-02, -1.34521484e-01,\n",
      "        6.03637695e-02, -1.95312500e-02,  2.44628906e-01, -2.04589844e-01,\n",
      "        5.51757812e-02,  6.33544922e-02,  4.33349609e-02, -1.60644531e-01,\n",
      "       -5.62744141e-02, -9.05761719e-02,  7.08007812e-03,  8.86917114e-03,\n",
      "       -7.15332031e-02, -1.25976562e-01, -1.26586914e-01,  2.72216797e-02,\n",
      "        2.87109375e-01, -2.07443237e-02,  1.12304688e-02,  1.10595703e-01,\n",
      "        1.41601562e-01,  1.04492188e-01, -7.37304688e-02, -2.89306641e-02,\n",
      "       -6.12792969e-02,  1.95312500e-03, -8.08715820e-02, -2.29492188e-01,\n",
      "       -5.85937500e-03, -1.33605957e-01, -1.13037109e-01, -3.11523438e-01,\n",
      "       -1.20849609e-01, -1.83593750e-01,  7.27539062e-02, -1.19873047e-01,\n",
      "       -5.62953949e-02,  6.65283203e-02,  1.67480469e-01, -2.20703125e-01,\n",
      "       -2.34375000e-02, -1.43554688e-01, -1.73339844e-01, -1.16577148e-02,\n",
      "       -4.05273438e-02,  1.07910156e-01,  6.49414062e-02,  7.95898438e-02,\n",
      "        1.36962891e-01,  4.54101562e-02, -2.61962891e-01, -4.88891602e-02,\n",
      "       -4.68750000e-02, -4.13208008e-02,  6.96411133e-02, -6.05468750e-02,\n",
      "       -2.52929688e-01, -9.85107422e-02, -2.75878906e-01, -1.62109375e-01,\n",
      "       -4.74853516e-02,  3.66210938e-04,  1.69677734e-01, -8.44726562e-02,\n",
      "        1.80664062e-02, -2.68554688e-03, -6.17675781e-02,  9.37500000e-02,\n",
      "       -1.63002014e-01, -8.05664062e-02, -1.02294922e-01,  1.38671875e-01,\n",
      "       -1.49658203e-01, -3.05175781e-02,  8.56933594e-02, -1.35253906e-01,\n",
      "        7.33642578e-02,  2.67089844e-01, -7.61718750e-02, -1.75415039e-01,\n",
      "        1.10351562e-01,  2.27539062e-01,  6.50634766e-02,  1.82128906e-01,\n",
      "       -2.00317383e-01,  1.39892578e-01, -2.09228516e-01,  5.46875000e-02,\n",
      "       -2.07824707e-02, -1.37573242e-01, -6.67724609e-02,  3.75976562e-02,\n",
      "       -1.88964844e-01,  1.26953125e-02,  3.91845703e-02, -2.02148438e-01,\n",
      "        9.88769531e-02, -2.05078125e-02, -2.67333984e-02, -7.49511719e-02,\n",
      "       -2.36328125e-01,  4.08477783e-02, -1.62597656e-01, -1.46484375e-01,\n",
      "        1.41601562e-02, -5.33447266e-02, -1.23901367e-02, -2.00195312e-01,\n",
      "        2.07519531e-02, -5.05371094e-02,  3.85055542e-02,  1.40380859e-01,\n",
      "       -1.63085938e-01, -3.41796875e-03,  1.52343750e-01,  4.78515625e-02,\n",
      "        8.76464844e-02,  3.57055664e-02, -1.21093750e-01, -1.80664062e-02,\n",
      "        1.78405762e-01,  2.63671875e-02,  3.43750000e-01, -2.70629883e-01,\n",
      "       -8.20846558e-02,  9.38720703e-02,  5.41992188e-02,  1.28906250e-01,\n",
      "       -2.97851562e-02, -1.50756836e-01, -7.02209473e-02, -1.81884766e-01,\n",
      "       -8.34960938e-02,  1.63085938e-01, -1.46484375e-03,  4.63867188e-02,\n",
      "        4.11987305e-03, -6.59179688e-03,  1.84814453e-01, -5.71289062e-02,\n",
      "       -1.51367188e-01,  5.55419922e-03, -2.51953125e-01,  2.98461914e-02,\n",
      "       -1.87011719e-01, -1.44042969e-01,  1.12426758e-01,  5.33447266e-02,\n",
      "       -1.60156250e-01,  1.57836914e-01,  5.07812500e-02,  8.77990723e-02,\n",
      "       -2.86132812e-01,  1.01318359e-01, -3.44238281e-01,  1.80419922e-01,\n",
      "       -2.88085938e-02,  1.76696777e-02, -9.89990234e-02,  7.66601562e-02,\n",
      "        2.56347656e-01,  1.15478516e-01,  7.73925781e-02, -4.88281250e-02,\n",
      "        8.10546875e-02,  3.99780273e-02, -1.79199219e-01, -1.36962891e-01,\n",
      "        2.52990723e-02,  8.49609375e-02,  2.53906250e-02,  6.72607422e-02,\n",
      "        8.77685547e-02, -1.54052734e-01,  7.75146484e-02, -1.80114746e-01,\n",
      "       -2.76756287e-03,  2.56347656e-02,  4.58984375e-02, -4.30908203e-02,\n",
      "       -1.45996094e-01, -1.61254883e-01, -6.44531250e-02,  2.50976562e-01,\n",
      "        5.91430664e-02, -3.28125000e-01, -8.78906250e-03, -2.34375000e-01,\n",
      "       -1.92871094e-01, -6.06079102e-02, -1.73339844e-01,  1.77124023e-01,\n",
      "        1.18835449e-01, -1.99707031e-01, -1.78222656e-01, -1.83593750e-01,\n",
      "       -2.19726562e-02,  1.73828125e-01, -1.99707031e-01,  1.97631836e-01,\n",
      "       -8.42285156e-02, -1.87500000e-01,  7.21740723e-02,  2.20703125e-01,\n",
      "       -5.00488281e-03, -1.73339844e-02,  2.85034180e-02,  2.49511719e-01,\n",
      "        6.34765625e-03, -2.09472656e-01, -5.81054688e-02, -1.52587891e-03,\n",
      "       -1.22802734e-01, -1.35498047e-01,  1.39343262e-01,  8.69140625e-02,\n",
      "        1.38412476e-01, -1.78833008e-01, -3.01757812e-01,  2.39257812e-02,\n",
      "       -1.84326172e-02,  2.46627808e-01, -2.54272461e-01, -7.39746094e-02,\n",
      "       -9.66796875e-02, -5.93872070e-02,  1.50512695e-01, -3.52325439e-02,\n",
      "        1.80419922e-01, -9.52148438e-03,  1.17919922e-01, -1.75476074e-02,\n",
      "        2.00000000e+00,  1.30000000e+01,  0.00000000e+00]), 'vec_303_norm': ''}\n"
     ]
    }
   ],
   "source": [
    "get_all_dist()"
   ]
  },
  {
   "cell_type": "code",
   "execution_count": 403,
   "metadata": {},
   "outputs": [
    {
     "name": "stdout",
     "output_type": "stream",
     "text": [
      "(303, 1)\n"
     ]
    },
    {
     "data": {
      "text/plain": [
       "0.018331223903671368"
      ]
     },
     "execution_count": 403,
     "metadata": {},
     "output_type": "execute_result"
    }
   ],
   "source": [
    "get_cosine_dist(init_vector, test_vector)"
   ]
  },
  {
   "cell_type": "code",
   "execution_count": null,
   "metadata": {},
   "outputs": [],
   "source": []
  },
  {
   "cell_type": "code",
   "execution_count": 333,
   "metadata": {},
   "outputs": [],
   "source": [
    "\n",
    "a = df.iloc[0,3]\n",
    "b = df.iloc[1,3]\n",
    "cos_sim = dot(a, b)/(norm(a)*norm(b))"
   ]
  },
  {
   "cell_type": "code",
   "execution_count": 334,
   "metadata": {},
   "outputs": [
    {
     "data": {
      "text/plain": [
       "0.8627565141838561"
      ]
     },
     "execution_count": 334,
     "metadata": {},
     "output_type": "execute_result"
    }
   ],
   "source": [
    "cos_sim"
   ]
  },
  {
   "cell_type": "code",
   "execution_count": null,
   "metadata": {},
   "outputs": [],
   "source": [
    "df.iloc[2,0]"
   ]
  },
  {
   "cell_type": "code",
   "execution_count": null,
   "metadata": {},
   "outputs": [],
   "source": [
    "from scipy import spatial\n",
    "\n",
    "result = 1-spatial.distance.cosine(a, b)"
   ]
  },
  {
   "cell_type": "code",
   "execution_count": null,
   "metadata": {},
   "outputs": [],
   "source": [
    "print (w2v.distance('corporation', 'co'))\n",
    "print (w2v.wmdistance('corporation', 'co'))\n",
    "print (w2v_norm.distance('corporation', 'co'))\n",
    "print (w2v_norm.wmdistance('corporation', 'co'))\n",
    "'''\n",
    "def compute_similarity(s1, s2):\n",
    "    return 1.0 - (0.01 * max(fuzz.ratio(s1, s2),fuzz.token_sort_ratio(s1, s2),fuzz.token_set_ratio(s1, s2)))\n",
    "compute_similarity('INTELCORPORATION', 'INTELCO')\n",
    "'''"
   ]
  },
  {
   "cell_type": "code",
   "execution_count": null,
   "metadata": {},
   "outputs": [],
   "source": [
    "# add distance \n",
    "def get_distance(v1, v2): \n",
    "    return w2v.distance(a, b)\n",
    "\n",
    "# add Word Mover's Distance\n",
    "def get_WMD(v1, v2): \n",
    "    return w2v_norm.wmdistance(a, b)\n",
    "\n",
    "def get_word_delta(tokens_1, tokens_2): \n",
    "    return "
   ]
  },
  {
   "cell_type": "code",
   "execution_count": null,
   "metadata": {},
   "outputs": [],
   "source": [
    "def dist_metric(a, b):\n",
    "    sim = np.isnan(dot(a, b)/(norm(a)*norm(b)))\n",
    "    if sim == False:\n",
    "        return dot(a, b)/(norm(a)*norm(b))"
   ]
  }
 ],
 "metadata": {
  "kernelspec": {
   "display_name": "Python 3",
   "language": "python",
   "name": "python3"
  },
  "language_info": {
   "codemirror_mode": {
    "name": "ipython",
    "version": 3
   },
   "file_extension": ".py",
   "mimetype": "text/x-python",
   "name": "python",
   "nbconvert_exporter": "python",
   "pygments_lexer": "ipython3",
   "version": "3.6.10"
  }
 },
 "nbformat": 4,
 "nbformat_minor": 4
}
