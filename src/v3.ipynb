{
 "cells": [
  {
   "cell_type": "code",
   "execution_count": 4,
   "metadata": {},
   "outputs": [],
   "source": [
    "import pandas as pd\n",
    "import matplotlib.pyplot as plt\n",
    "import nltk\n",
    "from nltk.tokenize import word_tokenize \n",
    "import gensim\n",
    "import gensim.downloader as api\n",
    "import string\n",
    "import re\n",
    "import numpy as np\n",
    "from sklearn.decomposition import PCA\n",
    "from sklearn.cluster import DBSCAN\n",
    "from gensim.models import Phrases\n",
    "from gensim.models.phrases import Phraser\n",
    "from nltk.corpus import stopwords \n",
    "from fuzzywuzzy import fuzz\n",
    "from sklearn import preprocessing\n",
    "from numpy import dot\n",
    "from numpy.linalg import norm\n",
    "from gensim.models import Word2Vec, KeyedVectors\n",
    "from scipy.cluster import  hierarchy"
   ]
  },
  {
   "cell_type": "markdown",
   "metadata": {},
   "source": [
    "## Load pretrained Word2Vec and sample data"
   ]
  },
  {
   "cell_type": "code",
   "execution_count": null,
   "metadata": {},
   "outputs": [],
   "source": [
    "#model = api.load(\"word2vec-google-news-300\")"
   ]
  },
  {
   "cell_type": "code",
   "execution_count": 5,
   "metadata": {},
   "outputs": [],
   "source": [
    "model_path = api.load(\"word2vec-google-news-300\", return_path=True)"
   ]
  },
  {
   "cell_type": "code",
   "execution_count": 6,
   "metadata": {},
   "outputs": [],
   "source": [
    "w2v = KeyedVectors.load_word2vec_format(model_path, binary= True)"
   ]
  },
  {
   "cell_type": "code",
   "execution_count": 91,
   "metadata": {},
   "outputs": [],
   "source": [
    "# normalized model so we can use wmdistance later\n",
    "w2v_norm = KeyedVectors.load_word2vec_format(model_path, binary= True)\n",
    "w2v_norm.init_sims(replace=True)"
   ]
  },
  {
   "cell_type": "code",
   "execution_count": 9,
   "metadata": {},
   "outputs": [
    {
     "name": "stdout",
     "output_type": "stream",
     "text": [
      "['Marks and Spencers Ltd', 'M&S Limited', 'NVIDIA Ireland', 'SLOUGH SE12 2XY', '33 TIMBER YARD,LONDON, L1 8XY', '44 CHINA ROAD, KOWLOON, HONG KONG', 'XYZ 13423 / ILD', 'ABC/ICL/20891NC', 'HARDWOOD TABLE', 'PLASTIC BOTTLE', 'LONDON', 'HONG KONG', 'ASIA', 'JP Morgan & Chase Co.', 'ICNAO02312', 'TOYS', '5 Time Square, New York, NY 10036', 'COMPUTER PARTS', 'INTEL CORPORATION', 'INTEL CO', 'Ryland Group Inc.', 'Sabre Holdings Corp', 'Safeco Corp', '4CE0460D0G', 'Vero Beach, Florida', 'WINE', 'Microwave', 'Plastic container', 'Europe', 'Canada', 'HGU6UH3']\n"
     ]
    }
   ],
   "source": [
    "with open('../data/data.txt', 'r') as f: \n",
    "    data = f.readlines()\n",
    "f.close()\n",
    "data = [x.rstrip().lstrip().strip('\\\",') for x in data]\n",
    "print (data)"
   ]
  },
  {
   "cell_type": "markdown",
   "metadata": {},
   "source": [
    "## Preprocess data"
   ]
  },
  {
   "cell_type": "code",
   "execution_count": 10,
   "metadata": {},
   "outputs": [],
   "source": [
    "df = pd.DataFrame()\n",
    "df['text'] = data"
   ]
  },
  {
   "cell_type": "code",
   "execution_count": 139,
   "metadata": {},
   "outputs": [],
   "source": [
    "table = str.maketrans('', '', string.punctuation.replace('#', '').replace('&', ''))\n",
    "stop_words = set(stopwords.words('english')) \n",
    "    # After trying different preprocessing combinations, I decided not to filter out stops words, \n",
    "    # and keept '#' and '&' since they can help defining a string in our specific case \n",
    "def get_tokens(x): \n",
    "    #print (x)\n",
    "    x = re.sub(r'\\d', '#', x).lower()\n",
    "    tokens = word_tokenize(x)\n",
    "    tokens = [w.translate(table) for w in tokens]\n",
    "    tokens = [x for x in tokens if x != '']\n",
    "    return tokens"
   ]
  },
  {
   "cell_type": "code",
   "execution_count": 12,
   "metadata": {},
   "outputs": [],
   "source": [
    "df['clean_token'] = df['text'].apply(lambda x: get_tokens(x))\n",
    "df['clean_string'] = df['clean_token'].apply(lambda x: ' '.join(x))"
   ]
  },
  {
   "cell_type": "code",
   "execution_count": 282,
   "metadata": {},
   "outputs": [],
   "source": [
    "bi_gram_list = [x for x in w2v.index2word if re.search('(_){1,}', x)]\n",
    "bi_gram_list_lower = [x.lower() for x in bi_gram_list]"
   ]
  },
  {
   "cell_type": "code",
   "execution_count": 310,
   "metadata": {},
   "outputs": [],
   "source": [
    "def get_bi_gram(x): \n",
    "    return_list = []\n",
    "    last_flag = False\n",
    "    for i in range(len(x)-1): \n",
    "        current_token = x[i]\n",
    "        current_bigram = x[i]+'_'+x[i+1]\n",
    "        if current_token != '#' and current_bigram in bi_gram_list_lower:\n",
    "            matched_idx = bi_gram_list_lower.index(current_bigram)\n",
    "            current_token = bi_gram_list[matched_idx]\n",
    "            if i+1 == len(x)-1: \n",
    "                last_flag = True\n",
    "        return_list.append(current_token)\n",
    "    if last_flag == False: \n",
    "        return_list.append(x[-1])\n",
    "    return return_list"
   ]
  },
  {
   "cell_type": "code",
   "execution_count": 311,
   "metadata": {},
   "outputs": [],
   "source": [
    "df['clean_token_bi_gram'] = df['clean_token'].apply(lambda x: get_bi_gram(x))"
   ]
  },
  {
   "cell_type": "markdown",
   "metadata": {},
   "source": [
    "## Get word2vec vectors from pretrained model"
   ]
  },
  {
   "cell_type": "code",
   "execution_count": 13,
   "metadata": {},
   "outputs": [],
   "source": [
    "model_vocab = w2v.vocab"
   ]
  },
  {
   "cell_type": "code",
   "execution_count": 313,
   "metadata": {},
   "outputs": [],
   "source": [
    "# get vector per string\n",
    "def get_vector(x):\n",
    "    agg_vector = []\n",
    "    for token in x: \n",
    "        if token in model_vocab: \n",
    "            v = w2v[token]  \n",
    "        elif token.capitalize() in model_vocab:\n",
    "            v = w2v[token.capitalize()] \n",
    "        else: \n",
    "            #print (token, 'NOT FOUND!')\n",
    "            v = w2v['#'] # assign unknown words (usually random letters in a serial number) to # to skew the vector\n",
    "        agg_vector.append(v)\n",
    "    agg_vector = np.array(agg_vector)\n",
    "    agg_vector = np.mean(agg_vector, axis = 0)\n",
    "    return agg_vector"
   ]
  },
  {
   "cell_type": "code",
   "execution_count": 314,
   "metadata": {},
   "outputs": [],
   "source": [
    "df['vecter_300'] = df['clean_token_bi_gram'].apply(lambda x: get_vector(x))"
   ]
  },
  {
   "cell_type": "markdown",
   "metadata": {},
   "source": [
    "## Add more features"
   ]
  },
  {
   "cell_type": "code",
   "execution_count": 315,
   "metadata": {},
   "outputs": [],
   "source": [
    "# Adding word and character count, and a flag for possible company name\n",
    "company_str = ['corporation', 'inc', 'co', 'corp', 'cooperatives', 'ltd', 'limited', 'company', \\\n",
    "               'lp', 'incorporated', 'international', 'association']\n",
    "def get_word_cnt(x): \n",
    "    return len(x)\n",
    "\n",
    "def get_char_cnt(x): \n",
    "    return len(''.join(x))\n",
    "\n",
    "def get_company_flag(x): \n",
    "    if any(w in company_str for w in x): \n",
    "        return 1\n",
    "    else: return 0 \n",
    "    \n",
    "def get_digits_ratio(x): \n",
    "    x = x.replace(' ', '')\n",
    "    digit_count = 0\n",
    "    for c in x: \n",
    "        if c.isdigit(): \n",
    "            digit_count += 1\n",
    "    return digit_count/len(x)\n",
    "\n",
    "count = lambda l1,l2: sum([1 for x in l1 if x in l2])\n",
    "def get_punc_ratio(x): \n",
    "    x = x.replace(' ', '')\n",
    "    punc = count(x,set(string.punctuation)) \n",
    "    return punc/len(x)\n",
    "        \n",
    "df['word_count'] = df['clean_token'].apply(lambda x: get_word_cnt(x))\n",
    "df['char_count'] = df['clean_token'].apply(lambda x: get_char_cnt(x))\n",
    "df['company_str'] = df['clean_token'].apply(lambda x: get_company_flag(x))\n",
    "df['digital_ratio'] = df['text'].apply(lambda x: get_digits_ratio(x))\n",
    "df['punctuation_ratio'] = df['text'].apply(lambda x: get_punc_ratio(x))"
   ]
  },
  {
   "cell_type": "code",
   "execution_count": 341,
   "metadata": {},
   "outputs": [],
   "source": [
    "def concat_features(row): \n",
    "    concat_list = np.array([row['word_count'], row['char_count'], row['company_str'], row['digital_ratio'], row['punctuation_ratio']])\n",
    "    new_concat_list = np.append(row['vecter_300'], concat_list)\n",
    "    return new_concat_list"
   ]
  },
  {
   "cell_type": "code",
   "execution_count": 342,
   "metadata": {},
   "outputs": [],
   "source": [
    "df['new_feature_concat'] = df.apply(lambda row: concat_features(row), axis = 1)"
   ]
  },
  {
   "cell_type": "markdown",
   "metadata": {},
   "source": [
    "## Normalize matrix"
   ]
  },
  {
   "cell_type": "code",
   "execution_count": 343,
   "metadata": {},
   "outputs": [
    {
     "name": "stdout",
     "output_type": "stream",
     "text": [
      "vector size:  (31, 305)\n"
     ]
    }
   ],
   "source": [
    "def scale_mat(vec_matrix,preprocess_type):\n",
    "    if preprocess_type == 'MinMax':\n",
    "        scale = preprocessing.MinMaxScaler().fit(vec_matrix)  \n",
    "    if preprocess_type == 'Standard':\n",
    "        scale = preprocessing.StandardScaler().fit(vec_matrix)\n",
    "    vals = scale.transform(vec_matrix)\n",
    "    return vals\n",
    "\n",
    "vector_matrix = np.array(df['new_feature_concat'].tolist())\n",
    "vector_matrix = scale_mat(vector_matrix, 'MinMax')\n",
    "print ('vector size: ', vector_matrix.shape)"
   ]
  },
  {
   "cell_type": "code",
   "execution_count": 344,
   "metadata": {},
   "outputs": [],
   "source": [
    "# PCA reduce dimensions\n",
    "sklearn_pca = PCA(n_components = 2)\n",
    "vals_pca = sklearn_pca.fit_transform(vector_matrix)"
   ]
  },
  {
   "cell_type": "code",
   "execution_count": 345,
   "metadata": {},
   "outputs": [],
   "source": [
    "# Add 2D array to df \n",
    "df['2D'] = vals_pca.tolist()"
   ]
  },
  {
   "cell_type": "code",
   "execution_count": 346,
   "metadata": {},
   "outputs": [
    {
     "data": {
      "image/png": "[encoded data removed]",
      "text/plain": [
       "<Figure size 432x288 with 1 Axes>"
      ]
     },
     "metadata": {
      "needs_background": "light"
     },
     "output_type": "display_data"
    }
   ],
   "source": [
    "# plot\n",
    "data2D = np.array(df['2D'].tolist())\n",
    "n = df.index\n",
    "plt.scatter(vals_pca[:,0], vals_pca[:,1])\n",
    "for i, txt in enumerate(n):\n",
    "    plt.annotate(txt, (vals_pca[i,0], vals_pca[i,1]))\n",
    "plt.show()"
   ]
  },
  {
   "cell_type": "markdown",
   "metadata": {},
   "source": [
    "We can see that there are some sort of patterns forming. Some examples are: \n",
    "<br> On far right there are locations: 10(LONDON), 12(ASIA), 28(Europ), and 29(Canada) \n",
    "<br> The center cluster is mostly companies: 0(Marks and Spencers Ltd), 1(M&S Limited), 21(Sabre Holdings Corp), 13(JP Morgan & Chase Co)\n",
    "<br> The top part is mostly items, there are 8(HARDWOOD TABLE), 9(PLASTIC BOTTLE), 15(TOYS), 17(COMPUTER PARTS), 25(WINE), 26(microwave), 27(Plastic container)\n",
    "<br> On bottom left there are serial numbers: 6(XYZ 13423 / ILD), 7(ABC/ICL/20891NC), 14(ICNAO02312), 23(4CE0460D0G), 30(HGU6UH3)"
   ]
  },
  {
   "cell_type": "code",
   "execution_count": 340,
   "metadata": {},
   "outputs": [
    {
     "data": {
      "text/html": [
       "<div>\n",
       "<style scoped>\n",
       "    .dataframe tbody tr th:only-of-type {\n",
       "        vertical-align: middle;\n",
       "    }\n",
       "\n",
       "    .dataframe tbody tr th {\n",
       "        vertical-align: top;\n",
       "    }\n",
       "\n",
       "    .dataframe thead th {\n",
       "        text-align: right;\n",
       "    }\n",
       "</style>\n",
       "<table border=\"1\" class=\"dataframe\">\n",
       "  <thead>\n",
       "    <tr style=\"text-align: right;\">\n",
       "      <th></th>\n",
       "      <th>text</th>\n",
       "      <th>clean_token</th>\n",
       "      <th>clean_string</th>\n",
       "      <th>vecter_300</th>\n",
       "      <th>word_count</th>\n",
       "      <th>char_count</th>\n",
       "      <th>company_str</th>\n",
       "      <th>new_feature_concat</th>\n",
       "      <th>digital_ratio</th>\n",
       "      <th>punctuation_ratio</th>\n",
       "      <th>2D</th>\n",
       "      <th>hierarchy_label</th>\n",
       "      <th>clean_token_bi_gram</th>\n",
       "    </tr>\n",
       "  </thead>\n",
       "  <tbody>\n",
       "    <tr>\n",
       "      <th>0</th>\n",
       "      <td>Marks and Spencers Ltd</td>\n",
       "      <td>[marks, and, spencers, ltd]</td>\n",
       "      <td>marks and spencers ltd</td>\n",
       "      <td>[-0.081870556, -0.028320312, -0.05102539, 0.10...</td>\n",
       "      <td>4</td>\n",
       "      <td>19</td>\n",
       "      <td>1</td>\n",
       "      <td>[-0.08187055587768555, -0.0283203125, -0.05102...</td>\n",
       "      <td>0.000000</td>\n",
       "      <td>0.000000</td>\n",
       "      <td>[-0.21785738628969087, -0.6526475067830879]</td>\n",
       "      <td>cluster_5</td>\n",
       "      <td>[marks, and, spencers, ltd]</td>\n",
       "    </tr>\n",
       "    <tr>\n",
       "      <th>1</th>\n",
       "      <td>M&amp;S Limited</td>\n",
       "      <td>[m, &amp;, s, limited]</td>\n",
       "      <td>m &amp; s limited</td>\n",
       "      <td>[-0.15039062, 0.09075928, -0.11743164, 0.13623...</td>\n",
       "      <td>4</td>\n",
       "      <td>10</td>\n",
       "      <td>1</td>\n",
       "      <td>[-0.150390625, 0.09075927734375, -0.1174316406...</td>\n",
       "      <td>0.000000</td>\n",
       "      <td>0.100000</td>\n",
       "      <td>[-0.5241411593227774, -0.3759396544394854]</td>\n",
       "      <td>cluster_5</td>\n",
       "      <td>[m, &amp;, s, limited]</td>\n",
       "    </tr>\n",
       "    <tr>\n",
       "      <th>2</th>\n",
       "      <td>NVIDIA Ireland</td>\n",
       "      <td>[nvidia, ireland]</td>\n",
       "      <td>nvidia ireland</td>\n",
       "      <td>[0.01928711, -0.19091797, -0.053955078, 0.3242...</td>\n",
       "      <td>2</td>\n",
       "      <td>13</td>\n",
       "      <td>0</td>\n",
       "      <td>[0.019287109375, -0.19091796875, -0.0539550781...</td>\n",
       "      <td>0.000000</td>\n",
       "      <td>0.000000</td>\n",
       "      <td>[2.14325646307336, 0.7570817600426596]</td>\n",
       "      <td>cluster_2</td>\n",
       "      <td>[nvidia, ireland]</td>\n",
       "    </tr>\n",
       "    <tr>\n",
       "      <th>3</th>\n",
       "      <td>SLOUGH SE12 2XY</td>\n",
       "      <td>[slough, se, #, #, #, xy]</td>\n",
       "      <td>slough se # # # xy</td>\n",
       "      <td>[-0.08087158, -0.079182945, 0.05058797, 0.0112...</td>\n",
       "      <td>6</td>\n",
       "      <td>13</td>\n",
       "      <td>0</td>\n",
       "      <td>[-0.08087158203125, -0.0791829451918602, 0.050...</td>\n",
       "      <td>0.230769</td>\n",
       "      <td>0.000000</td>\n",
       "      <td>[-0.7947209999704078, 1.450827102862683]</td>\n",
       "      <td>cluster_3</td>\n",
       "      <td>[slough, se, #, #, #, xy]</td>\n",
       "    </tr>\n",
       "    <tr>\n",
       "      <th>4</th>\n",
       "      <td>33 TIMBER YARD,LONDON, L1 8XY</td>\n",
       "      <td>[#, #, timber, yard, london, l, #, #, xy]</td>\n",
       "      <td># # timber yard london l # # xy</td>\n",
       "      <td>[-0.053792316, -0.05820041, -0.040527344, 0.02...</td>\n",
       "      <td>9</td>\n",
       "      <td>23</td>\n",
       "      <td>0</td>\n",
       "      <td>[-0.0537923164665699, -0.0582004114985466, -0....</td>\n",
       "      <td>0.160000</td>\n",
       "      <td>0.080000</td>\n",
       "      <td>[-0.6639117274922118, 1.2593845789605327]</td>\n",
       "      <td>cluster_3</td>\n",
       "      <td>[#, #, timber, yard, london, l, #, #, xy]</td>\n",
       "    </tr>\n",
       "    <tr>\n",
       "      <th>5</th>\n",
       "      <td>44 CHINA ROAD, KOWLOON, HONG KONG</td>\n",
       "      <td>[#, #, china, road, kowloon, hong, kong]</td>\n",
       "      <td># # china road kowloon hong kong</td>\n",
       "      <td>[-0.029296875, -0.008544922, -0.027374268, 0.1...</td>\n",
       "      <td>7</td>\n",
       "      <td>26</td>\n",
       "      <td>0</td>\n",
       "      <td>[-0.029296875, -0.008544921875, -0.02737426757...</td>\n",
       "      <td>0.071429</td>\n",
       "      <td>0.071429</td>\n",
       "      <td>[-0.4829997613936409, 0.1633026370875465]</td>\n",
       "      <td>cluster_5</td>\n",
       "      <td>[#, #, china, road, kowloon, Hong_Kong]</td>\n",
       "    </tr>\n",
       "    <tr>\n",
       "      <th>6</th>\n",
       "      <td>XYZ 13423 / ILD</td>\n",
       "      <td>[xyz, #, #, #, #, #, ild]</td>\n",
       "      <td>xyz # # # # # ild</td>\n",
       "      <td>[-0.03137207, -0.16071428, 0.038007464, 0.0290...</td>\n",
       "      <td>7</td>\n",
       "      <td>11</td>\n",
       "      <td>0</td>\n",
       "      <td>[-0.0313720703125, -0.1607142835855484, 0.0380...</td>\n",
       "      <td>0.416667</td>\n",
       "      <td>0.083333</td>\n",
       "      <td>[-1.1662113068773892, 2.038164207474194]</td>\n",
       "      <td>cluster_3</td>\n",
       "      <td>[xyz, #, #, #, #, #, ild]</td>\n",
       "    </tr>\n",
       "    <tr>\n",
       "      <th>7</th>\n",
       "      <td>ABC/ICL/20891NC</td>\n",
       "      <td>[abcicl, #, #, #, #, #, nc]</td>\n",
       "      <td>abcicl # # # # # nc</td>\n",
       "      <td>[-0.04889788, -0.19213867, 0.03993443, 0.04035...</td>\n",
       "      <td>7</td>\n",
       "      <td>13</td>\n",
       "      <td>0</td>\n",
       "      <td>[-0.0488978810608387, -0.192138671875, 0.03993...</td>\n",
       "      <td>0.333333</td>\n",
       "      <td>0.133333</td>\n",
       "      <td>[-1.3660956376220394, 2.646343018784372]</td>\n",
       "      <td>cluster_3</td>\n",
       "      <td>[abcicl, #, #, #, #, #, nc]</td>\n",
       "    </tr>\n",
       "    <tr>\n",
       "      <th>8</th>\n",
       "      <td>HARDWOOD TABLE</td>\n",
       "      <td>[hardwood, table]</td>\n",
       "      <td>hardwood table</td>\n",
       "      <td>[-0.06680298, 0.090270996, 0.015136719, 0.2207...</td>\n",
       "      <td>2</td>\n",
       "      <td>13</td>\n",
       "      <td>0</td>\n",
       "      <td>[-0.066802978515625, 0.09027099609375, 0.01513...</td>\n",
       "      <td>0.000000</td>\n",
       "      <td>0.000000</td>\n",
       "      <td>[-0.7936115213264696, -1.1702179552925702]</td>\n",
       "      <td>cluster_5</td>\n",
       "      <td>[hardwood, table]</td>\n",
       "    </tr>\n",
       "    <tr>\n",
       "      <th>9</th>\n",
       "      <td>PLASTIC BOTTLE</td>\n",
       "      <td>[plastic, bottle]</td>\n",
       "      <td>plastic bottle</td>\n",
       "      <td>[-0.21679688, -0.18652344, -0.025756836, 0.041...</td>\n",
       "      <td>2</td>\n",
       "      <td>13</td>\n",
       "      <td>0</td>\n",
       "      <td>[-0.216796875, -0.1865234375, -0.0257568359375...</td>\n",
       "      <td>0.000000</td>\n",
       "      <td>0.000000</td>\n",
       "      <td>[-1.0395265178842157, -0.9673859940555555]</td>\n",
       "      <td>cluster_5</td>\n",
       "      <td>[Plastic_Bottle]</td>\n",
       "    </tr>\n",
       "    <tr>\n",
       "      <th>10</th>\n",
       "      <td>LONDON</td>\n",
       "      <td>[london]</td>\n",
       "      <td>london</td>\n",
       "      <td>[-0.4609375, 0.027954102, -0.26757812, 0.41015...</td>\n",
       "      <td>1</td>\n",
       "      <td>6</td>\n",
       "      <td>0</td>\n",
       "      <td>[-0.4609375, 0.0279541015625, -0.267578125, 0....</td>\n",
       "      <td>0.000000</td>\n",
       "      <td>0.000000</td>\n",
       "      <td>[3.520168681022658, 0.5717443397363491]</td>\n",
       "      <td>cluster_1</td>\n",
       "      <td>[london]</td>\n",
       "    </tr>\n",
       "    <tr>\n",
       "      <th>11</th>\n",
       "      <td>HONG KONG</td>\n",
       "      <td>[hong, kong]</td>\n",
       "      <td>hong kong</td>\n",
       "      <td>[0.008300781, -0.018798828, -0.12451172, 0.046...</td>\n",
       "      <td>2</td>\n",
       "      <td>8</td>\n",
       "      <td>0</td>\n",
       "      <td>[0.00830078125, -0.018798828125, -0.1245117187...</td>\n",
       "      <td>0.000000</td>\n",
       "      <td>0.000000</td>\n",
       "      <td>[0.4909592109840397, -1.3710826802831357]</td>\n",
       "      <td>cluster_5</td>\n",
       "      <td>[Hong_Kong]</td>\n",
       "    </tr>\n",
       "    <tr>\n",
       "      <th>12</th>\n",
       "      <td>ASIA</td>\n",
       "      <td>[asia]</td>\n",
       "      <td>asia</td>\n",
       "      <td>[-0.15332031, 0.03112793, -0.28710938, 0.28515...</td>\n",
       "      <td>1</td>\n",
       "      <td>4</td>\n",
       "      <td>0</td>\n",
       "      <td>[-0.1533203125, 0.0311279296875, -0.287109375,...</td>\n",
       "      <td>0.000000</td>\n",
       "      <td>0.000000</td>\n",
       "      <td>[3.7243591171218737, 0.09884199626703945]</td>\n",
       "      <td>cluster_1</td>\n",
       "      <td>[asia]</td>\n",
       "    </tr>\n",
       "    <tr>\n",
       "      <th>13</th>\n",
       "      <td>JP Morgan &amp; Chase Co.</td>\n",
       "      <td>[jp, morgan, &amp;, chase, co]</td>\n",
       "      <td>jp morgan &amp; chase co</td>\n",
       "      <td>[-0.11416016, 0.0953125, -0.14238282, 4.882812...</td>\n",
       "      <td>5</td>\n",
       "      <td>16</td>\n",
       "      <td>1</td>\n",
       "      <td>[-0.11416015774011612, 0.09531249850988388, -0...</td>\n",
       "      <td>0.000000</td>\n",
       "      <td>0.117647</td>\n",
       "      <td>[-0.2773023301133141, -0.7386944469461296]</td>\n",
       "      <td>cluster_5</td>\n",
       "      <td>[JP_Morgan, morgan, &amp;, chase, co]</td>\n",
       "    </tr>\n",
       "    <tr>\n",
       "      <th>14</th>\n",
       "      <td>ICNAO02312</td>\n",
       "      <td>[icnao, #, #, #, #, #]</td>\n",
       "      <td>icnao # # # # #</td>\n",
       "      <td>[-0.033447266, -0.21972656, 0.01940918, 0.0081...</td>\n",
       "      <td>6</td>\n",
       "      <td>10</td>\n",
       "      <td>0</td>\n",
       "      <td>[-0.033447265625, -0.2197265625, 0.01940917968...</td>\n",
       "      <td>0.500000</td>\n",
       "      <td>0.000000</td>\n",
       "      <td>[-1.6535629629423227, 2.806075337716592]</td>\n",
       "      <td>cluster_3</td>\n",
       "      <td>[icnao, #, #, #, #, #]</td>\n",
       "    </tr>\n",
       "    <tr>\n",
       "      <th>15</th>\n",
       "      <td>TOYS</td>\n",
       "      <td>[toys]</td>\n",
       "      <td>toys</td>\n",
       "      <td>[0.1484375, 0.17675781, 0.15527344, 0.38085938...</td>\n",
       "      <td>1</td>\n",
       "      <td>4</td>\n",
       "      <td>0</td>\n",
       "      <td>[0.1484375, 0.1767578125, 0.1552734375, 0.3808...</td>\n",
       "      <td>0.000000</td>\n",
       "      <td>0.000000</td>\n",
       "      <td>[-0.7848783343063905, -2.7075351850596334]</td>\n",
       "      <td>cluster_4</td>\n",
       "      <td>[toys]</td>\n",
       "    </tr>\n",
       "    <tr>\n",
       "      <th>16</th>\n",
       "      <td>5 Time Square, New York, NY 10036</td>\n",
       "      <td>[#, time, square, new, york, ny, #, #, #, #, #]</td>\n",
       "      <td># time square new york ny # # # # #</td>\n",
       "      <td>[-0.09442694, -0.09439616, -0.005909313, 0.031...</td>\n",
       "      <td>11</td>\n",
       "      <td>25</td>\n",
       "      <td>0</td>\n",
       "      <td>[-0.09442693740129471, -0.09439615905284882, -...</td>\n",
       "      <td>0.222222</td>\n",
       "      <td>0.074074</td>\n",
       "      <td>[-0.8641564055279805, 1.5423187370434204]</td>\n",
       "      <td>cluster_3</td>\n",
       "      <td>[#, time, square, New_York, york, ny, #, #, #,...</td>\n",
       "    </tr>\n",
       "    <tr>\n",
       "      <th>17</th>\n",
       "      <td>COMPUTER PARTS</td>\n",
       "      <td>[computer, parts]</td>\n",
       "      <td>computer parts</td>\n",
       "      <td>[0.123046875, -0.018066406, 0.12792969, 0.1962...</td>\n",
       "      <td>2</td>\n",
       "      <td>13</td>\n",
       "      <td>0</td>\n",
       "      <td>[0.123046875, -0.01806640625, 0.1279296875, 0....</td>\n",
       "      <td>0.000000</td>\n",
       "      <td>0.000000</td>\n",
       "      <td>[-0.4000773907418237, -1.268286648446229]</td>\n",
       "      <td>cluster_5</td>\n",
       "      <td>[computer, parts]</td>\n",
       "    </tr>\n",
       "    <tr>\n",
       "      <th>18</th>\n",
       "      <td>INTEL CORPORATION</td>\n",
       "      <td>[intel, corporation]</td>\n",
       "      <td>intel corporation</td>\n",
       "      <td>[-0.09057617, -0.05618286, -0.047286987, 0.036...</td>\n",
       "      <td>2</td>\n",
       "      <td>16</td>\n",
       "      <td>1</td>\n",
       "      <td>[-0.090576171875, -0.056182861328125, -0.04728...</td>\n",
       "      <td>0.000000</td>\n",
       "      <td>0.000000</td>\n",
       "      <td>[-0.01506322581369444, -0.6966174861946703]</td>\n",
       "      <td>cluster_5</td>\n",
       "      <td>[intel, corporation]</td>\n",
       "    </tr>\n",
       "    <tr>\n",
       "      <th>19</th>\n",
       "      <td>INTEL CO</td>\n",
       "      <td>[intel, co]</td>\n",
       "      <td>intel co</td>\n",
       "      <td>[-0.12866211, -0.048858643, -0.07739258, -0.01...</td>\n",
       "      <td>2</td>\n",
       "      <td>7</td>\n",
       "      <td>1</td>\n",
       "      <td>[-0.128662109375, -0.048858642578125, -0.07739...</td>\n",
       "      <td>0.000000</td>\n",
       "      <td>0.000000</td>\n",
       "      <td>[-0.09258259492603038, -0.6886559717277149]</td>\n",
       "      <td>cluster_5</td>\n",
       "      <td>[intel, co]</td>\n",
       "    </tr>\n",
       "    <tr>\n",
       "      <th>20</th>\n",
       "      <td>Ryland Group Inc.</td>\n",
       "      <td>[ryland, group, inc]</td>\n",
       "      <td>ryland group inc</td>\n",
       "      <td>[-0.048828125, -0.14892578, 0.11828613, 0.0244...</td>\n",
       "      <td>3</td>\n",
       "      <td>14</td>\n",
       "      <td>1</td>\n",
       "      <td>[-0.048828125, -0.14892578125, 0.1182861328125...</td>\n",
       "      <td>0.000000</td>\n",
       "      <td>0.066667</td>\n",
       "      <td>[-1.5389946332875948, -1.3929259365761135]</td>\n",
       "      <td>cluster_4</td>\n",
       "      <td>[Ryland_Group, GROUP_INC]</td>\n",
       "    </tr>\n",
       "    <tr>\n",
       "      <th>21</th>\n",
       "      <td>Sabre Holdings Corp</td>\n",
       "      <td>[sabre, holdings, corp]</td>\n",
       "      <td>sabre holdings corp</td>\n",
       "      <td>[-0.06677246, -0.27148438, -0.20471191, 0.0195...</td>\n",
       "      <td>3</td>\n",
       "      <td>17</td>\n",
       "      <td>1</td>\n",
       "      <td>[-0.0667724609375, -0.271484375, -0.2047119140...</td>\n",
       "      <td>0.000000</td>\n",
       "      <td>0.000000</td>\n",
       "      <td>[-0.7155866241668235, -1.4217536438064498]</td>\n",
       "      <td>cluster_5</td>\n",
       "      <td>[Sabre_Holdings, HOLDINGS_CORP]</td>\n",
       "    </tr>\n",
       "    <tr>\n",
       "      <th>22</th>\n",
       "      <td>Safeco Corp</td>\n",
       "      <td>[safeco, corp]</td>\n",
       "      <td>safeco corp</td>\n",
       "      <td>[0.123291016, 0.1694336, 0.04345703, 0.2207031...</td>\n",
       "      <td>2</td>\n",
       "      <td>10</td>\n",
       "      <td>1</td>\n",
       "      <td>[0.123291015625, 0.16943359375, 0.04345703125,...</td>\n",
       "      <td>0.000000</td>\n",
       "      <td>0.000000</td>\n",
       "      <td>[-0.19705853624145972, -0.7178368262091196]</td>\n",
       "      <td>cluster_5</td>\n",
       "      <td>[safeco, corp]</td>\n",
       "    </tr>\n",
       "    <tr>\n",
       "      <th>23</th>\n",
       "      <td>4CE0460D0G</td>\n",
       "      <td>[#, ce, #, #, #, #, d, #, g]</td>\n",
       "      <td># ce # # # # d # g</td>\n",
       "      <td>[-0.10530599, -0.11151123, 0.039208308, 0.0326...</td>\n",
       "      <td>9</td>\n",
       "      <td>10</td>\n",
       "      <td>0</td>\n",
       "      <td>[-0.1053059920668602, -0.11151123046875, 0.039...</td>\n",
       "      <td>0.600000</td>\n",
       "      <td>0.000000</td>\n",
       "      <td>[-1.0622427355209747, 2.1556257093794957]</td>\n",
       "      <td>cluster_3</td>\n",
       "      <td>[#, ce, #, #, #, #, d, #, g]</td>\n",
       "    </tr>\n",
       "    <tr>\n",
       "      <th>24</th>\n",
       "      <td>Vero Beach, Florida</td>\n",
       "      <td>[vero, beach, florida]</td>\n",
       "      <td>vero beach florida</td>\n",
       "      <td>[0.13382976, -0.17040634, -0.14436848, 0.21211...</td>\n",
       "      <td>3</td>\n",
       "      <td>16</td>\n",
       "      <td>0</td>\n",
       "      <td>[0.1338297575712204, -0.17040634155273438, -0....</td>\n",
       "      <td>0.000000</td>\n",
       "      <td>0.058824</td>\n",
       "      <td>[0.6725698534577436, -0.24615475538902323]</td>\n",
       "      <td>cluster_6</td>\n",
       "      <td>[Vero_Beach, beach, florida]</td>\n",
       "    </tr>\n",
       "    <tr>\n",
       "      <th>25</th>\n",
       "      <td>WINE</td>\n",
       "      <td>[wine]</td>\n",
       "      <td>wine</td>\n",
       "      <td>[-0.17578125, -0.109375, -0.18945312, 0.15625,...</td>\n",
       "      <td>1</td>\n",
       "      <td>4</td>\n",
       "      <td>0</td>\n",
       "      <td>[-0.17578125, -0.109375, -0.189453125, 0.15625...</td>\n",
       "      <td>0.000000</td>\n",
       "      <td>0.000000</td>\n",
       "      <td>[0.07667712800183232, -1.8678950763719238]</td>\n",
       "      <td>cluster_5</td>\n",
       "      <td>[wine]</td>\n",
       "    </tr>\n",
       "    <tr>\n",
       "      <th>26</th>\n",
       "      <td>Microwave</td>\n",
       "      <td>[microwave]</td>\n",
       "      <td>microwave</td>\n",
       "      <td>[-0.30078125, -0.06689453, 0.075683594, 0.3242...</td>\n",
       "      <td>1</td>\n",
       "      <td>9</td>\n",
       "      <td>0</td>\n",
       "      <td>[-0.30078125, -0.06689453125, 0.07568359375, 0...</td>\n",
       "      <td>0.000000</td>\n",
       "      <td>0.000000</td>\n",
       "      <td>[-1.182552850346409, -1.917395703649934]</td>\n",
       "      <td>cluster_4</td>\n",
       "      <td>[microwave]</td>\n",
       "    </tr>\n",
       "    <tr>\n",
       "      <th>27</th>\n",
       "      <td>Plastic container</td>\n",
       "      <td>[plastic, container]</td>\n",
       "      <td>plastic container</td>\n",
       "      <td>[0.0061950684, -0.00010347366, -0.015991211, 0...</td>\n",
       "      <td>2</td>\n",
       "      <td>16</td>\n",
       "      <td>0</td>\n",
       "      <td>[0.006195068359375, -0.00010347366333007812, -...</td>\n",
       "      <td>0.000000</td>\n",
       "      <td>0.000000</td>\n",
       "      <td>[-0.9166458013441726, -0.6516012762167295]</td>\n",
       "      <td>cluster_5</td>\n",
       "      <td>[Plastic_Container]</td>\n",
       "    </tr>\n",
       "    <tr>\n",
       "      <th>28</th>\n",
       "      <td>Europe</td>\n",
       "      <td>[europe]</td>\n",
       "      <td>europe</td>\n",
       "      <td>[-0.15429688, -0.080078125, 0.11328125, 0.4707...</td>\n",
       "      <td>1</td>\n",
       "      <td>6</td>\n",
       "      <td>0</td>\n",
       "      <td>[-0.154296875, -0.080078125, 0.11328125, 0.470...</td>\n",
       "      <td>0.000000</td>\n",
       "      <td>0.000000</td>\n",
       "      <td>[3.606586025703825, 0.3872045168390986]</td>\n",
       "      <td>cluster_1</td>\n",
       "      <td>[europe]</td>\n",
       "    </tr>\n",
       "    <tr>\n",
       "      <th>29</th>\n",
       "      <td>Canada</td>\n",
       "      <td>[canada]</td>\n",
       "      <td>canada</td>\n",
       "      <td>[-0.45507812, -0.21289062, -0.33398438, 0.3085...</td>\n",
       "      <td>1</td>\n",
       "      <td>6</td>\n",
       "      <td>0</td>\n",
       "      <td>[-0.455078125, -0.212890625, -0.333984375, 0.3...</td>\n",
       "      <td>0.000000</td>\n",
       "      <td>0.000000</td>\n",
       "      <td>[3.637957039000884, 0.8178108769859223]</td>\n",
       "      <td>cluster_1</td>\n",
       "      <td>[canada]</td>\n",
       "    </tr>\n",
       "    <tr>\n",
       "      <th>30</th>\n",
       "      <td>HGU6UH3</td>\n",
       "      <td>[hgu, #, uh, #]</td>\n",
       "      <td>hgu # uh #</td>\n",
       "      <td>[-0.043518066, -0.14971924, 0.041534424, 0.066...</td>\n",
       "      <td>4</td>\n",
       "      <td>7</td>\n",
       "      <td>0</td>\n",
       "      <td>[-0.04351806640625, -0.14971923828125, 0.04153...</td>\n",
       "      <td>0.285714</td>\n",
       "      <td>0.000000</td>\n",
       "      <td>[-1.1227530749083858, 2.1579019282676013]</td>\n",
       "      <td>cluster_3</td>\n",
       "      <td>[hgu, #, uh, #]</td>\n",
       "    </tr>\n",
       "  </tbody>\n",
       "</table>\n",
       "</div>"
      ],
      "text/plain": [
       "                                 text  \\\n",
       "0              Marks and Spencers Ltd   \n",
       "1                         M&S Limited   \n",
       "2                      NVIDIA Ireland   \n",
       "3                     SLOUGH SE12 2XY   \n",
       "4       33 TIMBER YARD,LONDON, L1 8XY   \n",
       "5   44 CHINA ROAD, KOWLOON, HONG KONG   \n",
       "6                     XYZ 13423 / ILD   \n",
       "7                     ABC/ICL/20891NC   \n",
       "8                      HARDWOOD TABLE   \n",
       "9                      PLASTIC BOTTLE   \n",
       "10                             LONDON   \n",
       "11                          HONG KONG   \n",
       "12                               ASIA   \n",
       "13              JP Morgan & Chase Co.   \n",
       "14                         ICNAO02312   \n",
       "15                               TOYS   \n",
       "16  5 Time Square, New York, NY 10036   \n",
       "17                     COMPUTER PARTS   \n",
       "18                  INTEL CORPORATION   \n",
       "19                           INTEL CO   \n",
       "20                  Ryland Group Inc.   \n",
       "21                Sabre Holdings Corp   \n",
       "22                        Safeco Corp   \n",
       "23                         4CE0460D0G   \n",
       "24                Vero Beach, Florida   \n",
       "25                               WINE   \n",
       "26                          Microwave   \n",
       "27                  Plastic container   \n",
       "28                             Europe   \n",
       "29                             Canada   \n",
       "30                            HGU6UH3   \n",
       "\n",
       "                                        clean_token  \\\n",
       "0                       [marks, and, spencers, ltd]   \n",
       "1                                [m, &, s, limited]   \n",
       "2                                 [nvidia, ireland]   \n",
       "3                         [slough, se, #, #, #, xy]   \n",
       "4         [#, #, timber, yard, london, l, #, #, xy]   \n",
       "5          [#, #, china, road, kowloon, hong, kong]   \n",
       "6                         [xyz, #, #, #, #, #, ild]   \n",
       "7                       [abcicl, #, #, #, #, #, nc]   \n",
       "8                                 [hardwood, table]   \n",
       "9                                 [plastic, bottle]   \n",
       "10                                         [london]   \n",
       "11                                     [hong, kong]   \n",
       "12                                           [asia]   \n",
       "13                       [jp, morgan, &, chase, co]   \n",
       "14                           [icnao, #, #, #, #, #]   \n",
       "15                                           [toys]   \n",
       "16  [#, time, square, new, york, ny, #, #, #, #, #]   \n",
       "17                                [computer, parts]   \n",
       "18                             [intel, corporation]   \n",
       "19                                      [intel, co]   \n",
       "20                             [ryland, group, inc]   \n",
       "21                          [sabre, holdings, corp]   \n",
       "22                                   [safeco, corp]   \n",
       "23                     [#, ce, #, #, #, #, d, #, g]   \n",
       "24                           [vero, beach, florida]   \n",
       "25                                           [wine]   \n",
       "26                                      [microwave]   \n",
       "27                             [plastic, container]   \n",
       "28                                         [europe]   \n",
       "29                                         [canada]   \n",
       "30                                  [hgu, #, uh, #]   \n",
       "\n",
       "                           clean_string  \\\n",
       "0                marks and spencers ltd   \n",
       "1                         m & s limited   \n",
       "2                        nvidia ireland   \n",
       "3                    slough se # # # xy   \n",
       "4       # # timber yard london l # # xy   \n",
       "5      # # china road kowloon hong kong   \n",
       "6                     xyz # # # # # ild   \n",
       "7                   abcicl # # # # # nc   \n",
       "8                        hardwood table   \n",
       "9                        plastic bottle   \n",
       "10                               london   \n",
       "11                            hong kong   \n",
       "12                                 asia   \n",
       "13                 jp morgan & chase co   \n",
       "14                      icnao # # # # #   \n",
       "15                                 toys   \n",
       "16  # time square new york ny # # # # #   \n",
       "17                       computer parts   \n",
       "18                    intel corporation   \n",
       "19                             intel co   \n",
       "20                     ryland group inc   \n",
       "21                  sabre holdings corp   \n",
       "22                          safeco corp   \n",
       "23                   # ce # # # # d # g   \n",
       "24                   vero beach florida   \n",
       "25                                 wine   \n",
       "26                            microwave   \n",
       "27                    plastic container   \n",
       "28                               europe   \n",
       "29                               canada   \n",
       "30                           hgu # uh #   \n",
       "\n",
       "                                           vecter_300  word_count  char_count  \\\n",
       "0   [-0.081870556, -0.028320312, -0.05102539, 0.10...           4          19   \n",
       "1   [-0.15039062, 0.09075928, -0.11743164, 0.13623...           4          10   \n",
       "2   [0.01928711, -0.19091797, -0.053955078, 0.3242...           2          13   \n",
       "3   [-0.08087158, -0.079182945, 0.05058797, 0.0112...           6          13   \n",
       "4   [-0.053792316, -0.05820041, -0.040527344, 0.02...           9          23   \n",
       "5   [-0.029296875, -0.008544922, -0.027374268, 0.1...           7          26   \n",
       "6   [-0.03137207, -0.16071428, 0.038007464, 0.0290...           7          11   \n",
       "7   [-0.04889788, -0.19213867, 0.03993443, 0.04035...           7          13   \n",
       "8   [-0.06680298, 0.090270996, 0.015136719, 0.2207...           2          13   \n",
       "9   [-0.21679688, -0.18652344, -0.025756836, 0.041...           2          13   \n",
       "10  [-0.4609375, 0.027954102, -0.26757812, 0.41015...           1           6   \n",
       "11  [0.008300781, -0.018798828, -0.12451172, 0.046...           2           8   \n",
       "12  [-0.15332031, 0.03112793, -0.28710938, 0.28515...           1           4   \n",
       "13  [-0.11416016, 0.0953125, -0.14238282, 4.882812...           5          16   \n",
       "14  [-0.033447266, -0.21972656, 0.01940918, 0.0081...           6          10   \n",
       "15  [0.1484375, 0.17675781, 0.15527344, 0.38085938...           1           4   \n",
       "16  [-0.09442694, -0.09439616, -0.005909313, 0.031...          11          25   \n",
       "17  [0.123046875, -0.018066406, 0.12792969, 0.1962...           2          13   \n",
       "18  [-0.09057617, -0.05618286, -0.047286987, 0.036...           2          16   \n",
       "19  [-0.12866211, -0.048858643, -0.07739258, -0.01...           2           7   \n",
       "20  [-0.048828125, -0.14892578, 0.11828613, 0.0244...           3          14   \n",
       "21  [-0.06677246, -0.27148438, -0.20471191, 0.0195...           3          17   \n",
       "22  [0.123291016, 0.1694336, 0.04345703, 0.2207031...           2          10   \n",
       "23  [-0.10530599, -0.11151123, 0.039208308, 0.0326...           9          10   \n",
       "24  [0.13382976, -0.17040634, -0.14436848, 0.21211...           3          16   \n",
       "25  [-0.17578125, -0.109375, -0.18945312, 0.15625,...           1           4   \n",
       "26  [-0.30078125, -0.06689453, 0.075683594, 0.3242...           1           9   \n",
       "27  [0.0061950684, -0.00010347366, -0.015991211, 0...           2          16   \n",
       "28  [-0.15429688, -0.080078125, 0.11328125, 0.4707...           1           6   \n",
       "29  [-0.45507812, -0.21289062, -0.33398438, 0.3085...           1           6   \n",
       "30  [-0.043518066, -0.14971924, 0.041534424, 0.066...           4           7   \n",
       "\n",
       "    company_str                                 new_feature_concat  \\\n",
       "0             1  [-0.08187055587768555, -0.0283203125, -0.05102...   \n",
       "1             1  [-0.150390625, 0.09075927734375, -0.1174316406...   \n",
       "2             0  [0.019287109375, -0.19091796875, -0.0539550781...   \n",
       "3             0  [-0.08087158203125, -0.0791829451918602, 0.050...   \n",
       "4             0  [-0.0537923164665699, -0.0582004114985466, -0....   \n",
       "5             0  [-0.029296875, -0.008544921875, -0.02737426757...   \n",
       "6             0  [-0.0313720703125, -0.1607142835855484, 0.0380...   \n",
       "7             0  [-0.0488978810608387, -0.192138671875, 0.03993...   \n",
       "8             0  [-0.066802978515625, 0.09027099609375, 0.01513...   \n",
       "9             0  [-0.216796875, -0.1865234375, -0.0257568359375...   \n",
       "10            0  [-0.4609375, 0.0279541015625, -0.267578125, 0....   \n",
       "11            0  [0.00830078125, -0.018798828125, -0.1245117187...   \n",
       "12            0  [-0.1533203125, 0.0311279296875, -0.287109375,...   \n",
       "13            1  [-0.11416015774011612, 0.09531249850988388, -0...   \n",
       "14            0  [-0.033447265625, -0.2197265625, 0.01940917968...   \n",
       "15            0  [0.1484375, 0.1767578125, 0.1552734375, 0.3808...   \n",
       "16            0  [-0.09442693740129471, -0.09439615905284882, -...   \n",
       "17            0  [0.123046875, -0.01806640625, 0.1279296875, 0....   \n",
       "18            1  [-0.090576171875, -0.056182861328125, -0.04728...   \n",
       "19            1  [-0.128662109375, -0.048858642578125, -0.07739...   \n",
       "20            1  [-0.048828125, -0.14892578125, 0.1182861328125...   \n",
       "21            1  [-0.0667724609375, -0.271484375, -0.2047119140...   \n",
       "22            1  [0.123291015625, 0.16943359375, 0.04345703125,...   \n",
       "23            0  [-0.1053059920668602, -0.11151123046875, 0.039...   \n",
       "24            0  [0.1338297575712204, -0.17040634155273438, -0....   \n",
       "25            0  [-0.17578125, -0.109375, -0.189453125, 0.15625...   \n",
       "26            0  [-0.30078125, -0.06689453125, 0.07568359375, 0...   \n",
       "27            0  [0.006195068359375, -0.00010347366333007812, -...   \n",
       "28            0  [-0.154296875, -0.080078125, 0.11328125, 0.470...   \n",
       "29            0  [-0.455078125, -0.212890625, -0.333984375, 0.3...   \n",
       "30            0  [-0.04351806640625, -0.14971923828125, 0.04153...   \n",
       "\n",
       "    digital_ratio  punctuation_ratio  \\\n",
       "0        0.000000           0.000000   \n",
       "1        0.000000           0.100000   \n",
       "2        0.000000           0.000000   \n",
       "3        0.230769           0.000000   \n",
       "4        0.160000           0.080000   \n",
       "5        0.071429           0.071429   \n",
       "6        0.416667           0.083333   \n",
       "7        0.333333           0.133333   \n",
       "8        0.000000           0.000000   \n",
       "9        0.000000           0.000000   \n",
       "10       0.000000           0.000000   \n",
       "11       0.000000           0.000000   \n",
       "12       0.000000           0.000000   \n",
       "13       0.000000           0.117647   \n",
       "14       0.500000           0.000000   \n",
       "15       0.000000           0.000000   \n",
       "16       0.222222           0.074074   \n",
       "17       0.000000           0.000000   \n",
       "18       0.000000           0.000000   \n",
       "19       0.000000           0.000000   \n",
       "20       0.000000           0.066667   \n",
       "21       0.000000           0.000000   \n",
       "22       0.000000           0.000000   \n",
       "23       0.600000           0.000000   \n",
       "24       0.000000           0.058824   \n",
       "25       0.000000           0.000000   \n",
       "26       0.000000           0.000000   \n",
       "27       0.000000           0.000000   \n",
       "28       0.000000           0.000000   \n",
       "29       0.000000           0.000000   \n",
       "30       0.285714           0.000000   \n",
       "\n",
       "                                             2D hierarchy_label  \\\n",
       "0   [-0.21785738628969087, -0.6526475067830879]       cluster_5   \n",
       "1    [-0.5241411593227774, -0.3759396544394854]       cluster_5   \n",
       "2        [2.14325646307336, 0.7570817600426596]       cluster_2   \n",
       "3      [-0.7947209999704078, 1.450827102862683]       cluster_3   \n",
       "4     [-0.6639117274922118, 1.2593845789605327]       cluster_3   \n",
       "5     [-0.4829997613936409, 0.1633026370875465]       cluster_5   \n",
       "6      [-1.1662113068773892, 2.038164207474194]       cluster_3   \n",
       "7      [-1.3660956376220394, 2.646343018784372]       cluster_3   \n",
       "8    [-0.7936115213264696, -1.1702179552925702]       cluster_5   \n",
       "9    [-1.0395265178842157, -0.9673859940555555]       cluster_5   \n",
       "10      [3.520168681022658, 0.5717443397363491]       cluster_1   \n",
       "11    [0.4909592109840397, -1.3710826802831357]       cluster_5   \n",
       "12    [3.7243591171218737, 0.09884199626703945]       cluster_1   \n",
       "13   [-0.2773023301133141, -0.7386944469461296]       cluster_5   \n",
       "14     [-1.6535629629423227, 2.806075337716592]       cluster_3   \n",
       "15   [-0.7848783343063905, -2.7075351850596334]       cluster_4   \n",
       "16    [-0.8641564055279805, 1.5423187370434204]       cluster_3   \n",
       "17    [-0.4000773907418237, -1.268286648446229]       cluster_5   \n",
       "18  [-0.01506322581369444, -0.6966174861946703]       cluster_5   \n",
       "19  [-0.09258259492603038, -0.6886559717277149]       cluster_5   \n",
       "20   [-1.5389946332875948, -1.3929259365761135]       cluster_4   \n",
       "21   [-0.7155866241668235, -1.4217536438064498]       cluster_5   \n",
       "22  [-0.19705853624145972, -0.7178368262091196]       cluster_5   \n",
       "23    [-1.0622427355209747, 2.1556257093794957]       cluster_3   \n",
       "24   [0.6725698534577436, -0.24615475538902323]       cluster_6   \n",
       "25   [0.07667712800183232, -1.8678950763719238]       cluster_5   \n",
       "26     [-1.182552850346409, -1.917395703649934]       cluster_4   \n",
       "27   [-0.9166458013441726, -0.6516012762167295]       cluster_5   \n",
       "28      [3.606586025703825, 0.3872045168390986]       cluster_1   \n",
       "29      [3.637957039000884, 0.8178108769859223]       cluster_1   \n",
       "30    [-1.1227530749083858, 2.1579019282676013]       cluster_3   \n",
       "\n",
       "                                  clean_token_bi_gram  \n",
       "0                         [marks, and, spencers, ltd]  \n",
       "1                                  [m, &, s, limited]  \n",
       "2                                   [nvidia, ireland]  \n",
       "3                           [slough, se, #, #, #, xy]  \n",
       "4           [#, #, timber, yard, london, l, #, #, xy]  \n",
       "5             [#, #, china, road, kowloon, Hong_Kong]  \n",
       "6                           [xyz, #, #, #, #, #, ild]  \n",
       "7                         [abcicl, #, #, #, #, #, nc]  \n",
       "8                                   [hardwood, table]  \n",
       "9                                    [Plastic_Bottle]  \n",
       "10                                           [london]  \n",
       "11                                        [Hong_Kong]  \n",
       "12                                             [asia]  \n",
       "13                  [JP_Morgan, morgan, &, chase, co]  \n",
       "14                             [icnao, #, #, #, #, #]  \n",
       "15                                             [toys]  \n",
       "16  [#, time, square, New_York, york, ny, #, #, #,...  \n",
       "17                                  [computer, parts]  \n",
       "18                               [intel, corporation]  \n",
       "19                                        [intel, co]  \n",
       "20                          [Ryland_Group, GROUP_INC]  \n",
       "21                    [Sabre_Holdings, HOLDINGS_CORP]  \n",
       "22                                     [safeco, corp]  \n",
       "23                       [#, ce, #, #, #, #, d, #, g]  \n",
       "24                       [Vero_Beach, beach, florida]  \n",
       "25                                             [wine]  \n",
       "26                                        [microwave]  \n",
       "27                                [Plastic_Container]  \n",
       "28                                           [europe]  \n",
       "29                                           [canada]  \n",
       "30                                    [hgu, #, uh, #]  "
      ]
     },
     "execution_count": 340,
     "metadata": {},
     "output_type": "execute_result"
    }
   ],
   "source": [
    "df"
   ]
  },
  {
   "cell_type": "markdown",
   "metadata": {},
   "source": [
    "## Curious to see the clusters in a more mathematical way\n",
    "<b> (Though hierarchy can't really be applied to massive data)"
   ]
  },
  {
   "cell_type": "code",
   "execution_count": 332,
   "metadata": {},
   "outputs": [],
   "source": [
    "def print_clusters(df, cluster_col):\n",
    "    cluster_dict = df.groupby(cluster_col)['text'].apply(list).to_dict()\n",
    "    for k, v, in cluster_dict.items():\n",
    "        print (k, v)\n",
    "        print ()"
   ]
  },
  {
   "cell_type": "code",
   "execution_count": 347,
   "metadata": {},
   "outputs": [
    {
     "data": {
      "image/png": "[encoded data removed]",
      "text/plain": [
       "<Figure size 432x288 with 1 Axes>"
      ]
     },
     "metadata": {
      "needs_background": "light"
     },
     "output_type": "display_data"
    }
   ],
   "source": [
    "Z = hierarchy.linkage(vals_pca, method = \"average\", metric = 'euclidean')\n",
    "plt.figure()\n",
    "dn = hierarchy.dendrogram(Z)"
   ]
  },
  {
   "cell_type": "markdown",
   "metadata": {},
   "source": [
    "Decent hierarchy graph, looks like 1.5 would be a good threshold"
   ]
  },
  {
   "cell_type": "code",
   "execution_count": 350,
   "metadata": {},
   "outputs": [],
   "source": [
    "threshold = 1.5\n",
    "C = hierarchy.fcluster(Z, threshold, criterion=\"distance\")\n",
    "labels = (C).tolist()\n",
    "labels = ['cluster_'+str(s) for s in labels]"
   ]
  },
  {
   "cell_type": "code",
   "execution_count": 351,
   "metadata": {},
   "outputs": [
    {
     "name": "stdout",
     "output_type": "stream",
     "text": [
      "cluster_1 ['LONDON', 'ASIA', 'Europe', 'Canada']\n",
      "\n",
      "cluster_2 ['NVIDIA Ireland']\n",
      "\n",
      "cluster_3 ['SLOUGH SE12 2XY', '33 TIMBER YARD,LONDON, L1 8XY', 'XYZ 13423 / ILD', 'ABC/ICL/20891NC', 'ICNAO02312', '5 Time Square, New York, NY 10036', '4CE0460D0G', 'HGU6UH3']\n",
      "\n",
      "cluster_4 ['TOYS', 'Ryland Group Inc.', 'Microwave']\n",
      "\n",
      "cluster_5 ['Marks and Spencers Ltd', 'M&S Limited', '44 CHINA ROAD, KOWLOON, HONG KONG', 'HARDWOOD TABLE', 'PLASTIC BOTTLE', 'HONG KONG', 'JP Morgan & Chase Co.', 'COMPUTER PARTS', 'INTEL CORPORATION', 'INTEL CO', 'Sabre Holdings Corp', 'Safeco Corp', 'Vero Beach, Florida', 'WINE', 'Plastic container']\n",
      "\n"
     ]
    }
   ],
   "source": [
    "df['hierarchy_label'] = labels\n",
    "print_clusters(df, 'hierarchy_label')"
   ]
  },
  {
   "cell_type": "markdown",
   "metadata": {},
   "source": [
    "Proceeding with these features for the second part"
   ]
  },
  {
   "cell_type": "markdown",
   "metadata": {},
   "source": [
    "# Unique entity recognition (WIP)"
   ]
  },
  {
   "cell_type": "code",
   "execution_count": 509,
   "metadata": {},
   "outputs": [],
   "source": [
    "import scipy.spatial.distance as D\n",
    "from sklearn import svm\n",
    "from sklearn.utils import shuffle\n",
    "import pickle as pk\n",
    "import time\n",
    "from sklearn.model_selection import GridSearchCV\n",
    "import tensorflow as tf\n",
    "import tensorflow_hub as hub\n",
    "from sklearn.model_selection import train_test_split\n"
   ]
  },
  {
   "cell_type": "markdown",
   "metadata": {},
   "source": [
    "## Load labeled data"
   ]
  },
  {
   "cell_type": "code",
   "execution_count": 692,
   "metadata": {},
   "outputs": [],
   "source": [
    "labeled = pd.read_csv('../data/traning_v5.csv') # test string INTEL CORPORATION"
   ]
  },
  {
   "cell_type": "code",
   "execution_count": 693,
   "metadata": {},
   "outputs": [],
   "source": [
    "labeled = labeled.dropna()\n",
    "labeled = labeled.drop_duplicates()\n",
    "labeled = shuffle(labeled)\n",
    "labeled = labeled.head(10000).reset_index(drop = True)\n",
    "labeled = labeled.drop(columns = ['Unnamed: 0'])"
   ]
  },
  {
   "cell_type": "code",
   "execution_count": 694,
   "metadata": {},
   "outputs": [
    {
     "data": {
      "text/html": [
       "<div>\n",
       "<style scoped>\n",
       "    .dataframe tbody tr th:only-of-type {\n",
       "        vertical-align: middle;\n",
       "    }\n",
       "\n",
       "    .dataframe tbody tr th {\n",
       "        vertical-align: top;\n",
       "    }\n",
       "\n",
       "    .dataframe thead th {\n",
       "        text-align: right;\n",
       "    }\n",
       "</style>\n",
       "<table border=\"1\" class=\"dataframe\">\n",
       "  <thead>\n",
       "    <tr style=\"text-align: right;\">\n",
       "      <th></th>\n",
       "      <th>str_1</th>\n",
       "      <th>str_2</th>\n",
       "      <th>Y</th>\n",
       "    </tr>\n",
       "  </thead>\n",
       "  <tbody>\n",
       "    <tr>\n",
       "      <th>0</th>\n",
       "      <td>45985 Roth St, Tilbury, England</td>\n",
       "      <td>Swedesboro, New Jersey</td>\n",
       "      <td>0</td>\n",
       "    </tr>\n",
       "    <tr>\n",
       "      <th>1</th>\n",
       "      <td>1152 Magdeline Court, Brimson, MS</td>\n",
       "      <td>2857 Waxwing Plz, New Fairfield, AK 63327</td>\n",
       "      <td>0</td>\n",
       "    </tr>\n",
       "    <tr>\n",
       "      <th>2</th>\n",
       "      <td>0 Hazelcrest Crossing, Swadlincote, England</td>\n",
       "      <td>0 Hazelcrest XING, Swadlincote, England, CT15, GB</td>\n",
       "      <td>1</td>\n",
       "    </tr>\n",
       "    <tr>\n",
       "      <th>3</th>\n",
       "      <td>Evansville, Wyoming</td>\n",
       "      <td>Evansville, WY</td>\n",
       "      <td>1</td>\n",
       "    </tr>\n",
       "  </tbody>\n",
       "</table>\n",
       "</div>"
      ],
      "text/plain": [
       "                                         str_1  \\\n",
       "0              45985 Roth St, Tilbury, England   \n",
       "1            1152 Magdeline Court, Brimson, MS   \n",
       "2  0 Hazelcrest Crossing, Swadlincote, England   \n",
       "3                          Evansville, Wyoming   \n",
       "\n",
       "                                               str_2  Y  \n",
       "0                             Swedesboro, New Jersey  0  \n",
       "1          2857 Waxwing Plz, New Fairfield, AK 63327  0  \n",
       "2  0 Hazelcrest XING, Swadlincote, England, CT15, GB  1  \n",
       "3                                     Evansville, WY  1  "
      ]
     },
     "execution_count": 694,
     "metadata": {},
     "output_type": "execute_result"
    }
   ],
   "source": [
    "labeled.head(4)"
   ]
  },
  {
   "cell_type": "code",
   "execution_count": 690,
   "metadata": {},
   "outputs": [],
   "source": [
    "train, test = train_test_split(labeled, test_size=0.01)"
   ]
  },
  {
   "cell_type": "code",
   "execution_count": 691,
   "metadata": {},
   "outputs": [],
   "source": [
    "train = train.reset_index(drop = True)\n",
    "test = test.reset_index(drop = True)"
   ]
  },
  {
   "cell_type": "code",
   "execution_count": 623,
   "metadata": {},
   "outputs": [],
   "source": [
    "# preprocess - input dataset with str_1 and str_2\n",
    "def concat_features(row, col): \n",
    "    concat_list = np.array([row[col+'_word_count'], row[col+'_char_count'], row[col+'_company_flag'], row[col+'_digit_ratio']])\n",
    "    new_concat_list = np.append(row[col+'_vector_300'], concat_list)\n",
    "    return new_concat_list\n",
    "\n",
    "# compare first word\n",
    "def first_match_boo(str_1, str_2): \n",
    "    str_1 = str_1.split()\n",
    "    str_2 = str_2.split()\n",
    "    if str_1[0] == str_2[0]: \n",
    "        return 1\n",
    "    else: \n",
    "        return 0\n",
    "\n",
    "# return a list of characteristics features, input data with str_1 and str2 \n",
    "def get_char_features_labled(updated_df): \n",
    "    return_list = []\n",
    "    for idx, row in updated_df.iterrows(): \n",
    "        append_list = []\n",
    "        append_list.append(first_match_boo(row['str_1'], row['str_2']))\n",
    "        append_list.append(row['str_1_word_count']-row['str_2_word_count']) # word count difference\n",
    "        append_list.append(row['str_1_char_count']-row['str_2_char_count']) # character count difference\n",
    "        append_list.append(len(set(row['str_1_token']).intersection(set(row['str_2_token'])))) # common word\n",
    "        append_list.append(fuzz.ratio(row['str_1_clean_string'], row['str_2_clean_string'])) # fuzz ratio\n",
    "        append_list.append(fuzz.partial_ratio(row['str_1_clean_string'], row['str_2_clean_string'])) # fuzz partical\n",
    "        append_list.append(fuzz.token_set_ratio(row['str_1_clean_string'], row['str_2_clean_string'])) # fuzz token set\n",
    "        append_list.append(fuzz.partial_token_sort_ratio(row['str_1_clean_string'], row['str_2_clean_string']))\n",
    "        append_list.append(fuzz.token_sort_ratio(row['str_1_clean_string'], row['str_2_clean_string']))\n",
    "        append_list.append(w2v.wmdistance(row['str_1_clean_string'], row['str_2_clean_string']))\n",
    "        append_list.append(w2v_norm.wmdistance(row['str_1_clean_string'], row['str_2_clean_string']))\n",
    "        return_list.append(append_list)\n",
    "    return return_list\n",
    "\n",
    "# return a list of distance features, input data with str_1 and str2 after normalization \n",
    "def get_dist_features_labeled(updated_df):\n",
    "    v1 = np.array(updated_df['str_1_feature_concat'].tolist())\n",
    "    v2 = np.array(updated_df['str_2_feature_concat'].tolist())\n",
    "    return_list = []\n",
    "    for i in range (v1.shape[0]): \n",
    "        append_list = []\n",
    "        if v1[i].sum()==0 or v2[i].sum()==0: \n",
    "            print (updated_df.iat[i,0])\n",
    "        append_list.append(D.cosine(v1[i], v2[i]))\n",
    "        append_list.append(D.euclidean(v1[i], v2[i]))\n",
    "        append_list.append(D.cityblock(v1[i], v2[i]))\n",
    "        append_list.append(D.minkowski(v1[i], v2[i]))\n",
    "        append_list.append(D.braycurtis(v1[i], v2[i]))\n",
    "        append_list.append(D.canberra(v1[i], v2[i]))\n",
    "        return_list.append(append_list)\n",
    "    return return_list\n",
    "\n",
    "# concat and normlize X \n",
    "def process_X(c_v, d_v): \n",
    "    return_list = []\n",
    "    for i in range(len(c_v)): \n",
    "        return_list.append(c_v[i]+d_v[i])\n",
    "    mat = np.array(return_list)\n",
    "    mat = scale_mat(mat, 'MinMax')\n",
    "    return mat\n",
    "\n",
    "def process_df(labeled_df, col_list, build_X):\n",
    "    for col in col_list: \n",
    "        labeled_df[col+'_token'] = labeled_df[col].apply(lambda x: get_tokens(x))\n",
    "        labeled_df[col+'_clean_string'] = labeled_df[col+'_token'].apply(lambda x: ' '.join(x))\n",
    "        labeled_df[col+'_clean_token_bi_gram'] = labeled_df[col+'_token'].apply(lambda x: get_bi_gram(x))\n",
    "        labeled_df[col+'_vector_300'] = labeled_df[col+'_clean_token_bi_gram'].apply(lambda x: get_vector(x))\n",
    "        labeled_df[col+'_word_count'] = labeled_df[col+'_token'].apply(lambda x: get_word_cnt(x))\n",
    "        labeled_df[col+'_char_count'] = labeled_df[col+'_token'].apply(lambda x: get_char_cnt(x))\n",
    "        labeled_df[col+'_company_flag'] = labeled_df[col+'_token'].apply(lambda x: get_company_flag(x))\n",
    "        labeled_df[col+'_digit_ratio'] = labeled_df[col].apply(lambda x: get_digits_ratio(x))\n",
    "        #labeled_df[col+'_punctuation_ratio'] = labeled_df[col].apply(lambda x: get_punc_ratio(x))\n",
    "        labeled_df[col+'_feature_concat'] = labeled_df.apply(lambda row: concat_features(row, col), axis = 1)\n",
    "    \n",
    "    if build_X == True: \n",
    "        char_features = get_char_features_labled(labeled_df)\n",
    "        #print ('Characteristics features DONE.')\n",
    "        dist_features = get_dist_features_labeled(labeled_df)\n",
    "        #print ('Distance features DONE. ')\n",
    "        # Got features, now concat and normalize\n",
    "        labeled_df['X'] = process_X(char_features, dist_features).tolist()\n",
    "    return labeled_df\n"
   ]
  },
  {
   "cell_type": "code",
   "execution_count": 624,
   "metadata": {},
   "outputs": [
    {
     "name": "stdout",
     "output_type": "stream",
     "text": [
      "Data processed. Time taken:  1136.3838620185852\n"
     ]
    }
   ],
   "source": [
    "\n",
    "# Split X and Y \n",
    "start_time = time.time()\n",
    "labeled_df = process_df(train, ['str_1', 'str_2'], build_X = True)\n",
    "print ('Data processed. Time taken: ', time.time()-start_time)\n",
    "X_train = np.array(labeled_df['X'].tolist())\n",
    "Y_train = labeled_df['Y'].values\n"
   ]
  },
  {
   "cell_type": "code",
   "execution_count": 625,
   "metadata": {},
   "outputs": [
    {
     "data": {
      "text/plain": [
       "((5970, 17), (5970,))"
      ]
     },
     "execution_count": 625,
     "metadata": {},
     "output_type": "execute_result"
    }
   ],
   "source": [
    "X_train.shape, Y_train.shape"
   ]
  },
  {
   "cell_type": "code",
   "execution_count": 666,
   "metadata": {},
   "outputs": [
    {
     "data": {
      "text/plain": [
       "<matplotlib.collections.PathCollection at 0x1aa3ad4a20>"
      ]
     },
     "execution_count": 666,
     "metadata": {},
     "output_type": "execute_result"
    },
    {
     "data": {
      "image/png": "[encoded data removed]",
      "text/plain": [
       "<Figure size 640x640 with 1 Axes>"
      ]
     },
     "metadata": {
      "needs_background": "light"
     },
     "output_type": "display_data"
    }
   ],
   "source": [
    "vals_pca_X_train = sklearn_pca.fit_transform(X_train)\n",
    "plt.figure(figsize=(8, 8), dpi=80)\n",
    "plt.scatter(vals_pca_X_train[:,0], vals_pca_X_train[:,1], c=Y_train, cmap='viridis', lw = 0, alpha=0.25)"
   ]
  },
  {
   "cell_type": "code",
   "execution_count": 586,
   "metadata": {},
   "outputs": [
    {
     "data": {
      "text/plain": [
       "(0.8874056899606426,\n",
       " array([-0.03699152,  0.06219979, -0.16531303,  0.64495812,  0.23701884,\n",
       "         1.02821345,  0.13890736, -0.109448  , -0.12802801,  0.4384727 ,\n",
       "         0.34583668,  0.07114728, -0.56479084,  0.07114728,  0.56395485,\n",
       "        -0.10406224]))"
      ]
     },
     "execution_count": 586,
     "metadata": {},
     "output_type": "execute_result"
    }
   ],
   "source": [
    "from sklearn.linear_model import LinearRegression\n",
    "reg = LinearRegression().fit(X_train, Y_train)\n",
    "reg.score(X_train, Y_train), reg.coef_"
   ]
  },
  {
   "cell_type": "code",
   "execution_count": 654,
   "metadata": {},
   "outputs": [],
   "source": [
    "from sklearn import tree\n",
    "clf_tree = tree.DecisionTreeClassifier()\n",
    "clf_tree = clf_tree.fit(X_train, Y_train)"
   ]
  },
  {
   "cell_type": "code",
   "execution_count": 581,
   "metadata": {},
   "outputs": [],
   "source": [
    "from sklearn.naive_bayes import GaussianNB\n",
    "gnb = GaussianNB()\n",
    "clf_gnb = gnb.fit(X_train, Y_train)\n",
    "clf_pf = gnb.partial_fit(X_train, Y_train, np.unique(Y_train))"
   ]
  },
  {
   "cell_type": "code",
   "execution_count": 627,
   "metadata": {},
   "outputs": [
    {
     "name": "stdout",
     "output_type": "stream",
     "text": [
      "Training...\n",
      "Model done. Time taken:  0.016618013381958008\n"
     ]
    }
   ],
   "source": [
    "def svc_param_selection(X, y, nfolds):\n",
    "    Cs = [1, 10, 100]\n",
    "    gammas = [0.1, 1, 10]\n",
    "    param_grid = {'C': Cs, 'gamma' : gammas}\n",
    "    grid_search = GridSearchCV(svm.SVC(kernel='rbf'), param_grid, cv=nfolds)\n",
    "    grid_search.fit(X, y)\n",
    "    return_param = grid_search.best_params_\n",
    "    return return_param\n",
    "param = svc_param_selection(X_train, Y_train, 4)\n",
    "\n",
    "# Train a simple SVM \n",
    "start_time = time.time()\n",
    "print ('Training...')\n",
    "clf = svm.SVC(**param)\n",
    "clf.fit(X_train, Y_train)\n",
    "print ('Model done. Time taken: ', time.time()-start_time)"
   ]
  },
  {
   "cell_type": "code",
   "execution_count": 614,
   "metadata": {},
   "outputs": [
    {
     "data": {
      "text/plain": [
       "{'C': 100, 'gamma': 1}"
      ]
     },
     "execution_count": 614,
     "metadata": {},
     "output_type": "execute_result"
    }
   ],
   "source": [
    "param"
   ]
  },
  {
   "cell_type": "code",
   "execution_count": 650,
   "metadata": {
    "scrolled": true
   },
   "outputs": [
    {
     "name": "stdout",
     "output_type": "stream",
     "text": [
      "Epoch 1/10\n",
      "1194/1194 [==============================] - 1s 1ms/step - loss: 0.1118 - accuracy: 0.9571\n",
      "Epoch 2/10\n",
      "1194/1194 [==============================] - 1s 1ms/step - loss: 0.0057 - accuracy: 0.9990: 0s - loss: 0.006\n",
      "Epoch 3/10\n",
      "1194/1194 [==============================] - 1s 1ms/step - loss: 0.0050 - accuracy: 0.9990\n",
      "Epoch 4/10\n",
      "1194/1194 [==============================] - 1s 1ms/step - loss: 0.0044 - accuracy: 0.9990\n",
      "Epoch 5/10\n",
      "1194/1194 [==============================] - 1s 1ms/step - loss: 0.0046 - accuracy: 0.9987\n",
      "Epoch 6/10\n",
      "1194/1194 [==============================] - 2s 1ms/step - loss: 0.0044 - accuracy: 0.9992\n",
      "Epoch 7/10\n",
      "1194/1194 [==============================] - 2s 1ms/step - loss: 0.0043 - accuracy: 0.9988\n",
      "Epoch 8/10\n",
      "1194/1194 [==============================] - 2s 1ms/step - loss: 0.0037 - accuracy: 0.9992\n",
      "Epoch 9/10\n",
      "1194/1194 [==============================] - 2s 2ms/step - loss: 0.0043 - accuracy: 0.9992\n",
      "Epoch 10/10\n",
      "1194/1194 [==============================] - 2s 1ms/step - loss: 0.0041 - accuracy: 0.9993\n"
     ]
    },
    {
     "data": {
      "text/plain": [
       "<tensorflow.python.keras.callbacks.History at 0x1aa39d1908>"
      ]
     },
     "execution_count": 650,
     "metadata": {},
     "output_type": "execute_result"
    }
   ],
   "source": [
    "\n",
    "#tensor_model = tf.keras.Sequential()\n",
    "tensor_model = tf.keras.Sequential([tf.keras.layers.Dense(17, activation=tf.nn.relu, input_shape=(17,)),\\\n",
    "                                    tf.keras.layers.Dense(8, activation=tf.nn.relu),\\\n",
    "                                    tf.keras.layers.Dense(1)])\n",
    "\n",
    "tensor_model.compile(optimizer='adam', loss=tf.keras.losses.BinaryCrossentropy(from_logits=True), metrics=['accuracy'])\n",
    "tensor_model.fit(X_train, Y_train, batch_size=5, epochs=10)\n"
   ]
  },
  {
   "cell_type": "code",
   "execution_count": 577,
   "metadata": {},
   "outputs": [
    {
     "name": "stdout",
     "output_type": "stream",
     "text": [
      "Model: \"sequential_12\"\n",
      "_________________________________________________________________\n",
      "Layer (type)                 Output Shape              Param #   \n",
      "=================================================================\n",
      "dense_21 (Dense)             (None, 16)                272       \n",
      "_________________________________________________________________\n",
      "dense_22 (Dense)             (None, 10)                170       \n",
      "_________________________________________________________________\n",
      "dense_23 (Dense)             (None, 1)                 11        \n",
      "=================================================================\n",
      "Total params: 453\n",
      "Trainable params: 453\n",
      "Non-trainable params: 0\n",
      "_________________________________________________________________\n"
     ]
    }
   ],
   "source": [
    "tensor_model.summary()"
   ]
  },
  {
   "cell_type": "code",
   "execution_count": 149,
   "metadata": {},
   "outputs": [],
   "source": [
    "#pk.dump( clf, open( \"../data/svm_1.pkl\", \"wb\" ) )"
   ]
  },
  {
   "cell_type": "markdown",
   "metadata": {},
   "source": [
    "Now test the classifier with new strings "
   ]
  },
  {
   "cell_type": "code",
   "execution_count": 630,
   "metadata": {},
   "outputs": [],
   "source": [
    "# positive testing \n",
    "test_1 = test[test['Y'] == 1]"
   ]
  },
  {
   "cell_type": "code",
   "execution_count": 660,
   "metadata": {},
   "outputs": [],
   "source": [
    "data_inventory = test_1['str_1'].tolist()+['INTEL CO.', 'BIU297H', '5 Time Sqaure, New York, NY']\n",
    "TESTING_STRING = test_1['str_2'].tolist()+['GYU8/78', '5 Time Square, NY, NY 10036', 'CITIZENS, INC.', 'Wichita, Kansas']#[-3:]"
   ]
  },
  {
   "cell_type": "code",
   "execution_count": 646,
   "metadata": {},
   "outputs": [
    {
     "name": "stdout",
     "output_type": "stream",
     "text": [
      "['Downpatrick, Great Britain', 'Soham, GB', 'Kingston, ENG, GB', 'Jonesboro, Maine', '94423 Armistice Plaza, Wolcott, CA 97604', '256 Elka Dr, Tishomingo, Texas 28402', 'Hayling Island, GB', '4857 Vera Way, Hertford, ENG, NG34, UK', '67 Farragut Dr, Esher, ENG, LE15', '16079 Toban Way, Ullapool, Scotland', 'Delphos, OH, USA', 'Highlands, North Carolina', 'Olivette, MO', 'INTEL CO.', 'BIU297H', '5 Time Sqaure, New York, NY']\n",
      "['Downpatrick, NIR, GB', 'Soham, ENG, UK', 'Kingston, Great Britain', 'Jonesboro, Maine, United States', '94423 Armistice Plaza, Wolcott, CA 97604, USA', '256 Elka Dr, Tishomingo, Texas', 'Hayling Island, United Kingdom', '4857 Vera Way, Hertford, ENG, NG34', '67 Farragut Dr, Esher, ENG', '16079 Toban Way, Ullapool, SCT', 'Delphos, Ohio, US', 'Highlands, NC, USA', 'Olivette, Missouri', 'GYU8/78', '5 Time Square, NY, NY 10036']\n"
     ]
    }
   ],
   "source": [
    "print (data_inventory)\n",
    "print(TESTING_STRING)"
   ]
  },
  {
   "cell_type": "code",
   "execution_count": 661,
   "metadata": {},
   "outputs": [],
   "source": [
    "testing_df = pd.DataFrame()\n",
    "testing_df['str_1'] = data_inventory\n",
    "testing_df = process_df(testing_df, col_list = ['str_1'], build_X = False)\n",
    "\n",
    "def print_res(data_inv_df, testing_list, model): \n",
    "    for testing_str in testing_list: \n",
    "        data_inv_df['str_2'] = testing_str\n",
    "        new_df = process_df(data_inv_df, ['str_2'], build_X = True)\n",
    "        X_test = np.array(new_df['X'].tolist())\n",
    "        P = model.predict(X_test)\n",
    "\n",
    "        new_df['predicted'] = P.tolist()\n",
    "        \n",
    "        entity_list = new_df[new_df.predicted==1]['str_1'].tolist()\n",
    "        if len(entity_list)>0: \n",
    "            print (testing_str, ':', entity_list)\n",
    "        if P.sum() == 0: \n",
    "            print (testing_str, ':', 'NEW ENTITY!')"
   ]
  },
  {
   "cell_type": "code",
   "execution_count": 662,
   "metadata": {},
   "outputs": [
    {
     "name": "stdout",
     "output_type": "stream",
     "text": [
      "Downpatrick, NIR, GB : ['Downpatrick, Great Britain']\n",
      "Soham, ENG, UK : ['Soham, GB']\n",
      "Kingston, Great Britain : ['Downpatrick, Great Britain', 'Kingston, ENG, GB']\n",
      "Jonesboro, Maine, United States : ['Jonesboro, Maine']\n",
      "94423 Armistice Plaza, Wolcott, CA 97604, USA : ['94423 Armistice Plaza, Wolcott, CA 97604']\n",
      "256 Elka Dr, Tishomingo, Texas : ['256 Elka Dr, Tishomingo, Texas 28402']\n",
      "Hayling Island, United Kingdom : ['Hayling Island, GB']\n",
      "4857 Vera Way, Hertford, ENG, NG34 : ['4857 Vera Way, Hertford, ENG, NG34, UK']\n",
      "67 Farragut Dr, Esher, ENG : ['67 Farragut Dr, Esher, ENG, LE15']\n",
      "16079 Toban Way, Ullapool, SCT : ['16079 Toban Way, Ullapool, Scotland']\n",
      "Delphos, Ohio, US : ['Delphos, OH, USA']\n",
      "Highlands, NC, USA : ['Highlands, North Carolina']\n",
      "Olivette, Missouri : ['Olivette, MO']\n",
      "GYU8/78 : ['BIU297H']\n",
      "5 Time Square, NY, NY 10036 : ['5 Time Sqaure, New York, NY']\n",
      "CITIZENS, INC. : ['INTEL CO.']\n",
      "Wichita, Kansas : ['Downpatrick, Great Britain', 'Highlands, North Carolina']\n"
     ]
    }
   ],
   "source": [
    "print_res(testing_df, TESTING_STRING, clf_tree) #good: clf, clf_tree, clf_tree"
   ]
  },
  {
   "cell_type": "code",
   "execution_count": 638,
   "metadata": {},
   "outputs": [],
   "source": [
    "# negative testing \n",
    "test_2 = test[test['Y'] == 0]\n",
    "data_inventory = test_2['str_1'].tolist()\n",
    "TESTING_STRING = test_2['str_2'].tolist()\n",
    "testing_df = pd.DataFrame()\n",
    "testing_df['str_1'] = data_inventory \n",
    "testing_df = process_df(testing_df, col_list = ['str_1'], build_X = False)"
   ]
  },
  {
   "cell_type": "code",
   "execution_count": 639,
   "metadata": {},
   "outputs": [
    {
     "name": "stdout",
     "output_type": "stream",
     "text": [
      "['MOLECULIN BIOTECH, INC.', 'CITIZENS, INC.', 'Luton, ENG, GB', 'INOTEK PHARMACEUTICALS Corp.', 'San Ardo, CA', '0566 Orin Lane, Castleford, ENG', 'Droitwich Spa, ENG, GB', 'Jeffers, Minnesota', 'SODASTREAM INTERNATIONAL LTD.', '6689 Harper Trail, Stroud, ENG, WC1B, UK', 'Wilcox, Nebraska, US', 'Franconia, Pennsylvania, US', '826 Eliot Ctr, Plain, IN 65194', '97208 Fordem Junction, Spiceland, New York', 'La Center, KY', '038 Hoard Drive, Shipley, ENG', '6 Garrison Plz, Lumberton, Florida 17429, USA']\n"
     ]
    }
   ],
   "source": [
    "print(data_inventory)"
   ]
  },
  {
   "cell_type": "code",
   "execution_count": 640,
   "metadata": {},
   "outputs": [
    {
     "name": "stdout",
     "output_type": "stream",
     "text": [
      "LIBERTY MEDIA Corp. : ['INOTEK PHARMACEUTICALS Corp.']\n",
      "LCNB CORPORATION : []\n",
      "Sawtry, United Kingdom : []\n",
      "A V HOMES, Incorporated : []\n",
      "1 Weeping Hl Hill, Mount Olivet, LA 25647 : ['826 Eliot Ctr, Plain, IN 65194']\n",
      "86464 Lyons Pass, Spotswood, HI : ['0566 Orin Lane, Castleford, ENG', '6689 Harper Trail, Stroud, ENG, WC1B, UK', '826 Eliot Ctr, Plain, IN 65194', '038 Hoard Drive, Shipley, ENG']\n",
      "Dixon, Illinois, US : ['Franconia, Pennsylvania, US']\n",
      "Bainbridge Island, Washington, US : ['Wilcox, Nebraska, US', 'Franconia, Pennsylvania, US']\n",
      "Grand Coteau, LA : ['La Center, KY']\n",
      "013 Prairie Dr Drive, Roslyn, Louisiana 85348, USA : ['038 Hoard Drive, Shipley, ENG', '6 Garrison Plz, Lumberton, Florida 17429, USA']\n",
      "Glen Head, New York, US : []\n",
      "Wichita, Kansas : []\n",
      "SIBANYE GOLD Ltd. : ['SODASTREAM INTERNATIONAL LTD.']\n",
      "INVESTORS BANCORP, Incorporated : ['INOTEK PHARMACEUTICALS Corp.']\n",
      "Simsbury, CT : []\n",
      "69007 Vidon Jct, Bridge of Weir, England, BS37 : ['0566 Orin Lane, Castleford, ENG', '6689 Harper Trail, Stroud, ENG, WC1B, UK', '826 Eliot Ctr, Plain, IN 65194', '97208 Fordem Junction, Spiceland, New York', '038 Hoard Drive, Shipley, ENG']\n",
      "Thief River Falls, Minnesota, United States : ['Jeffers, Minnesota']\n"
     ]
    }
   ],
   "source": [
    "print_res(testing_df, TESTING_STRING, clf)"
   ]
  },
  {
   "cell_type": "code",
   "execution_count": null,
   "metadata": {},
   "outputs": [],
   "source": []
  },
  {
   "cell_type": "code",
   "execution_count": 259,
   "metadata": {},
   "outputs": [
    {
     "name": "stdout",
     "output_type": "stream",
     "text": [
      "INTEL CO : ['Pepsi Co.', 'INTEL CORPORATION']\n",
      "IBM Corporation : ['INTEL CORPORATION']\n",
      "Shanghai, China : ['Pepsi Co.', 'United States of America', 'VERO BEACH, FLORIDA', 'Los Angeles, CA', 'RYLAND GROUP INC.', 'INTEL CORPORATION', '44 CHINA ROAD, KOWLOON, HONG KONG']\n",
      "Allentown, PA, USA : ['Allentown, Pennsylvania']\n",
      "Seoul, SK : ['Pepsi Co.', 'Los Angeles, CA', 'RYLAND GROUP INC.', 'Ernst & Young LLP']\n",
      "GYU671A3 : ['5 Time Sqaure, New York, NY 10036', '44 CHINA ROAD, KOWLOON, HONG KONG', 'ICNAO02312']\n",
      "M&S Limited : ['Marks and Spencers Ltd', 'Los Angeles, CA', 'Ernst & Young LLP']\n",
      "Pepsico : ['Pepsi Co.']\n",
      "5 Time Sqaure, NY, NY : ['5 Time Sqaure, New York, NY 10036']\n"
     ]
    }
   ],
   "source": [
    "for testing_str in TESTING_STR_TRUE: \n",
    "    new_df = pd.DataFrame({'str_1': data_inventory.tolist()})\n",
    "    new_df['str_2'] = testing_str\n",
    "    new_df = process_df(new_df)\n",
    "    X_test = np.array(new_df['X'].tolist())\n",
    "    P = clf_pf.predict(X_test)\n",
    "    new_df['clf'] = P.tolist()\n",
    "    entity_list = new_df[new_df.clf==1]['str_1'].tolist()\n",
    "    print (testing_str, ':', entity_list)"
   ]
  },
  {
   "cell_type": "code",
   "execution_count": 260,
   "metadata": {},
   "outputs": [
    {
     "name": "stdout",
     "output_type": "stream",
     "text": [
      "Apple Inc. : ['Pepsi Co.', 'Marks and Spencers Ltd', 'Los Angeles, CA', 'RYLAND GROUP INC.', 'INTEL CORPORATION']\n",
      "Sunrise Corporation : ['INTEL CORPORATION']\n",
      "Palm Beach, FL : ['VERO BEACH, FLORIDA', 'Los Angeles, CA']\n",
      "Toronto, Canada : ['LONDON', 'VERO BEACH, FLORIDA', 'Marks and Spencers Ltd', 'Los Angeles, CA', 'INTEL CORPORATION']\n",
      "Austin, TX : ['INTEL CORPORATION']\n",
      "PwC LLP : ['Ernst & Young LLP']\n"
     ]
    }
   ],
   "source": [
    "for testing_str in TESTING_STR_FALSE: \n",
    "    new_df = pd.DataFrame({'str_1': data_inventory.tolist()})\n",
    "    new_df['str_2'] = testing_str\n",
    "    new_df = process_df(new_df)\n",
    "    X_test = np.array(new_df['X'].tolist())\n",
    "    P = clf_pf.predict(X_test)\n",
    "    new_df['clf'] = P.tolist()\n",
    "    entity_list = new_df[new_df.clf==1]['str_1'].tolist()\n",
    "    print (testing_str, ':', entity_list)"
   ]
  },
  {
   "cell_type": "code",
   "execution_count": 261,
   "metadata": {},
   "outputs": [
    {
     "data": {
      "text/plain": [
       "(21889, 17)"
      ]
     },
     "execution_count": 261,
     "metadata": {},
     "output_type": "execute_result"
    }
   ],
   "source": [
    "X_train.shape"
   ]
  },
  {
   "cell_type": "code",
   "execution_count": null,
   "metadata": {},
   "outputs": [],
   "source": []
  },
  {
   "cell_type": "code",
   "execution_count": null,
   "metadata": {},
   "outputs": [],
   "source": []
  },
  {
   "cell_type": "code",
   "execution_count": null,
   "metadata": {},
   "outputs": [],
   "source": []
  },
  {
   "cell_type": "markdown",
   "metadata": {},
   "source": [
    "### Archive"
   ]
  },
  {
   "cell_type": "code",
   "execution_count": 687,
   "metadata": {},
   "outputs": [],
   "source": [
    "# Warp - Preprocess and get vector features (303,), return dictionary \n",
    "def get_feature_vector_303(string_input): \n",
    "    new_string_dict = { i : '' for i in df.columns}\n",
    "    token = get_tokens(string_input)\n",
    "    word_vec_google = get_vector(token)\n",
    "    word_cnt = get_word_cnt(token)\n",
    "    char_cnt = get_char_cnt(token)\n",
    "    com_flag = get_company_flag(token)\n",
    "    extra_features = np.array([word_cnt, char_cnt, com_flag])\n",
    "    v = np.append(word_vec_google, extra_features)\n",
    "    \n",
    "    new_string_dict['text'] = string_input\n",
    "    new_string_dict['clean_token'] = token\n",
    "    new_string_dict['clean_string'] = ' '.join(token)\n",
    "    new_string_dict['vecter_300'] = word_vec_google\n",
    "    new_string_dict['word_count'] = word_cnt\n",
    "    new_string_dict['char_count'] = char_cnt\n",
    "    new_string_dict['company_str'] = com_flag\n",
    "    new_string_dict['new_feature_concat'] = v\n",
    "    #v = scale_mat(v.reshape(-1,1),'MinMax')\n",
    "    return new_string_dict"
   ]
  },
  {
   "cell_type": "code",
   "execution_count": 1114,
   "metadata": {},
   "outputs": [],
   "source": [
    "def scaler_for_df(df, scale_type): \n",
    "    df_array = np.array(df['new_feature_concat'].tolist())\n",
    "    df_array = scale_mat(df_array,scale_type)\n",
    "    return df_array"
   ]
  },
  {
   "cell_type": "code",
   "execution_count": 749,
   "metadata": {},
   "outputs": [
    {
     "data": {
      "text/html": [
       "<div>\n",
       "<style scoped>\n",
       "    .dataframe tbody tr th:only-of-type {\n",
       "        vertical-align: middle;\n",
       "    }\n",
       "\n",
       "    .dataframe tbody tr th {\n",
       "        vertical-align: top;\n",
       "    }\n",
       "\n",
       "    .dataframe thead th {\n",
       "        text-align: right;\n",
       "    }\n",
       "</style>\n",
       "<table border=\"1\" class=\"dataframe\">\n",
       "  <thead>\n",
       "    <tr style=\"text-align: right;\">\n",
       "      <th></th>\n",
       "      <th>text</th>\n",
       "      <th>clean_token</th>\n",
       "      <th>vecter_300</th>\n",
       "      <th>word_count</th>\n",
       "      <th>char_count</th>\n",
       "      <th>company_str</th>\n",
       "      <th>new_feature_concat</th>\n",
       "      <th>2D</th>\n",
       "      <th>clean_string</th>\n",
       "    </tr>\n",
       "  </thead>\n",
       "  <tbody>\n",
       "    <tr>\n",
       "      <th>0</th>\n",
       "      <td>Marks and Spencers Ltd</td>\n",
       "      <td>[marks, and, spencers, ltd]</td>\n",
       "      <td>[-0.081870556, -0.028320312, -0.05102539, 0.10...</td>\n",
       "      <td>4</td>\n",
       "      <td>19</td>\n",
       "      <td>1</td>\n",
       "      <td>[-0.08187055587768555, -0.0283203125, -0.05102...</td>\n",
       "      <td>[-0.3339800956502091, -0.35841218689219334]</td>\n",
       "      <td>marks and spencers ltd</td>\n",
       "    </tr>\n",
       "    <tr>\n",
       "      <th>1</th>\n",
       "      <td>M&amp;S Limited</td>\n",
       "      <td>[m, &amp;, s, limited]</td>\n",
       "      <td>[-0.15039062, 0.09075928, -0.11743164, 0.13623...</td>\n",
       "      <td>4</td>\n",
       "      <td>10</td>\n",
       "      <td>1</td>\n",
       "      <td>[-0.150390625, 0.09075927734375, -0.1174316406...</td>\n",
       "      <td>[-0.5162413962301977, -0.026243635885206534]</td>\n",
       "      <td>m &amp; s limited</td>\n",
       "    </tr>\n",
       "  </tbody>\n",
       "</table>\n",
       "</div>"
      ],
      "text/plain": [
       "                     text                  clean_token  \\\n",
       "0  Marks and Spencers Ltd  [marks, and, spencers, ltd]   \n",
       "1             M&S Limited           [m, &, s, limited]   \n",
       "\n",
       "                                          vecter_300  word_count  char_count  \\\n",
       "0  [-0.081870556, -0.028320312, -0.05102539, 0.10...           4          19   \n",
       "1  [-0.15039062, 0.09075928, -0.11743164, 0.13623...           4          10   \n",
       "\n",
       "   company_str                                 new_feature_concat  \\\n",
       "0            1  [-0.08187055587768555, -0.0283203125, -0.05102...   \n",
       "1            1  [-0.150390625, 0.09075927734375, -0.1174316406...   \n",
       "\n",
       "                                             2D            clean_string  \n",
       "0   [-0.3339800956502091, -0.35841218689219334]  marks and spencers ltd  \n",
       "1  [-0.5162413962301977, -0.026243635885206534]           m & s limited  "
      ]
     },
     "execution_count": 749,
     "metadata": {},
     "output_type": "execute_result"
    }
   ],
   "source": [
    "df.head(2)"
   ]
  },
  {
   "cell_type": "code",
   "execution_count": 1054,
   "metadata": {},
   "outputs": [],
   "source": [
    "test_string = 'London United Kingdom'\n",
    "test_dict = get_feature_vector_303(test_string)"
   ]
  },
  {
   "cell_type": "code",
   "execution_count": 1055,
   "metadata": {},
   "outputs": [],
   "source": [
    "df = df.append(test_dict, ignore_index=True)"
   ]
  },
  {
   "cell_type": "code",
   "execution_count": 1060,
   "metadata": {},
   "outputs": [],
   "source": [
    "# return a list of characteristics features\n",
    "def get_char_features(updated_df, new_string_dict): \n",
    "    return_list = []\n",
    "    for idx, row in updated_df.iterrows(): \n",
    "        append_list = []\n",
    "        append_list.append(row['word_count']-new_string_dict['word_count']) # word count difference\n",
    "        append_list.append(row['char_count']-new_string_dict['char_count']) # character count difference\n",
    "        append_list.append(len(set(row['clean_token']).intersection(set(new_string_dict['clean_token'])))) # common word\n",
    "        append_list.append(fuzz.ratio(row['clean_string'], new_string_dict['clean_string'])) # fuzz ratio\n",
    "        append_list.append(fuzz.partial_ratio(row['clean_string'], new_string_dict['clean_string'])) # fuzz partical\n",
    "        append_list.append(fuzz.token_set_ratio(row['clean_string'], new_string_dict['clean_string'])) # fuzz token set\n",
    "        return_list.append(append_list)\n",
    "    return return_list"
   ]
  },
  {
   "cell_type": "code",
   "execution_count": 1057,
   "metadata": {},
   "outputs": [],
   "source": [
    "vector_matrix = np.array(df['new_feature_concat'].tolist())\n",
    "vector_matrix = scale_mat(vector_matrix, 'MinMax')\n",
    "vals_pca = sklearn_pca.fit_transform(vector_matrix)\n",
    "df['2D'] = vals_pca.tolist()"
   ]
  },
  {
   "cell_type": "code",
   "execution_count": 1058,
   "metadata": {},
   "outputs": [],
   "source": [
    "# return s list of distance features\n",
    "# input df after appeding the new string because need to do PCA \n",
    "def get_dist_features(updated_df): \n",
    "    new_vec = updated_df.tail(1)['2D'].to_numpy()[0]\n",
    "    old_vec = updated_df['2D']\n",
    "    return_list = []\n",
    "    for v in old_vec: \n",
    "        #print (updated_df.iat[i,0], i)\n",
    "        v = np.array(v)\n",
    "        append_list = []\n",
    "        append_list.append(D.cosine(v, new_vec))\n",
    "        append_list.append(D.euclidean(v, new_vec))\n",
    "        append_list.append(D.cityblock(v, new_vec))\n",
    "        append_list.append(D.minkowski(v, new_vec))\n",
    "        return_list.append(append_list)\n",
    "    return return_list"
   ]
  },
  {
   "cell_type": "code",
   "execution_count": 1061,
   "metadata": {},
   "outputs": [],
   "source": [
    "char_v = get_char_features(df, test_dict)\n",
    "dist_v = get_dist_features(df)"
   ]
  },
  {
   "cell_type": "code",
   "execution_count": 1062,
   "metadata": {},
   "outputs": [],
   "source": [
    "# concat and normlize X \n",
    "def process_X(c_v, d_v): \n",
    "    return_list = []\n",
    "    for i in range(len(c_v)): \n",
    "        return_list.append(c_v[i]+d_v[i])\n",
    "    mat = np.array(return_list)\n",
    "    mat = scale_mat(mat, 'MinMax')\n",
    "    return mat"
   ]
  },
  {
   "cell_type": "code",
   "execution_count": 1069,
   "metadata": {},
   "outputs": [],
   "source": [
    "# update training df\n",
    "train_df = pd.DataFrame(columns = ['str_1', 'str_2', 'X', 'Y'])\n",
    "train_df['str_1'] = df['text']\n",
    "train_df['str_2'] = test_string"
   ]
  },
  {
   "cell_type": "code",
   "execution_count": 1070,
   "metadata": {},
   "outputs": [],
   "source": [
    "X = process_X(char_v, dist_v)"
   ]
  },
  {
   "cell_type": "code",
   "execution_count": 1071,
   "metadata": {},
   "outputs": [
    {
     "data": {
      "text/plain": [
       "((34, 9), (34, 4))"
      ]
     },
     "execution_count": 1071,
     "metadata": {},
     "output_type": "execute_result"
    }
   ],
   "source": [
    "df.shape, train_df.shape"
   ]
  },
  {
   "cell_type": "code",
   "execution_count": 1072,
   "metadata": {},
   "outputs": [],
   "source": [
    "train_df['X'] = X.tolist()"
   ]
  },
  {
   "cell_type": "code",
   "execution_count": 1075,
   "metadata": {},
   "outputs": [],
   "source": [
    "# label data\n",
    "train_df['Y'] = 0\n",
    "train_df.iat[10,3] = 1\n",
    "train_df.iat[33,3] = 1"
   ]
  },
  {
   "cell_type": "code",
   "execution_count": 1077,
   "metadata": {},
   "outputs": [],
   "source": [
    "train_df_2 = train_df"
   ]
  },
  {
   "cell_type": "code",
   "execution_count": 1052,
   "metadata": {},
   "outputs": [],
   "source": [
    "train_df_1 = train_df"
   ]
  },
  {
   "cell_type": "code",
   "execution_count": 1078,
   "metadata": {},
   "outputs": [],
   "source": [
    "all_train = pd.concat([train_df_1, train_df_2])"
   ]
  },
  {
   "cell_type": "code",
   "execution_count": 1087,
   "metadata": {},
   "outputs": [],
   "source": [
    "X = np.array(all_train['X'].tolist())"
   ]
  },
  {
   "cell_type": "code",
   "execution_count": 1088,
   "metadata": {},
   "outputs": [
    {
     "data": {
      "text/plain": [
       "(67, 10)"
      ]
     },
     "execution_count": 1088,
     "metadata": {},
     "output_type": "execute_result"
    }
   ],
   "source": [
    "X.shape"
   ]
  },
  {
   "cell_type": "code",
   "execution_count": 1090,
   "metadata": {},
   "outputs": [
    {
     "data": {
      "text/plain": [
       "SVC()"
      ]
     },
     "execution_count": 1090,
     "metadata": {},
     "output_type": "execute_result"
    }
   ],
   "source": []
  },
  {
   "cell_type": "code",
   "execution_count": 1035,
   "metadata": {},
   "outputs": [
    {
     "data": {
      "text/plain": [
       "(33, 5)"
      ]
     },
     "execution_count": 1035,
     "metadata": {},
     "output_type": "execute_result"
    }
   ],
   "source": [
    "train_df.shape"
   ]
  },
  {
   "cell_type": "code",
   "execution_count": 1115,
   "metadata": {},
   "outputs": [
    {
     "name": "stdout",
     "output_type": "stream",
     "text": [
      "(35, 10)\n"
     ]
    }
   ],
   "source": [
    "# try out the classifier \n",
    "try_string = 'vb, florida'\n",
    "try_dict = get_feature_vector_303(try_string)\n",
    "try_df = df.append(try_dict, ignore_index=True)\n",
    "\n",
    "#vector_matrix = np.array(try_df['new_feature_concat'].tolist())\n",
    "#vector_matrix = scale_mat(vector_matrix, 'MinMax')\n",
    "vector_matrix = scaler_for_df(try_df, 'MinMax')\n",
    "vals_pca = sklearn_pca.fit_transform(vector_matrix)\n",
    "\n",
    "try_df['2D'] = vals_pca.tolist()\n",
    "try_char_v = get_char_features(try_df, test_dict)\n",
    "try_dist_v = get_dist_features(try_df)\n",
    "try_X = process_X(try_char_v, try_dist_v)\n",
    "\n",
    "print (try_X.shape)\n",
    "\n",
    "new_train = pd.DataFrame()\n",
    "new_train['str_1'] = try_df['text']\n",
    "new_train['str_2'] = try_string\n"
   ]
  },
  {
   "cell_type": "code",
   "execution_count": 1104,
   "metadata": {},
   "outputs": [],
   "source": [
    "P = clf.predict(try_X)"
   ]
  },
  {
   "cell_type": "code",
   "execution_count": 1105,
   "metadata": {},
   "outputs": [],
   "source": [
    "new_train['clf'] = P.tolist()"
   ]
  },
  {
   "cell_type": "code",
   "execution_count": 838,
   "metadata": {},
   "outputs": [
    {
     "data": {
      "text/plain": [
       "\"\\nfor idx, row in my_df.iterrows(): \\n    my_dict = row.to_dict()\\n    character_list = []\\n    character_list.append(my_dict['word_cnt']-test_w_cnt) \\n    character_list.append(my_dict['char_cnt']-test_c_cnt) \\n    character_list.append(len(set(my_dict['clean_token']).intersection(set(test_token)))) # number of common word\\n    character_list.append(fuzz.ratio(my_dict['clean_string'], test_clean_string)) # fuzz ratio\\n    character_list.append(fuzz.partial_ratio(my_dict['clean_string'], test_clean_string)) # fuzz partical\\n    character_list.append(fuzz.token_set_ratio(my_dict['clean_string'], test_clean_string))\\n    character_list.append(fuzz.token_sort_ratio(my_dict['clean_string'], test_clean_string))\\n    character_list.append(fuzz.partial_token_set_ratio(my_dict['clean_string'], test_clean_string))\\n    character_list.append(fuzz.partial_token_sort_ratio(my_dict['clean_string'], test_clean_string))\\n    print (character_list)\\n\""
      ]
     },
     "execution_count": 838,
     "metadata": {},
     "output_type": "execute_result"
    }
   ],
   "source": [
    "'''\n",
    "for idx, row in my_df.iterrows(): \n",
    "    my_dict = row.to_dict()\n",
    "    character_list = []\n",
    "    character_list.append(my_dict['word_cnt']-test_w_cnt) \n",
    "    character_list.append(my_dict['char_cnt']-test_c_cnt) \n",
    "    character_list.append(len(set(my_dict['clean_token']).intersection(set(test_token)))) # number of common word\n",
    "    character_list.append(fuzz.ratio(my_dict['clean_string'], test_clean_string)) # fuzz ratio\n",
    "    character_list.append(fuzz.partial_ratio(my_dict['clean_string'], test_clean_string)) # fuzz partical\n",
    "    character_list.append(fuzz.token_set_ratio(my_dict['clean_string'], test_clean_string))\n",
    "    character_list.append(fuzz.token_sort_ratio(my_dict['clean_string'], test_clean_string))\n",
    "    character_list.append(fuzz.partial_token_set_ratio(my_dict['clean_string'], test_clean_string))\n",
    "    character_list.append(fuzz.partial_token_sort_ratio(my_dict['clean_string'], test_clean_string))\n",
    "    print (character_list)\n",
    "'''"
   ]
  },
  {
   "cell_type": "code",
   "execution_count": 515,
   "metadata": {},
   "outputs": [],
   "source": [
    "# return a matrix of all kinds of distances \n",
    "def get_all_dist(v1, v2): \n",
    "    dist_list = []\n",
    "    dist_list.append(D.cosine(v1, v2))\n",
    "    dist_list.append(D.euclidean((v1, v2)))\n",
    "    return np.array(dist_list)"
   ]
  },
  {
   "cell_type": "code",
   "execution_count": 403,
   "metadata": {},
   "outputs": [
    {
     "name": "stdout",
     "output_type": "stream",
     "text": [
      "(303, 1)\n"
     ]
    },
    {
     "data": {
      "text/plain": [
       "0.018331223903671368"
      ]
     },
     "execution_count": 403,
     "metadata": {},
     "output_type": "execute_result"
    }
   ],
   "source": [
    "get_cosine_dist(init_vector, test_vector)"
   ]
  },
  {
   "cell_type": "code",
   "execution_count": null,
   "metadata": {},
   "outputs": [],
   "source": []
  },
  {
   "cell_type": "code",
   "execution_count": 333,
   "metadata": {},
   "outputs": [],
   "source": [
    "\n",
    "a = df.iloc[0,3]\n",
    "b = df.iloc[1,3]\n",
    "cos_sim = dot(a, b)/(norm(a)*norm(b))"
   ]
  },
  {
   "cell_type": "code",
   "execution_count": 334,
   "metadata": {},
   "outputs": [
    {
     "data": {
      "text/plain": [
       "0.8627565141838561"
      ]
     },
     "execution_count": 334,
     "metadata": {},
     "output_type": "execute_result"
    }
   ],
   "source": [
    "cos_sim"
   ]
  },
  {
   "cell_type": "code",
   "execution_count": null,
   "metadata": {},
   "outputs": [],
   "source": [
    "df.iloc[2,0]"
   ]
  },
  {
   "cell_type": "code",
   "execution_count": null,
   "metadata": {},
   "outputs": [],
   "source": [
    "from scipy import spatial\n",
    "\n",
    "result = 1-spatial.distance.cosine(a, b)"
   ]
  },
  {
   "cell_type": "code",
   "execution_count": null,
   "metadata": {},
   "outputs": [],
   "source": [
    "print (w2v.distance('corporation', 'co'))\n",
    "print (w2v.wmdistance('corporation', 'co'))\n",
    "print (w2v_norm.distance('corporation', 'co'))\n",
    "print (w2v_norm.wmdistance('corporation', 'co'))\n",
    "'''\n",
    "def compute_similarity(s1, s2):\n",
    "    return 1.0 - (0.01 * max(fuzz.ratio(s1, s2),fuzz.token_sort_ratio(s1, s2),fuzz.token_set_ratio(s1, s2)))\n",
    "compute_similarity('INTELCORPORATION', 'INTELCO')\n",
    "'''"
   ]
  },
  {
   "cell_type": "code",
   "execution_count": null,
   "metadata": {},
   "outputs": [],
   "source": [
    "# add distance \n",
    "def get_distance(v1, v2): \n",
    "    return w2v.distance(a, b)\n",
    "\n",
    "# add Word Mover's Distance\n",
    "def get_WMD(v1, v2): \n",
    "    return w2v_norm.wmdistance(a, b)\n",
    "\n",
    "def get_word_delta(tokens_1, tokens_2): \n",
    "    return "
   ]
  },
  {
   "cell_type": "code",
   "execution_count": null,
   "metadata": {},
   "outputs": [],
   "source": [
    "def dist_metric(a, b):\n",
    "    sim = np.isnan(dot(a, b)/(norm(a)*norm(b)))\n",
    "    if sim == False:\n",
    "        return dot(a, b)/(norm(a)*norm(b))"
   ]
  }
 ],
 "metadata": {
  "kernelspec": {
   "display_name": "Python 3",
   "language": "python",
   "name": "python3"
  },
  "language_info": {
   "codemirror_mode": {
    "name": "ipython",
    "version": 3
   },
   "file_extension": ".py",
   "mimetype": "text/x-python",
   "name": "python",
   "nbconvert_exporter": "python",
   "pygments_lexer": "ipython3",
   "version": "3.6.10"
  }
 },
 "nbformat": 4,
 "nbformat_minor": 4
}
