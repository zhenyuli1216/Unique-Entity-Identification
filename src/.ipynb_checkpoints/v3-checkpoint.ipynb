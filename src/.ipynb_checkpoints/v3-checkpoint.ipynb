{
 "cells": [
  {
   "cell_type": "code",
   "execution_count": 4,
   "metadata": {},
   "outputs": [],
   "source": [
    "import pandas as pd\n",
    "import matplotlib.pyplot as plt\n",
    "import string\n",
    "import re\n",
    "import numpy as np\n",
    "from numpy.linalg import norm\n",
    "import pickle as pk\n",
    "import time\n",
    "from fuzzywuzzy import fuzz\n",
    "import nltk\n",
    "from nltk.tokenize import word_tokenize \n",
    "from nltk.corpus import stopwords \n",
    "import gensim\n",
    "import gensim.downloader as api\n",
    "from gensim.models import Word2Vec, KeyedVectors\n",
    "from scipy.cluster import  hierarchy\n",
    "import scipy.spatial.distance as D\n",
    "from sklearn.decomposition import PCA\n",
    "from sklearn import svm\n",
    "from sklearn import preprocessing\n",
    "from sklearn.utils import shuffle\n",
    "from sklearn.model_selection import GridSearchCV\n",
    "from sklearn.model_selection import train_test_split"
   ]
  },
  {
   "cell_type": "markdown",
   "metadata": {},
   "source": [
    "## Load pretrained Word2Vec"
   ]
  },
  {
   "cell_type": "code",
   "execution_count": null,
   "metadata": {},
   "outputs": [],
   "source": [
    "#model = api.load(\"word2vec-google-news-300\")"
   ]
  },
  {
   "cell_type": "code",
   "execution_count": 5,
   "metadata": {},
   "outputs": [],
   "source": [
    "model_path = api.load(\"word2vec-google-news-300\", return_path=True)"
   ]
  },
  {
   "cell_type": "code",
   "execution_count": 6,
   "metadata": {},
   "outputs": [],
   "source": [
    "w2v = KeyedVectors.load_word2vec_format(model_path, binary= True)"
   ]
  },
  {
   "cell_type": "code",
   "execution_count": 91,
   "metadata": {},
   "outputs": [],
   "source": [
    "# normalized model so we can use wmdistance later\n",
    "w2v_norm = KeyedVectors.load_word2vec_format(model_path, binary= True)\n",
    "w2v_norm.init_sims(replace=True)"
   ]
  },
  {
   "cell_type": "markdown",
   "metadata": {},
   "source": [
    "## Load labeled data"
   ]
  },
  {
   "cell_type": "code",
   "execution_count": 841,
   "metadata": {},
   "outputs": [],
   "source": [
    "labeled = pd.read_csv('../data/traning_v5.csv') \n",
    "labeled = labeled.dropna()\n",
    "labeled = labeled.drop_duplicates()\n",
    "labeled = shuffle(labeled)\n",
    "labeled = labeled.head(15000).reset_index(drop = True)\n",
    "labeled = labeled.drop(columns = ['Unnamed: 0'])"
   ]
  },
  {
   "cell_type": "code",
   "execution_count": 842,
   "metadata": {},
   "outputs": [
    {
     "data": {
      "text/html": [
       "<div>\n",
       "<style scoped>\n",
       "    .dataframe tbody tr th:only-of-type {\n",
       "        vertical-align: middle;\n",
       "    }\n",
       "\n",
       "    .dataframe tbody tr th {\n",
       "        vertical-align: top;\n",
       "    }\n",
       "\n",
       "    .dataframe thead th {\n",
       "        text-align: right;\n",
       "    }\n",
       "</style>\n",
       "<table border=\"1\" class=\"dataframe\">\n",
       "  <thead>\n",
       "    <tr style=\"text-align: right;\">\n",
       "      <th></th>\n",
       "      <th>str_1</th>\n",
       "      <th>str_2</th>\n",
       "      <th>Y</th>\n",
       "    </tr>\n",
       "  </thead>\n",
       "  <tbody>\n",
       "    <tr>\n",
       "      <th>0</th>\n",
       "      <td>3 Dawn Junction, Eldon, Michigan</td>\n",
       "      <td>3 Dawn Jct, Eldon, MI 77061</td>\n",
       "      <td>1</td>\n",
       "    </tr>\n",
       "    <tr>\n",
       "      <th>1</th>\n",
       "      <td>Whitewright, Texas, United States</td>\n",
       "      <td>90 Evergreen Ln, Lochwinnoch, ENG</td>\n",
       "      <td>0</td>\n",
       "    </tr>\n",
       "    <tr>\n",
       "      <th>2</th>\n",
       "      <td>ISRAMCO, Incorporated</td>\n",
       "      <td>PROTECTIVE LIFE CORPORATION</td>\n",
       "      <td>0</td>\n",
       "    </tr>\n",
       "    <tr>\n",
       "      <th>3</th>\n",
       "      <td>25347 Iowa St, Kilbride, ENG</td>\n",
       "      <td>25347 Iowa Street, Kilbride, ENG</td>\n",
       "      <td>1</td>\n",
       "    </tr>\n",
       "  </tbody>\n",
       "</table>\n",
       "</div>"
      ],
      "text/plain": [
       "                               str_1                              str_2  Y\n",
       "0   3 Dawn Junction, Eldon, Michigan        3 Dawn Jct, Eldon, MI 77061  1\n",
       "1  Whitewright, Texas, United States  90 Evergreen Ln, Lochwinnoch, ENG  0\n",
       "2              ISRAMCO, Incorporated        PROTECTIVE LIFE CORPORATION  0\n",
       "3       25347 Iowa St, Kilbride, ENG   25347 Iowa Street, Kilbride, ENG  1"
      ]
     },
     "execution_count": 842,
     "metadata": {},
     "output_type": "execute_result"
    }
   ],
   "source": [
    "labeled.head(4)"
   ]
  },
  {
   "cell_type": "markdown",
   "metadata": {},
   "source": [
    "### Tokenize and add bi grams"
   ]
  },
  {
   "cell_type": "code",
   "execution_count": 139,
   "metadata": {},
   "outputs": [],
   "source": [
    "table = str.maketrans('', '', string.punctuation.replace('#', '').replace('&', ''))\n",
    "stop_words = set(stopwords.words('english')) \n",
    "    # After trying different preprocessing combinations, I decided not to filter out stops words, \n",
    "    # and keept '#' and '&' since they can help defining a string in our specific case \n",
    "def get_tokens(x): \n",
    "    x = re.sub(r'\\d', '#', x).lower()\n",
    "    tokens = word_tokenize(x)\n",
    "    tokens = [w.translate(table) for w in tokens]\n",
    "    tokens = [x for x in tokens if x != '']\n",
    "    return tokens\n",
    "\n",
    "bi_gram_list = [x for x in w2v.index2word if re.search('(_){1,}', x)]\n",
    "bi_gram_list_lower = [x.lower() for x in bi_gram_list]\n",
    "def get_bi_gram(x): \n",
    "    return_list = []\n",
    "    last_flag = False\n",
    "    for i in range(len(x)-1): \n",
    "        current_token = x[i]\n",
    "        current_bigram = x[i]+'_'+x[i+1]\n",
    "        if current_token != '#' and current_bigram in bi_gram_list_lower:\n",
    "            matched_idx = bi_gram_list_lower.index(current_bigram)\n",
    "            current_token = bi_gram_list[matched_idx]\n",
    "            if i+1 == len(x)-1: \n",
    "                last_flag = True\n",
    "        return_list.append(current_token)\n",
    "    if last_flag == False: \n",
    "        return_list.append(x[-1])\n",
    "    return return_list"
   ]
  },
  {
   "cell_type": "markdown",
   "metadata": {},
   "source": [
    "### Get word2vec vectors from pretrained model"
   ]
  },
  {
   "cell_type": "code",
   "execution_count": 13,
   "metadata": {},
   "outputs": [],
   "source": [
    "model_vocab = w2v.vocab"
   ]
  },
  {
   "cell_type": "code",
   "execution_count": 313,
   "metadata": {},
   "outputs": [],
   "source": [
    "# get vector per string\n",
    "def get_vector(x):\n",
    "    agg_vector = []\n",
    "    for token in x: \n",
    "        if token in model_vocab: \n",
    "            v = w2v[token]  \n",
    "        elif token.capitalize() in model_vocab:\n",
    "            v = w2v[token.capitalize()] \n",
    "        else: \n",
    "            #print (token, 'NOT FOUND!')\n",
    "            v = w2v['#'] # assign unknown words (usually random letters in a serial number) to # to skew the vector\n",
    "        agg_vector.append(v)\n",
    "    agg_vector = np.array(agg_vector)\n",
    "    agg_vector = np.mean(agg_vector, axis = 0)\n",
    "    return agg_vector"
   ]
  },
  {
   "cell_type": "markdown",
   "metadata": {},
   "source": [
    "### Add more features"
   ]
  },
  {
   "cell_type": "code",
   "execution_count": 315,
   "metadata": {},
   "outputs": [],
   "source": [
    "# Adding word and character count, and a flag for possible company name\n",
    "company_str = ['corporation', 'inc', 'co', 'corp', 'cooperatives', 'ltd', 'limited', 'company', \\\n",
    "               'lp', 'incorporated', 'international', 'association']\n",
    "def get_word_cnt(x): \n",
    "    return len(x)\n",
    "\n",
    "def get_char_cnt(x): \n",
    "    return len(''.join(x))\n",
    "\n",
    "def get_company_flag(x): \n",
    "    if any(w in company_str for w in x): \n",
    "        return 1\n",
    "    else: return 0 \n",
    "    \n",
    "def get_digits_ratio(x): \n",
    "    x = x.replace(' ', '')\n",
    "    digit_count = 0\n",
    "    for c in x: \n",
    "        if c.isdigit(): \n",
    "            digit_count += 1\n",
    "    return digit_count/len(x)\n",
    "\n",
    "def concat_features(row): \n",
    "    concat_list = np.array([row['word_count'], row['char_count'], row['company_str'], row['digital_ratio'], row['punctuation_ratio']])\n",
    "    new_concat_list = np.append(row['vecter_300'], concat_list)\n",
    "    return new_concat_list"
   ]
  },
  {
   "cell_type": "markdown",
   "metadata": {},
   "source": [
    "### Normalize matrix"
   ]
  },
  {
   "cell_type": "code",
   "execution_count": 840,
   "metadata": {},
   "outputs": [],
   "source": [
    "def scale_mat(vec_matrix,preprocess_type):\n",
    "    if preprocess_type == 'MinMax':\n",
    "        scale = preprocessing.MinMaxScaler().fit(vec_matrix)  \n",
    "    if preprocess_type == 'Standard':\n",
    "        scale = preprocessing.StandardScaler().fit(vec_matrix)\n",
    "    vals = scale.transform(vec_matrix)\n",
    "    return vals"
   ]
  },
  {
   "cell_type": "code",
   "execution_count": 344,
   "metadata": {},
   "outputs": [],
   "source": [
    "# PCA reduce dimensions\n",
    "sklearn_pca = PCA(n_components = 2)"
   ]
  },
  {
   "cell_type": "markdown",
   "metadata": {},
   "source": [
    "### Split training and testing data"
   ]
  },
  {
   "cell_type": "code",
   "execution_count": 704,
   "metadata": {},
   "outputs": [],
   "source": [
    "train, test = train_test_split(labeled, test_size=0.01)"
   ]
  },
  {
   "cell_type": "code",
   "execution_count": 709,
   "metadata": {},
   "outputs": [
    {
     "name": "stdout",
     "output_type": "stream",
     "text": [
      "(14850, 14) (150, 3)\n"
     ]
    }
   ],
   "source": [
    "print (train.shape, test.shape)"
   ]
  },
  {
   "cell_type": "code",
   "execution_count": 706,
   "metadata": {},
   "outputs": [],
   "source": [
    "train = train.reset_index(drop = True)\n",
    "test = test.reset_index(drop = True)"
   ]
  },
  {
   "cell_type": "markdown",
   "metadata": {},
   "source": [
    "## Process data"
   ]
  },
  {
   "cell_type": "code",
   "execution_count": 710,
   "metadata": {},
   "outputs": [],
   "source": [
    "# preprocess - input dataset with str_1 and str_2\n",
    "def concat_features(row, col): \n",
    "    concat_list = np.array([row[col+'_word_count'], row[col+'_char_count'], row[col+'_company_flag'], row[col+'_digit_ratio']])\n",
    "    new_concat_list = np.append(row[col+'_vector_300'], concat_list)\n",
    "    return new_concat_list\n",
    "\n",
    "# compare first word\n",
    "def first_match_boo(str_1, str_2): \n",
    "    str_1 = str_1.split()\n",
    "    str_2 = str_2.split()\n",
    "    if str_1[0] == str_2[0]: \n",
    "        return 1\n",
    "    else: \n",
    "        return 0\n",
    "\n",
    "# return a list of characteristics features, input data with str_1 and str2 \n",
    "def get_char_features_labled(updated_df): \n",
    "    return_list = []\n",
    "    for idx, row in updated_df.iterrows(): \n",
    "        append_list = []\n",
    "        append_list.append(first_match_boo(row['str_1'], row['str_2']))\n",
    "        append_list.append(row['str_1_word_count']-row['str_2_word_count']) # word count difference\n",
    "        append_list.append(row['str_1_char_count']-row['str_2_char_count']) # character count difference\n",
    "        append_list.append(len(set(row['str_1_token']).intersection(set(row['str_2_token'])))) # common word\n",
    "        append_list.append(fuzz.ratio(row['str_1_clean_string'], row['str_2_clean_string'])) # fuzz ratio\n",
    "        append_list.append(fuzz.partial_ratio(row['str_1_clean_string'], row['str_2_clean_string'])) # fuzz partical\n",
    "        append_list.append(fuzz.token_set_ratio(row['str_1_clean_string'], row['str_2_clean_string'])) # fuzz token set\n",
    "        append_list.append(fuzz.partial_token_sort_ratio(row['str_1_clean_string'], row['str_2_clean_string']))\n",
    "        append_list.append(fuzz.token_sort_ratio(row['str_1_clean_string'], row['str_2_clean_string']))\n",
    "        append_list.append(w2v.wmdistance(row['str_1_clean_string'], row['str_2_clean_string']))\n",
    "        append_list.append(w2v_norm.wmdistance(row['str_1_clean_string'], row['str_2_clean_string']))\n",
    "        return_list.append(append_list)\n",
    "    return return_list\n",
    "\n",
    "# return a list of distance features, input data with str_1 and str2 after normalization \n",
    "def get_dist_features_labeled(updated_df):\n",
    "    v1 = np.array(updated_df['str_1_feature_concat'].tolist())\n",
    "    v2 = np.array(updated_df['str_2_feature_concat'].tolist())\n",
    "    return_list = []\n",
    "    for i in range (v1.shape[0]): \n",
    "        append_list = []\n",
    "        if v1[i].sum()==0 or v2[i].sum()==0: \n",
    "            print (updated_df.iat[i,0])\n",
    "        append_list.append(D.cosine(v1[i], v2[i]))\n",
    "        append_list.append(D.euclidean(v1[i], v2[i]))\n",
    "        append_list.append(D.cityblock(v1[i], v2[i]))\n",
    "        append_list.append(D.minkowski(v1[i], v2[i]))\n",
    "        append_list.append(D.braycurtis(v1[i], v2[i]))\n",
    "        append_list.append(D.canberra(v1[i], v2[i]))\n",
    "        return_list.append(append_list)\n",
    "    return return_list\n",
    "\n",
    "# concat and normlize X \n",
    "def process_X(c_v, d_v): \n",
    "    return_list = []\n",
    "    for i in range(len(c_v)): \n",
    "        return_list.append(c_v[i]+d_v[i])\n",
    "    mat = np.array(return_list)\n",
    "    mat = scale_mat(mat, 'MinMax')\n",
    "    return mat\n",
    "\n",
    "def process_df(labeled_df, col_list, build_X):\n",
    "    for col in col_list: \n",
    "        labeled_df[col+'_token'] = labeled_df[col].apply(lambda x: get_tokens(x))\n",
    "        labeled_df[col+'_clean_string'] = labeled_df[col+'_token'].apply(lambda x: ' '.join(x))\n",
    "        labeled_df[col+'_clean_token_bi_gram'] = labeled_df[col+'_token'].apply(lambda x: get_bi_gram(x))\n",
    "        labeled_df[col+'_vector_300'] = labeled_df[col+'_clean_token_bi_gram'].apply(lambda x: get_vector(x))\n",
    "        labeled_df[col+'_word_count'] = labeled_df[col+'_token'].apply(lambda x: get_word_cnt(x))\n",
    "        labeled_df[col+'_char_count'] = labeled_df[col+'_token'].apply(lambda x: get_char_cnt(x))\n",
    "        labeled_df[col+'_company_flag'] = labeled_df[col+'_token'].apply(lambda x: get_company_flag(x))\n",
    "        labeled_df[col+'_digit_ratio'] = labeled_df[col].apply(lambda x: get_digits_ratio(x))\n",
    "        #labeled_df[col+'_punctuation_ratio'] = labeled_df[col].apply(lambda x: get_punc_ratio(x))\n",
    "        labeled_df[col+'_feature_concat'] = labeled_df.apply(lambda row: concat_features(row, col), axis = 1)\n",
    "    \n",
    "    if build_X == True: \n",
    "        char_features = get_char_features_labled(labeled_df)\n",
    "        #print ('Characteristics features DONE.')\n",
    "        dist_features = get_dist_features_labeled(labeled_df)\n",
    "        #print ('Distance features DONE. ')\n",
    "        # Got features, now concat and normalize\n",
    "        labeled_df['X'] = process_X(char_features, dist_features).tolist()\n",
    "    return labeled_df\n"
   ]
  },
  {
   "cell_type": "code",
   "execution_count": 711,
   "metadata": {},
   "outputs": [
    {
     "name": "stdout",
     "output_type": "stream",
     "text": [
      "Data processed. Time taken:  3538.180346727371\n"
     ]
    }
   ],
   "source": [
    "'''\n",
    "# Split X and Y \n",
    "start_time = time.time()\n",
    "labeled_df = process_df(train, ['str_1', 'str_2'], build_X = True)\n",
    "print ('Data processed. Time taken: ', time.time()-start_time)\n",
    "X_train = np.array(labeled_df['X'].tolist())\n",
    "Y_train = labeled_df['Y'].values\n",
    "'''"
   ]
  },
  {
   "cell_type": "code",
   "execution_count": 832,
   "metadata": {},
   "outputs": [],
   "source": [
    "def get_add_features(og_df, col_list, build_X): \n",
    "    for col in col_list: \n",
    "        og_df[col+'_first'] = og_df[col].apply(lambda x: x.split()[0])\n",
    "        og_df[col+'_first_v'+col[-1]] = og_df[col+'_first'].apply(lambda x: get_vector(x))\n",
    "    if build_X == True: \n",
    "        og_df['first_wmdistance'] = og_df.apply(lambda row: \\\n",
    "                                                [w2v_norm.wmdistance(row['str_1_first'], row['str_2_first']), \\\n",
    "                                                 w2v.wmdistance(row['str_1_first'], row['str_2_first'])], \\\n",
    "                                                axis = 1)\n",
    "        og_df['first_D_cosine'] = og_df.apply(lambda row: D.cosine(row['str_1_first_v1'], \\\n",
    "                                                                   row['str_2_first_v2']), axis = 1)\n",
    "        og_df['first_D_euclidean'] = og_df.apply(lambda row: D.euclidean(row['str_1_first_v1'], \\\n",
    "                                                                   row['str_2_first_v2']), axis = 1)\n",
    "        og_df['first_D_cityblock'] = og_df.apply(lambda row: D.cityblock(row['str_1_first_v1'], \\\n",
    "                                                                   row['str_2_first_v2']), axis = 1)\n",
    "        og_df['additional_features'] = og_df.apply(lambda row: row['first_wmdistance']+\\\n",
    "                                                   [row['first_D_cosine']]+[row['first_D_euclidean']], axis = 1)   \n",
    "    return og_df  \n",
    "\n",
    "def get_combine_X(df_1, df_2): \n",
    "    X1 = np.array(df_1['X'].tolist())\n",
    "    X2 = np.array(df_2['additional_features'].tolist())\n",
    "    X2 = scale_mat(X2, 'MinMax')\n",
    "    return np.append(X1, X2, 1)"
   ]
  },
  {
   "cell_type": "code",
   "execution_count": 833,
   "metadata": {},
   "outputs": [],
   "source": [
    "new_df_add = get_add_features(labeled_df, ['str_1', 'str_2'], build_X = True)\n",
    "X_train_2 = get_combine_X(labeled_df, new_df_add)"
   ]
  },
  {
   "cell_type": "code",
   "execution_count": 844,
   "metadata": {},
   "outputs": [
    {
     "name": "stdout",
     "output_type": "stream",
     "text": [
      "Training data shape:  (14850, 21)\n"
     ]
    }
   ],
   "source": [
    "print ('Training data shape: ', X_train_2.shape)"
   ]
  },
  {
   "cell_type": "markdown",
   "metadata": {},
   "source": [
    "### Plot to mimic classification"
   ]
  },
  {
   "cell_type": "code",
   "execution_count": 845,
   "metadata": {},
   "outputs": [
    {
     "data": {
      "text/plain": [
       "<matplotlib.collections.PathCollection at 0x1aa7a9a978>"
      ]
     },
     "execution_count": 845,
     "metadata": {},
     "output_type": "execute_result"
    },
    {
     "data": {
      "image/png": "[encoded data removed]",
      "text/plain": [
       "<Figure size 400x400 with 1 Axes>"
      ]
     },
     "metadata": {
      "needs_background": "light"
     },
     "output_type": "display_data"
    }
   ],
   "source": [
    "vals_pca_X_train = sklearn_pca.fit_transform(X_train_2)\n",
    "plt.figure(figsize=(5, 5), dpi=80)\n",
    "plt.scatter(vals_pca_X_train[:,0], vals_pca_X_train[:,1], c=Y_train, cmap='viridis', lw = 0, alpha=0.25)"
   ]
  },
  {
   "cell_type": "code",
   "execution_count": 822,
   "metadata": {},
   "outputs": [
    {
     "name": "stdout",
     "output_type": "stream",
     "text": [
      "Training...\n",
      "Model done. Time taken:  0.08780598640441895\n"
     ]
    }
   ],
   "source": [
    "def svc_param_selection(X, y, nfolds):\n",
    "    Cs = [1, 10, 100]\n",
    "    gammas = [0.1, 1, 10]\n",
    "    param_grid = {'C': Cs, 'gamma' : gammas}\n",
    "    grid_search = GridSearchCV(svm.SVC(kernel='rbf'), param_grid, cv=nfolds)\n",
    "    grid_search.fit(X, y)\n",
    "    return_param = grid_search.best_params_\n",
    "    return return_param\n",
    "param = svc_param_selection(X_train, Y_train, 5)\n",
    "\n",
    "# Train a simple SVM \n",
    "start_time = time.time()\n",
    "print ('Training...')\n",
    "clf = svm.SVC(**param)\n",
    "clf.fit(X_train_2, Y_train)\n",
    "print ('Model done. Time taken: ', time.time()-start_time)"
   ]
  },
  {
   "cell_type": "code",
   "execution_count": 614,
   "metadata": {},
   "outputs": [
    {
     "data": {
      "text/plain": [
       "{'C': 100, 'gamma': 1}"
      ]
     },
     "execution_count": 614,
     "metadata": {},
     "output_type": "execute_result"
    }
   ],
   "source": [
    "param"
   ]
  },
  {
   "cell_type": "markdown",
   "metadata": {},
   "source": [
    "Now test the classifier with new strings "
   ]
  },
  {
   "cell_type": "code",
   "execution_count": 630,
   "metadata": {},
   "outputs": [],
   "source": [
    "# positive testing \n",
    "test_1 = test[test['Y'] == 1]"
   ]
  },
  {
   "cell_type": "code",
   "execution_count": 823,
   "metadata": {},
   "outputs": [],
   "source": [
    "data_inventory = test_1['str_1'].tolist()[:3]+['INTEL CORP.', 'BIU297H', '5 Time Sqaure, New York, NY', 'Marks and Spencer Ltd.']\n",
    "TESTING_STRING = test_1['str_2'].tolist()[:3]+['GYU8/78', '5 Time Square, NY, NY 10036', 'CITIZENS, INC.', \\\n",
    "                                           'Wichita, Kansas', 'M&S Limited', 'INTEL Corperation']#[-3:]"
   ]
  },
  {
   "cell_type": "code",
   "execution_count": 824,
   "metadata": {},
   "outputs": [
    {
     "name": "stdout",
     "output_type": "stream",
     "text": [
      "['Downpatrick, Great Britain', 'Soham, GB', 'Kingston, ENG, GB', 'INTEL CORP.', 'BIU297H', '5 Time Sqaure, New York, NY', 'Marks and Spencer Ltd.']\n",
      "['Downpatrick, NIR, GB', 'Soham, ENG, UK', 'Kingston, Great Britain', 'GYU8/78', '5 Time Square, NY, NY 10036', 'CITIZENS, INC.', 'Wichita, Kansas', 'M&S Limited', 'INTEL Corperation']\n"
     ]
    }
   ],
   "source": [
    "print (data_inventory)\n",
    "print(TESTING_STRING)"
   ]
  },
  {
   "cell_type": "code",
   "execution_count": 830,
   "metadata": {},
   "outputs": [],
   "source": [
    "testing_df = pd.DataFrame()\n",
    "testing_df['str_1'] = data_inventory\n",
    "testing_df = process_df(testing_df, col_list = ['str_1'], build_X = False)\n",
    "testing_df_fnl = get_add_features(testing_df, col_list = ['str_1'], build_X = False)\n",
    "\n",
    "def print_res(data_inv_df, testing_list, model): \n",
    "    for testing_str in testing_list: \n",
    "        data_inv_df['str_2'] = testing_str\n",
    "        new_df = process_df(data_inv_df, ['str_2'], build_X = True)\n",
    "        new_df_add = get_add_features(new_df, ['str_2'], build_X = True)\n",
    "        X_test = get_combine_X(new_df, new_df_add)\n",
    "        P = model.predict(X_test)\n",
    "        new_df['predicted'] = P.tolist()\n",
    "        entity_list = new_df[new_df.predicted==1]['str_1'].tolist()\n",
    "        \n",
    "        if len(entity_list)>0: \n",
    "            print (testing_str, ':', entity_list)\n",
    "        if P.sum() == 0: \n",
    "            print (testing_str, ':', 'NEW ENTITY!')"
   ]
  },
  {
   "cell_type": "code",
   "execution_count": 839,
   "metadata": {},
   "outputs": [
    {
     "name": "stdout",
     "output_type": "stream",
     "text": [
      "Downpatrick, NIR, GB : ['Downpatrick, Great Britain']\n",
      "Soham, ENG, UK : ['Soham, GB']\n",
      "Kingston, Great Britain : ['Downpatrick, Great Britain', 'Kingston, ENG, GB']\n",
      "GYU8/78 : ['BIU297H']\n",
      "5 Time Square, NY, NY 10036 : ['5 Time Sqaure, New York, NY']\n",
      "CITIZENS, INC. : ['Downpatrick, Great Britain', 'Kingston, ENG, GB']\n",
      "Wichita, Kansas : ['Downpatrick, Great Britain']\n",
      "M&S Limited : ['Marks and Spencer Ltd.']\n",
      "INTEL Corperation : ['INTEL CORP.']\n"
     ]
    }
   ],
   "source": [
    "print_res(testing_df_fnl, TESTING_STRING, clf_tree) #good: clf, clf_tree"
   ]
  }
 ],
 "metadata": {
  "kernelspec": {
   "display_name": "Python 3",
   "language": "python",
   "name": "python3"
  },
  "language_info": {
   "codemirror_mode": {
    "name": "ipython",
    "version": 3
   },
   "file_extension": ".py",
   "mimetype": "text/x-python",
   "name": "python",
   "nbconvert_exporter": "python",
   "pygments_lexer": "ipython3",
   "version": "3.6.10"
  }
 },
 "nbformat": 4,
 "nbformat_minor": 4
}
