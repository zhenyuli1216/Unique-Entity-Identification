{
 "cells": [
  {
   "cell_type": "code",
   "execution_count": 27,
   "metadata": {},
   "outputs": [],
   "source": [
    "import pandas as pd\n",
    "import matplotlib\n",
    "import nltk\n",
    "from nltk.tokenize import word_tokenize \n",
    "import gensim\n",
    "import gensim.downloader as api\n",
    "import string\n",
    "import re"
   ]
  },
  {
   "cell_type": "markdown",
   "metadata": {},
   "source": [
    "## Load pretrained Word2Vec and sample data"
   ]
  },
  {
   "cell_type": "code",
   "execution_count": 3,
   "metadata": {},
   "outputs": [
    {
     "name": "stdout",
     "output_type": "stream",
     "text": [
      "[=================================================-] 99.9% 1661.8/1662.8MB downloaded\n"
     ]
    }
   ],
   "source": [
    "gensim_model = api.load(\"word2vec-google-news-300\")"
   ]
  },
  {
   "cell_type": "code",
   "execution_count": 14,
   "metadata": {},
   "outputs": [],
   "source": [
    "with open('../data/data.txt', 'r') as f: \n",
    "    data = f.readlines()\n",
    "f.close()\n",
    "data = [x.rstrip().lstrip().strip('\\\",') for x in data]"
   ]
  },
  {
   "cell_type": "code",
   "execution_count": 15,
   "metadata": {},
   "outputs": [
    {
     "name": "stdout",
     "output_type": "stream",
     "text": [
      "['Marks and Spencers Ltd', 'M&S Limited', 'NVIDIA Ireland', 'SLOUGH SE12 2XY', '33 TIMBER YARD,LONDON, L1 8XY', '44 CHINA ROAD, KOWLOON, HONG KONG', 'XYZ 13423 / ILD', 'ABC/ICL/20891NC', 'HARDWOOD TABLE', 'PLASTIC BOTTLE', 'LONDON', 'HONG KONG', 'ASIA', 'JP Morgan & Chase Co.', 'ICNAO02312', 'TOYS', '5 Time Square, New York, NY 10036', 'COMPUTER PARTS', 'INTEL CORPORATION', 'INTEL CO']\n"
     ]
    }
   ],
   "source": [
    "print (data)"
   ]
  },
  {
   "cell_type": "markdown",
   "metadata": {},
   "source": [
    "## Preprocess data"
   ]
  },
  {
   "cell_type": "code",
   "execution_count": 20,
   "metadata": {},
   "outputs": [],
   "source": [
    "df = pd.DataFrame()\n",
    "df['text'] = data"
   ]
  },
  {
   "cell_type": "code",
   "execution_count": null,
   "metadata": {},
   "outputs": [
    {
     "name": "stdout",
     "output_type": "stream",
     "text": [
      "showing info https://raw.githubusercontent.com/nltk/nltk_data/gh-pages/index.xml\n"
     ]
    }
   ],
   "source": [
    "nltk.download()"
   ]
  },
  {
   "cell_type": "code",
   "execution_count": null,
   "metadata": {},
   "outputs": [],
   "source": [
    "def get_tokens(x): \n",
    "    x = x.translate(str.maketrans('', '', string.punctuation))\n",
    "    x = re.sub(r'\\d', '#', x)\n",
    "    tokens = word_tokenize(x)\n",
    "    tokens = [w.lower() for w in tokens]"
   ]
  },
  {
   "cell_type": "code",
   "execution_count": 26,
   "metadata": {},
   "outputs": [
    {
     "ename": "KeyError",
     "evalue": "\"word '/' not in vocabulary\"",
     "output_type": "error",
     "traceback": [
      "\u001b[0;31m---------------------------------------------------------------------------\u001b[0m",
      "\u001b[0;31mKeyError\u001b[0m                                  Traceback (most recent call last)",
      "\u001b[0;32m<ipython-input-26-df3515f06802>\u001b[0m in \u001b[0;36m<module>\u001b[0;34m\u001b[0m\n\u001b[0;32m----> 1\u001b[0;31m \u001b[0mvector\u001b[0m \u001b[0;34m=\u001b[0m \u001b[0mgensim_model\u001b[0m\u001b[0;34m[\u001b[0m\u001b[0;34m'/'\u001b[0m\u001b[0;34m]\u001b[0m\u001b[0;34m\u001b[0m\u001b[0;34m\u001b[0m\u001b[0m\n\u001b[0m",
      "\u001b[0;32m/Applications/miniconda3/envs/py3.6/lib/python3.6/site-packages/gensim/models/keyedvectors.py\u001b[0m in \u001b[0;36m__getitem__\u001b[0;34m(self, entities)\u001b[0m\n\u001b[1;32m    351\u001b[0m         \u001b[0;32mif\u001b[0m \u001b[0misinstance\u001b[0m\u001b[0;34m(\u001b[0m\u001b[0mentities\u001b[0m\u001b[0;34m,\u001b[0m \u001b[0mstring_types\u001b[0m\u001b[0;34m)\u001b[0m\u001b[0;34m:\u001b[0m\u001b[0;34m\u001b[0m\u001b[0;34m\u001b[0m\u001b[0m\n\u001b[1;32m    352\u001b[0m             \u001b[0;31m# allow calls like trained_model['office'], as a shorthand for trained_model[['office']]\u001b[0m\u001b[0;34m\u001b[0m\u001b[0;34m\u001b[0m\u001b[0;34m\u001b[0m\u001b[0m\n\u001b[0;32m--> 353\u001b[0;31m             \u001b[0;32mreturn\u001b[0m \u001b[0mself\u001b[0m\u001b[0;34m.\u001b[0m\u001b[0mget_vector\u001b[0m\u001b[0;34m(\u001b[0m\u001b[0mentities\u001b[0m\u001b[0;34m)\u001b[0m\u001b[0;34m\u001b[0m\u001b[0;34m\u001b[0m\u001b[0m\n\u001b[0m\u001b[1;32m    354\u001b[0m \u001b[0;34m\u001b[0m\u001b[0m\n\u001b[1;32m    355\u001b[0m         \u001b[0;32mreturn\u001b[0m \u001b[0mvstack\u001b[0m\u001b[0;34m(\u001b[0m\u001b[0;34m[\u001b[0m\u001b[0mself\u001b[0m\u001b[0;34m.\u001b[0m\u001b[0mget_vector\u001b[0m\u001b[0;34m(\u001b[0m\u001b[0mentity\u001b[0m\u001b[0;34m)\u001b[0m \u001b[0;32mfor\u001b[0m \u001b[0mentity\u001b[0m \u001b[0;32min\u001b[0m \u001b[0mentities\u001b[0m\u001b[0;34m]\u001b[0m\u001b[0;34m)\u001b[0m\u001b[0;34m\u001b[0m\u001b[0;34m\u001b[0m\u001b[0m\n",
      "\u001b[0;32m/Applications/miniconda3/envs/py3.6/lib/python3.6/site-packages/gensim/models/keyedvectors.py\u001b[0m in \u001b[0;36mget_vector\u001b[0;34m(self, word)\u001b[0m\n\u001b[1;32m    469\u001b[0m \u001b[0;34m\u001b[0m\u001b[0m\n\u001b[1;32m    470\u001b[0m     \u001b[0;32mdef\u001b[0m \u001b[0mget_vector\u001b[0m\u001b[0;34m(\u001b[0m\u001b[0mself\u001b[0m\u001b[0;34m,\u001b[0m \u001b[0mword\u001b[0m\u001b[0;34m)\u001b[0m\u001b[0;34m:\u001b[0m\u001b[0;34m\u001b[0m\u001b[0;34m\u001b[0m\u001b[0m\n\u001b[0;32m--> 471\u001b[0;31m         \u001b[0;32mreturn\u001b[0m \u001b[0mself\u001b[0m\u001b[0;34m.\u001b[0m\u001b[0mword_vec\u001b[0m\u001b[0;34m(\u001b[0m\u001b[0mword\u001b[0m\u001b[0;34m)\u001b[0m\u001b[0;34m\u001b[0m\u001b[0;34m\u001b[0m\u001b[0m\n\u001b[0m\u001b[1;32m    472\u001b[0m \u001b[0;34m\u001b[0m\u001b[0m\n\u001b[1;32m    473\u001b[0m     \u001b[0;32mdef\u001b[0m \u001b[0mwords_closer_than\u001b[0m\u001b[0;34m(\u001b[0m\u001b[0mself\u001b[0m\u001b[0;34m,\u001b[0m \u001b[0mw1\u001b[0m\u001b[0;34m,\u001b[0m \u001b[0mw2\u001b[0m\u001b[0;34m)\u001b[0m\u001b[0;34m:\u001b[0m\u001b[0;34m\u001b[0m\u001b[0;34m\u001b[0m\u001b[0m\n",
      "\u001b[0;32m/Applications/miniconda3/envs/py3.6/lib/python3.6/site-packages/gensim/models/keyedvectors.py\u001b[0m in \u001b[0;36mword_vec\u001b[0;34m(self, word, use_norm)\u001b[0m\n\u001b[1;32m    466\u001b[0m             \u001b[0;32mreturn\u001b[0m \u001b[0mresult\u001b[0m\u001b[0;34m\u001b[0m\u001b[0;34m\u001b[0m\u001b[0m\n\u001b[1;32m    467\u001b[0m         \u001b[0;32melse\u001b[0m\u001b[0;34m:\u001b[0m\u001b[0;34m\u001b[0m\u001b[0;34m\u001b[0m\u001b[0m\n\u001b[0;32m--> 468\u001b[0;31m             \u001b[0;32mraise\u001b[0m \u001b[0mKeyError\u001b[0m\u001b[0;34m(\u001b[0m\u001b[0;34m\"word '%s' not in vocabulary\"\u001b[0m \u001b[0;34m%\u001b[0m \u001b[0mword\u001b[0m\u001b[0;34m)\u001b[0m\u001b[0;34m\u001b[0m\u001b[0;34m\u001b[0m\u001b[0m\n\u001b[0m\u001b[1;32m    469\u001b[0m \u001b[0;34m\u001b[0m\u001b[0m\n\u001b[1;32m    470\u001b[0m     \u001b[0;32mdef\u001b[0m \u001b[0mget_vector\u001b[0m\u001b[0;34m(\u001b[0m\u001b[0mself\u001b[0m\u001b[0;34m,\u001b[0m \u001b[0mword\u001b[0m\u001b[0;34m)\u001b[0m\u001b[0;34m:\u001b[0m\u001b[0;34m\u001b[0m\u001b[0;34m\u001b[0m\u001b[0m\n",
      "\u001b[0;31mKeyError\u001b[0m: \"word '/' not in vocabulary\""
     ]
    }
   ],
   "source": [
    "vector = gensim_model['/']  "
   ]
  },
  {
   "cell_type": "code",
   "execution_count": 24,
   "metadata": {},
   "outputs": [
    {
     "data": {
      "text/plain": [
       "array([ 1.60156250e-01, -1.99218750e-01,  8.69140625e-02,  1.02539062e-01,\n",
       "        1.47705078e-02,  2.22167969e-02, -1.81884766e-02,  5.37109375e-03,\n",
       "       -1.73339844e-02,  4.10156250e-01, -2.61718750e-01, -4.80957031e-02,\n",
       "        1.44531250e-01, -2.98828125e-01,  1.94335938e-01, -1.97265625e-01,\n",
       "       -5.41992188e-02,  1.40625000e-01,  1.03759766e-02,  1.58691406e-02,\n",
       "        8.54492188e-02, -1.75781250e-01, -1.28906250e-01, -9.66796875e-02,\n",
       "       -9.27734375e-03, -1.29882812e-01, -2.85156250e-01,  3.32031250e-01,\n",
       "        2.18750000e-01,  7.95898438e-02,  1.77734375e-01,  2.05078125e-01,\n",
       "       -3.01513672e-02, -5.23437500e-01, -1.56250000e-01, -1.54296875e-01,\n",
       "        1.52343750e-01,  1.94335938e-01,  7.47680664e-03,  2.98828125e-01,\n",
       "        5.81054688e-02, -9.52148438e-02, -1.12792969e-01,  1.64062500e-01,\n",
       "        1.77001953e-02,  1.32812500e-01, -3.14941406e-02, -1.12792969e-01,\n",
       "        1.26953125e-01,  7.42187500e-02,  6.88476562e-02,  6.54296875e-02,\n",
       "        1.95312500e-02, -1.45263672e-02, -1.06445312e-01, -1.83105469e-02,\n",
       "       -1.40625000e-01, -1.08398438e-01,  4.66308594e-02, -2.41210938e-01,\n",
       "        1.23535156e-01, -1.52343750e-01,  2.16064453e-02, -7.22656250e-02,\n",
       "       -3.97949219e-02, -3.69140625e-01,  2.50244141e-02,  6.73828125e-02,\n",
       "       -9.66796875e-02,  1.48437500e-01,  5.58593750e-01, -2.10937500e-01,\n",
       "        9.08203125e-02,  1.19628906e-01, -2.61718750e-01, -1.16577148e-02,\n",
       "        1.95312500e-02, -1.67968750e-01, -2.12402344e-02,  2.06054688e-01,\n",
       "        1.22070312e-01,  5.59082031e-02,  3.11279297e-02,  1.87988281e-02,\n",
       "        8.49609375e-02,  1.22558594e-01, -5.61523438e-03,  2.79296875e-01,\n",
       "       -7.42187500e-02,  1.78710938e-01,  1.26953125e-02, -3.18359375e-01,\n",
       "        9.42382812e-02, -3.73840332e-04, -1.58203125e-01,  6.68945312e-02,\n",
       "       -4.27734375e-01,  1.19140625e-01,  1.09375000e-01,  9.32617188e-02,\n",
       "        2.36328125e-01, -6.54296875e-02, -1.55273438e-01,  1.85546875e-01,\n",
       "        3.71093750e-01, -1.15356445e-02,  9.47265625e-02,  5.12695312e-02,\n",
       "        2.18505859e-02, -3.66210938e-03,  1.89208984e-02, -1.29882812e-01,\n",
       "       -1.91406250e-01, -1.65039062e-01, -1.22558594e-01,  1.83105469e-02,\n",
       "        2.47070312e-01, -1.33789062e-01,  1.92871094e-02,  1.82617188e-01,\n",
       "        4.00390625e-02, -4.12597656e-02, -1.24511719e-01,  9.47265625e-02,\n",
       "       -1.60156250e-01, -7.17773438e-02, -3.12500000e-01,  3.04687500e-01,\n",
       "        1.79687500e-01,  1.18652344e-01,  6.29882812e-02, -1.43432617e-02,\n",
       "        1.85546875e-01, -1.66015625e-01, -1.97265625e-01, -8.98437500e-02,\n",
       "       -1.36718750e-01, -1.61132812e-01, -8.15429688e-02,  3.39843750e-01,\n",
       "       -1.96289062e-01,  3.75976562e-02, -4.17968750e-01, -8.93554688e-02,\n",
       "       -1.95312500e-01, -9.81445312e-02,  2.01171875e-01,  1.84570312e-01,\n",
       "       -4.88281250e-02,  7.22656250e-02,  6.34765625e-02, -2.03125000e-01,\n",
       "       -4.39453125e-02, -2.23388672e-02, -2.11914062e-01, -2.83203125e-01,\n",
       "       -3.06640625e-01,  2.26562500e-01, -5.24902344e-02,  3.22265625e-02,\n",
       "        1.54296875e-01,  2.98828125e-01, -4.54101562e-02, -2.77343750e-01,\n",
       "        1.48437500e-01,  1.54296875e-01,  1.13281250e-01,  2.94921875e-01,\n",
       "       -2.30468750e-01,  2.24609375e-02, -1.70898438e-01,  1.14746094e-01,\n",
       "       -1.64062500e-01, -2.79296875e-01, -1.19140625e-01,  2.94189453e-02,\n",
       "        5.71289062e-02,  2.19726562e-02, -2.71484375e-01,  1.37695312e-01,\n",
       "       -1.50390625e-01,  3.61328125e-02,  7.95898438e-02,  1.07421875e-02,\n",
       "       -2.67578125e-01,  9.32617188e-02,  3.14453125e-01, -9.96093750e-02,\n",
       "       -3.51562500e-02, -1.81640625e-01, -2.22778320e-03,  2.50000000e-01,\n",
       "       -7.03125000e-02, -2.08984375e-01, -9.57031250e-02, -7.76367188e-02,\n",
       "        1.22558594e-01, -7.47070312e-02,  5.19531250e-01, -1.11816406e-01,\n",
       "        6.83593750e-02, -5.22460938e-02, -8.54492188e-02, -2.35351562e-01,\n",
       "       -1.33789062e-01, -1.32812500e-01, -5.59082031e-02,  3.46679688e-02,\n",
       "        9.71679688e-02,  1.70898438e-01,  2.50000000e-01,  1.74804688e-01,\n",
       "       -1.15203857e-03,  2.22167969e-02, -2.91748047e-02,  1.33789062e-01,\n",
       "        2.27539062e-01,  3.85742188e-02, -6.34765625e-02, -7.71484375e-02,\n",
       "       -2.41210938e-01,  2.32421875e-01,  2.02148438e-01,  8.34960938e-02,\n",
       "       -3.22265625e-01, -2.45361328e-02, -2.05078125e-01,  2.37304688e-01,\n",
       "       -1.41601562e-01, -5.93261719e-02,  1.05468750e-01,  2.04101562e-01,\n",
       "       -3.02734375e-01, -2.79541016e-02, -2.09960938e-01,  1.35498047e-02,\n",
       "        5.88378906e-02, -3.54003906e-02,  2.81250000e-01, -1.68945312e-01,\n",
       "        3.92578125e-01,  1.99218750e-01,  1.89208984e-02, -1.74804688e-01,\n",
       "        2.79541016e-02, -5.66406250e-02, -2.21679688e-01,  1.26953125e-01,\n",
       "        2.25585938e-01,  5.12695312e-02, -8.15429688e-02,  2.09960938e-01,\n",
       "        9.71679688e-02, -8.96453857e-04,  2.89062500e-01,  3.02734375e-02,\n",
       "       -8.39843750e-02,  2.10937500e-01,  2.32421875e-01, -2.25830078e-02,\n",
       "        8.64257812e-02, -2.39257812e-01,  8.49609375e-02, -1.28906250e-01,\n",
       "        2.50000000e-01,  3.53515625e-01,  1.20849609e-02,  7.03125000e-02,\n",
       "       -7.56835938e-02,  1.22070312e-01,  1.43554688e-01, -9.27734375e-02,\n",
       "       -1.27929688e-01, -1.15722656e-01, -6.22558594e-02, -1.19628906e-02,\n",
       "       -5.78613281e-02, -2.67578125e-01, -1.19140625e-01,  3.61328125e-01,\n",
       "       -3.92578125e-01, -3.32031250e-01,  1.85546875e-02,  2.55859375e-01,\n",
       "       -9.76562500e-02,  5.63964844e-02,  7.56835938e-02, -1.91406250e-01,\n",
       "        7.22656250e-02,  1.05957031e-01, -1.43554688e-01,  2.61230469e-02,\n",
       "       -5.27343750e-02,  2.94921875e-01, -8.91113281e-03, -3.22265625e-02,\n",
       "       -5.51757812e-02,  2.53906250e-01,  2.57812500e-01,  2.37304688e-01],\n",
       "      dtype=float32)"
      ]
     },
     "execution_count": 24,
     "metadata": {},
     "output_type": "execute_result"
    }
   ],
   "source": [
    "vector"
   ]
  },
  {
   "cell_type": "code",
   "execution_count": null,
   "metadata": {},
   "outputs": [],
   "source": []
  }
 ],
 "metadata": {
  "kernelspec": {
   "display_name": "Python 3",
   "language": "python",
   "name": "python3"
  },
  "language_info": {
   "codemirror_mode": {
    "name": "ipython",
    "version": 3
   },
   "file_extension": ".py",
   "mimetype": "text/x-python",
   "name": "python",
   "nbconvert_exporter": "python",
   "pygments_lexer": "ipython3",
   "version": "3.6.10"
  }
 },
 "nbformat": 4,
 "nbformat_minor": 4
}
