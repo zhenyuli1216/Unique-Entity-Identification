{
 "cells": [
  {
   "cell_type": "code",
   "execution_count": 39,
   "metadata": {},
   "outputs": [],
   "source": [
    "import pandas as pd \n",
    "import random "
   ]
  },
  {
   "cell_type": "code",
   "execution_count": 49,
   "metadata": {},
   "outputs": [],
   "source": [
    "df = pd.read_csv('../data/geotargets-2020-03-03.csv')"
   ]
  },
  {
   "cell_type": "code",
   "execution_count": 87,
   "metadata": {},
   "outputs": [],
   "source": [
    "df_1 = df[(df['Country Code']=='GB') & (df['Target Type'] == 'City') & (df['Status'] == 'Active')]\n",
    "df_1['name_split'] = df_1['Canonical Name'].apply(lambda x: x.split(','))"
   ]
  },
  {
   "cell_type": "code",
   "execution_count": 119,
   "metadata": {},
   "outputs": [
    {
     "name": "stderr",
     "output_type": "stream",
     "text": [
      "/Applications/miniconda3/envs/py3.6/lib/python3.6/site-packages/ipykernel_launcher.py:1: SettingWithCopyWarning: \n",
      "A value is trying to be set on a copy of a slice from a DataFrame.\n",
      "Try using .loc[row_indexer,col_indexer] = value instead\n",
      "\n",
      "See the caveats in the documentation: https://pandas.pydata.org/pandas-docs/stable/user_guide/indexing.html#returning-a-view-versus-a-copy\n",
      "  \"\"\"Entry point for launching an IPython kernel.\n",
      "/Applications/miniconda3/envs/py3.6/lib/python3.6/site-packages/ipykernel_launcher.py:2: SettingWithCopyWarning: \n",
      "A value is trying to be set on a copy of a slice from a DataFrame.\n",
      "Try using .loc[row_indexer,col_indexer] = value instead\n",
      "\n",
      "See the caveats in the documentation: https://pandas.pydata.org/pandas-docs/stable/user_guide/indexing.html#returning-a-view-versus-a-copy\n",
      "  \n",
      "/Applications/miniconda3/envs/py3.6/lib/python3.6/site-packages/ipykernel_launcher.py:3: SettingWithCopyWarning: \n",
      "A value is trying to be set on a copy of a slice from a DataFrame.\n",
      "Try using .loc[row_indexer,col_indexer] = value instead\n",
      "\n",
      "See the caveats in the documentation: https://pandas.pydata.org/pandas-docs/stable/user_guide/indexing.html#returning-a-view-versus-a-copy\n",
      "  This is separate from the ipykernel package so we can avoid doing imports until\n"
     ]
    }
   ],
   "source": [
    "df_1['name_split_1'] = df_1['name_split']\n",
    "df_1['name_split_2'] = df_1['name_split']\n",
    "df_1['name_split_3'] = df_1['name_split']\n",
    "# randomly select 650 rows and take out country name \n",
    "random_650 = random.sample(df_1.index.tolist(), 650)\n",
    "for idx, row in df_1.iterrows():\n",
    "    if idx in random_650: \n",
    "        df_1.at[idx, 'name_split_1'] = [row['name_split'][0], row['name_split'][-1]]\n",
    "\n",
    "# randomly select 700 rows and change United Kingdom to UK \n",
    "random_700 = random.sample(df_1.index.tolist(), 700)\n",
    "for idx, row in df_1.iterrows():\n",
    "    if idx in random_700: \n",
    "        current = row['name_split_1']\n",
    "        current[-1] = 'UK'\n",
    "        df_1.at[idx, 'name_split_2'] = current\n",
    "        \n",
    "# randomly select 500 rows and change United Kingdom to GB\n",
    "random_500 = random.sample(df_1.index.tolist(), 500)\n",
    "for idx, row in df_1.iterrows():\n",
    "    if idx in random_500: \n",
    "        current = row['name_split_2']\n",
    "        current[-1] = 'GB'\n",
    "        df_1.at[idx, 'name_split_3']= current\n",
    "\n",
    "# randomly select 500 rows and drop country name (UK)\n",
    "random_500 = random.sample(df_1.index.tolist(), 500)\n",
    "for idx, row in df_1.iterrows():\n",
    "    if idx in random_500: \n",
    "        current = row['name_split_2']\n",
    "        df_1.at[idx, 'name_split_3']= current[:-1]"
   ]
  },
  {
   "cell_type": "code",
   "execution_count": 106,
   "metadata": {},
   "outputs": [],
   "source": [
    "uk_abbr = pd.read_excel('../data/abbr.xlsx', sheet_name = 'uk')"
   ]
  },
  {
   "cell_type": "code",
   "execution_count": 108,
   "metadata": {},
   "outputs": [],
   "source": [
    "uk_abbr = uk_abbr[uk_abbr['COUNTRY'].isin(['England', 'Scotland', 'Wales', 'Northern Ireland'])]\n",
    "uk_abbr_map = dict(zip(uk_abbr['COUNTY'], uk_abbr['ABBREVIATION']))"
   ]
  },
  {
   "cell_type": "code",
   "execution_count": 124,
   "metadata": {},
   "outputs": [],
   "source": [
    "# randonly select 70 abbreviations to apply to the dataset \n",
    "selcted = random.sample(list(uk_abbr_map.keys()), 70)"
   ]
  },
  {
   "cell_type": "code",
   "execution_count": 125,
   "metadata": {},
   "outputs": [
    {
     "data": {
      "text/plain": [
       "['Lincolnshire',\n",
       " 'Co. Tyrone',\n",
       " 'Tayside',\n",
       " 'Merionethshire',\n",
       " 'Berkshire',\n",
       " 'Hertfordshire',\n",
       " 'South Yorkshire',\n",
       " 'West Sussex',\n",
       " 'Dunbartonshire',\n",
       " 'Pembrokeshire',\n",
       " 'Grampian',\n",
       " 'Nottinghamshire',\n",
       " 'Devon',\n",
       " 'Carmarthenshire',\n",
       " 'Glamorgan',\n",
       " 'Kent',\n",
       " 'Herefordshire',\n",
       " 'Clwyd',\n",
       " 'Clackmannanshire',\n",
       " 'Monmouthshire',\n",
       " 'Sussex',\n",
       " 'Caernarvonshire',\n",
       " 'Kirkcudbrightshire',\n",
       " 'Cornwall',\n",
       " 'Leicestershire',\n",
       " 'Selkirkshire',\n",
       " 'Hampshire',\n",
       " 'Cleveland',\n",
       " 'Gwynedd',\n",
       " 'Lancashire',\n",
       " 'Anglesey',\n",
       " 'West Midlands',\n",
       " 'Berwickshire',\n",
       " 'Staffordshire',\n",
       " 'Tyne and Wear',\n",
       " 'Wiltshire',\n",
       " 'Essex',\n",
       " 'Wigtownshire',\n",
       " 'South Glamorgan',\n",
       " 'Co. Antrim',\n",
       " 'Norfolk',\n",
       " 'Inverness-shire',\n",
       " 'Warwickshire',\n",
       " 'North Riding of Yorkshire',\n",
       " 'East Lothian',\n",
       " 'Gloucestershire',\n",
       " 'Dumfries-shire',\n",
       " 'Co. Armagh',\n",
       " 'Avon',\n",
       " 'West Yorkshire',\n",
       " 'Angus',\n",
       " 'East Riding of Yorkshire',\n",
       " 'Co. Durham',\n",
       " 'Lanarkshire',\n",
       " 'Kinross-shire',\n",
       " 'Co. Down',\n",
       " 'Somerset',\n",
       " 'Co. Fermanagh',\n",
       " 'Highland',\n",
       " 'Orkney',\n",
       " 'East Sussex',\n",
       " 'Argyllshire',\n",
       " 'Perth',\n",
       " 'Renfrewshire',\n",
       " 'Peebles-shire',\n",
       " 'Western Isles',\n",
       " 'Cheshire',\n",
       " 'Dorset',\n",
       " 'Sutherland',\n",
       " 'North Yorkshire']"
      ]
     },
     "execution_count": 125,
     "metadata": {},
     "output_type": "execute_result"
    }
   ],
   "source": []
  },
  {
   "cell_type": "code",
   "execution_count": null,
   "metadata": {},
   "outputs": [],
   "source": []
  }
 ],
 "metadata": {
  "kernelspec": {
   "display_name": "Python 3",
   "language": "python",
   "name": "python3"
  },
  "language_info": {
   "codemirror_mode": {
    "name": "ipython",
    "version": 3
   },
   "file_extension": ".py",
   "mimetype": "text/x-python",
   "name": "python",
   "nbconvert_exporter": "python",
   "pygments_lexer": "ipython3",
   "version": "3.6.10"
  }
 },
 "nbformat": 4,
 "nbformat_minor": 4
}
