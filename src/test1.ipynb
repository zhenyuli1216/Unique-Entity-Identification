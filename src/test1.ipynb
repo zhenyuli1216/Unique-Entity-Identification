{
 "cells": [
  {
   "cell_type": "code",
   "execution_count": 10,
   "metadata": {},
   "outputs": [
    {
     "ename": "ModuleNotFoundError",
     "evalue": "No module named 'pyap'",
     "output_type": "error",
     "traceback": [
      "\u001b[0;31m---------------------------------------------------------------------------\u001b[0m",
      "\u001b[0;31mModuleNotFoundError\u001b[0m                       Traceback (most recent call last)",
      "\u001b[0;32m<ipython-input-10-baf4d30bfbc4>\u001b[0m in \u001b[0;36m<module>\u001b[0;34m\u001b[0m\n\u001b[1;32m      2\u001b[0m \u001b[0;32mimport\u001b[0m \u001b[0mre\u001b[0m\u001b[0;34m\u001b[0m\u001b[0;34m\u001b[0m\u001b[0m\n\u001b[1;32m      3\u001b[0m \u001b[0;32mimport\u001b[0m \u001b[0mnltk\u001b[0m\u001b[0;34m\u001b[0m\u001b[0;34m\u001b[0m\u001b[0m\n\u001b[0;32m----> 4\u001b[0;31m \u001b[0;32mimport\u001b[0m \u001b[0mpyap\u001b[0m\u001b[0;34m\u001b[0m\u001b[0;34m\u001b[0m\u001b[0m\n\u001b[0m\u001b[1;32m      5\u001b[0m \u001b[0;32mimport\u001b[0m \u001b[0mgooglemaps\u001b[0m\u001b[0;34m\u001b[0m\u001b[0;34m\u001b[0m\u001b[0m\n",
      "\u001b[0;31mModuleNotFoundError\u001b[0m: No module named 'pyap'"
     ]
    }
   ],
   "source": [
    "import pandas as pd\n",
    "import re\n",
    "import nltk\n",
    "import pyap\n",
    "import googlemaps"
   ]
  },
  {
   "cell_type": "markdown",
   "metadata": {},
   "source": [
    "## Load data"
   ]
  },
  {
   "cell_type": "code",
   "execution_count": 6,
   "metadata": {},
   "outputs": [],
   "source": [
    "with open('../data/data.txt', 'r') as f: \n",
    "    data = f.readlines()\n",
    "f.close()"
   ]
  },
  {
   "cell_type": "code",
   "execution_count": 7,
   "metadata": {},
   "outputs": [],
   "source": [
    "data = [x.rstrip().lstrip().strip('\\\",') for x in data]"
   ]
  },
  {
   "cell_type": "code",
   "execution_count": 8,
   "metadata": {
    "scrolled": false
   },
   "outputs": [
    {
     "name": "stdout",
     "output_type": "stream",
     "text": [
      "['Marks and Spencers Ltd', 'M&S Limited', 'NVIDIA Ireland', 'SLOUGH SE12 2XY', '33 TIMBER YARD,LONDON, L1 8XY', '44 CHINA ROAD, KOWLOON, HONG KONG', 'XYZ 13423 / ILD', 'ABC/ICL/20891NC', 'HARDWOOD TABLE', 'PLASTIC BOTTLE', 'LONDON', 'HONG KONG', 'ASIA', 'JP Morgan & Chase Co.', 'ICNAO02312', 'TOYS', '5 Time Square, New York, NY 10036', 'COMPUTER PARTS', 'INTEL CORPORATION', 'INTEL CO']\n"
     ]
    }
   ],
   "source": [
    "print (data)"
   ]
  },
  {
   "cell_type": "markdown",
   "metadata": {},
   "source": [
    "# Part 1\n",
    "#### non machine learning approach"
   ]
  },
  {
   "cell_type": "code",
   "execution_count": 223,
   "metadata": {},
   "outputs": [],
   "source": [
    "company_str = ['Corporation', 'Inc.', 'Co.', 'Corp', 'Cooperatives', 'Ltd', 'Limited', 'Company', \\\n",
    "                  'L.P.', 'Incorporated', 'International']\n",
    "def get_company(data, search_str): \n",
    "    search_str = re.compile(\"(\"+\"|\".join(search_str)+')$', re.IGNORECASE)\n",
    "    company_list = list(filter(search_str.search, data))\n",
    "    return company_list"
   ]
  },
  {
   "cell_type": "code",
   "execution_count": 224,
   "metadata": {},
   "outputs": [
    {
     "name": "stdout",
     "output_type": "stream",
     "text": [
      "company_name:  ['Marks and Spencers Ltd', 'M&S Limited', 'JP Morgan & Chase Co.']\n"
     ]
    }
   ],
   "source": [
    "print ('company_name: ', get_company(data, company_str))\n",
    "# NVIDIA Ireland will not be captured "
   ]
  },
  {
   "cell_type": "code",
   "execution_count": 356,
   "metadata": {},
   "outputs": [],
   "source": [
    "'''\n",
    "It's better to filter down to possible address/location data \n",
    "(using features like x, y coordinates) before using googlemaps\n",
    "'''\n",
    "gmaps = googlemaps.Client(key='#######################################')\n",
    "address_list = {}\n",
    "for d in data: \n",
    "    code = gmaps.geocode(d)\n",
    "    if len(code)>0 :\n",
    "        #print (d, '-----', code['type'])\n",
    "        address_list[d] = code"
   ]
  },
  {
   "cell_type": "code",
   "execution_count": 554,
   "metadata": {},
   "outputs": [
    {
     "name": "stdout",
     "output_type": "stream",
     "text": [
      "------Sample output from googlemaps------\n",
      "SLOUGH SE12 2XY\n",
      "[{'access_points': [], 'address_components': [{'long_name': 'Slough', 'short_name': 'Slough', 'types': ['locality', 'political']}, {'long_name': 'England', 'short_name': 'England', 'types': ['administrative_area_level_1', 'political']}, {'long_name': 'United Kingdom', 'short_name': 'GB', 'types': ['country', 'political']}], 'formatted_address': 'Slough, UK', 'geometry': {'bounds': {'northeast': {'lat': 51.5458426, 'lng': -0.4900443}, 'southwest': {'lat': 51.4679841, 'lng': -0.6601652}}, 'location': {'lat': 51.51053839999999, 'lng': -0.5950405999999999}, 'location_type': 'APPROXIMATE', 'viewport': {'northeast': {'lat': 51.5458426, 'lng': -0.4900443}, 'southwest': {'lat': 51.4679841, 'lng': -0.6601652}}}, 'place_id': 'ChIJqZKefkJjdkgRBgILuVKjbLE', 'types': ['locality', 'political']}]\n"
     ]
    }
   ],
   "source": [
    "print ('------Sample output from googlemaps------')\n",
    "print (list(address_list.keys())[0])\n",
    "print (list(address_list.values())[0])"
   ]
  },
  {
   "cell_type": "code",
   "execution_count": 403,
   "metadata": {},
   "outputs": [],
   "source": [
    "def get_adress_location(google_parsed): \n",
    "    return_address = []\n",
    "    reurn_location = []\n",
    "    address_keys = ['establishment', 'point_of_interest']\n",
    "    location_keys = ['country', 'continent', 'locality']\n",
    "    for k, v in google_parsed.items():\n",
    "        if set(address_keys).issubset(v[0]['types']):\n",
    "            return_address.append(k)\n",
    "        elif any(x in location_keys for x in v[0]['types']):\n",
    "            reurn_location.append(k)\n",
    "    return return_address, reurn_location"
   ]
  },
  {
   "cell_type": "code",
   "execution_count": 417,
   "metadata": {},
   "outputs": [
    {
     "name": "stdout",
     "output_type": "stream",
     "text": [
      "company_address:  ['33 TIMBER YARD,LONDON, L1 8XY', '44 CHINA ROAD, KOWLOON, HONG KONG', 'HARDWOOD TABLE', 'PLASTIC BOTTLE', 'JP Morgan & Chase Co.']\n",
      "location:  ['SLOUGH SE12 2XY', 'LONDON', 'HONG KONG', 'ASIA']\n"
     ]
    }
   ],
   "source": [
    "adress_location = get_adress_location(address_list)\n",
    "print ('company_address: ', adress_location[0])\n",
    "print ('location: ', adress_location[1])"
   ]
  },
  {
   "cell_type": "code",
   "execution_count": 309,
   "metadata": {},
   "outputs": [],
   "source": [
    "def get_serial_number(data): \n",
    "    # '/' is the only common feature in the 2 given serial numbers \n",
    "    return [d for d in data if '/' in d]"
   ]
  },
  {
   "cell_type": "code",
   "execution_count": 310,
   "metadata": {},
   "outputs": [
    {
     "name": "stdout",
     "output_type": "stream",
     "text": [
      "serial_number:  ['XYZ 13423 / ILD', 'ABC/ICL/20891NC']\n"
     ]
    }
   ],
   "source": [
    "print ('serial_number: ', get_serial_number(data))"
   ]
  },
  {
   "cell_type": "code",
   "execution_count": 321,
   "metadata": {},
   "outputs": [
    {
     "name": "stdout",
     "output_type": "stream",
     "text": [
      "Serial number pos tagging:\n",
      " [[('ABC/ICL/20891NC', 'NN')], [('XYZ', '$'), ('13423', 'CD'), ('/', 'NNP'), ('ILD', 'NNP')]]\n"
     ]
    }
   ],
   "source": [
    "# trying to see if there is any pattern \n",
    "sentence = ['ABC/ICL/20891NC', 'XYZ 13423 / ILD']\n",
    "tokens = [nltk.word_tokenize(s) for s in sentence]\n",
    "print ('Serial number pos tagging:\\n', [nltk.pos_tag(t) for t in tokens])\n",
    "'''\n",
    " If there is a pattern, for example ($,CD,NNP,NNP), then we can use \n",
    " pattern = r'NP: {<$><CD><NNP>*}'\n",
    " cp = nltk.RegexpParser(pattern)\n",
    " and then train IOB\n",
    " This requires well formatted input\n",
    "'''"
   ]
  },
  {
   "cell_type": "markdown",
   "metadata": {},
   "source": [
    "## Part 2"
   ]
  },
  {
   "cell_type": "code",
   "execution_count": 1,
   "metadata": {},
   "outputs": [],
   "source": [
    "from sklearn.feature_extraction import DictVectorizer, FeatureHasher\n",
    "from sklearn.feature_extraction.text import TfidfVectorizer\n",
    "import matplotlib.pyplot as plt\n",
    "from sklearn.decomposition import PCA\n",
    "from sklearn.cluster import KMeans\n",
    "import numpy as np\n",
    "import pickle as pk"
   ]
  },
  {
   "cell_type": "code",
   "execution_count": 2,
   "metadata": {},
   "outputs": [],
   "source": [
    "'''\n",
    "I only used TFIDF matrix as feature for the sake of demonstration. \n",
    "Ideally there will be other useful features\n",
    "'''\n",
    "tfidf_vectorizer = TfidfVectorizer(max_df=1, max_features=200000,min_df=1, use_idf=True, ngram_range=(1,2))"
   ]
  },
  {
   "cell_type": "code",
   "execution_count": 3,
   "metadata": {},
   "outputs": [
    {
     "data": {
      "text/plain": [
       "TfidfVectorizer(max_df=1, max_features=200000, ngram_range=(1, 2))"
      ]
     },
     "execution_count": 3,
     "metadata": {},
     "output_type": "execute_result"
    }
   ],
   "source": [
    "tfidf_vectorizer"
   ]
  },
  {
   "cell_type": "code",
   "execution_count": 15,
   "metadata": {},
   "outputs": [],
   "source": [
    "def structure_new_df(text_strings, vector_matrix, model): \n",
    "    df = pd.DataFrame(columns = ['text', 'vector', '2D', 'cluster'])\n",
    "    mat_array = vector_matrix.tolist()\n",
    "    #print (vector_matrix.shape)\n",
    "    df['text'] = text_strings\n",
    "    df['vector'] = mat_array\n",
    "    pca = PCA(n_components=2).fit(vector_matrix)\n",
    "    \n",
    "    data2D = pca.transform(vector_matrix).tolist()\n",
    "    df['2D'] = data2D\n",
    "    df['cluster'] = df['vector'].apply(lambda x: 'cluster_'+str(model.predict(np.reshape(x, (-1, len(x))))[0]))\n",
    "    return df\n",
    "\n",
    "def generate_scatter_plot(df): \n",
    "    plt.clf()\n",
    "    data2D = np.array(df['2D'].tolist())\n",
    "    n = df.index\n",
    "    plt.scatter(data2D[:,0], data2D[:,1])\n",
    "    for i, txt in enumerate(n):\n",
    "        plt.annotate(txt, (data2D[i,0], data2D[i,1]))\n",
    "    plt.show()\n",
    "    #return plot"
   ]
  },
  {
   "cell_type": "code",
   "execution_count": 16,
   "metadata": {},
   "outputs": [
    {
     "name": "stdout",
     "output_type": "stream",
     "text": [
      "(20, 76)\n"
     ]
    }
   ],
   "source": [
    "# create initial clusters \n",
    "tfidf_init = tfidf_vectorizer.fit_transform(data).todense()\n",
    "kmeans = KMeans(n_clusters=4, random_state = 0).fit(tfidf_init)\n",
    "init_df = structure_new_df(data, tfidf_init, kmeans)"
   ]
  },
  {
   "cell_type": "markdown",
   "metadata": {},
   "source": [
    "Initial vector and plot"
   ]
  },
  {
   "cell_type": "code",
   "execution_count": 12,
   "metadata": {
    "scrolled": true
   },
   "outputs": [
    {
     "data": {
      "text/html": [
       "<div>\n",
       "<style scoped>\n",
       "    .dataframe tbody tr th:only-of-type {\n",
       "        vertical-align: middle;\n",
       "    }\n",
       "\n",
       "    .dataframe tbody tr th {\n",
       "        vertical-align: top;\n",
       "    }\n",
       "\n",
       "    .dataframe thead th {\n",
       "        text-align: right;\n",
       "    }\n",
       "</style>\n",
       "<table border=\"1\" class=\"dataframe\">\n",
       "  <thead>\n",
       "    <tr style=\"text-align: right;\">\n",
       "      <th></th>\n",
       "      <th>text</th>\n",
       "      <th>vector</th>\n",
       "      <th>2D</th>\n",
       "      <th>cluster</th>\n",
       "    </tr>\n",
       "  </thead>\n",
       "  <tbody>\n",
       "    <tr>\n",
       "      <th>0</th>\n",
       "      <td>Marks and Spencers Ltd</td>\n",
       "      <td>[0.0, 0.0, 0.0, 0.0, 0.0, 0.0, 0.0, 0.0, 0.0, ...</td>\n",
       "      <td>[-2.688821387764051e-17, -2.2551405187698492e-17]</td>\n",
       "      <td>cluster_1</td>\n",
       "    </tr>\n",
       "    <tr>\n",
       "      <th>1</th>\n",
       "      <td>M&amp;S Limited</td>\n",
       "      <td>[0.0, 0.0, 0.0, 0.0, 0.0, 0.0, 0.0, 0.0, 0.0, ...</td>\n",
       "      <td>[-0.3013969212290024, 0.010946617216642678]</td>\n",
       "      <td>cluster_1</td>\n",
       "    </tr>\n",
       "    <tr>\n",
       "      <th>2</th>\n",
       "      <td>NVIDIA Ireland</td>\n",
       "      <td>[0.0, 0.0, 0.0, 0.0, 0.0, 0.0, 0.0, 0.0, 0.0, ...</td>\n",
       "      <td>[-0.3579928977872876, 0.4803383626756066]</td>\n",
       "      <td>cluster_2</td>\n",
       "    </tr>\n",
       "    <tr>\n",
       "      <th>3</th>\n",
       "      <td>SLOUGH SE12 2XY</td>\n",
       "      <td>[0.0, 0.0, 0.0, 0.0, 0.4472135954999579, 0.0, ...</td>\n",
       "      <td>[-0.30817590330924566, -0.24700289061207908]</td>\n",
       "      <td>cluster_1</td>\n",
       "    </tr>\n",
       "    <tr>\n",
       "      <th>4</th>\n",
       "      <td>33 TIMBER YARD,LONDON, L1 8XY</td>\n",
       "      <td>[0.0, 0.0, 0.0, 0.0, 0.0, 0.3162277660168379, ...</td>\n",
       "      <td>[-0.17732898634670424, -0.11441612228388383]</td>\n",
       "      <td>cluster_1</td>\n",
       "    </tr>\n",
       "    <tr>\n",
       "      <th>5</th>\n",
       "      <td>44 CHINA ROAD, KOWLOON, HONG KONG</td>\n",
       "      <td>[0.0, 0.0, 0.0, 0.0, 0.0, 0.0, 0.0, 0.35355339...</td>\n",
       "      <td>[0.01683857452950952, 0.02015767225199336]</td>\n",
       "      <td>cluster_1</td>\n",
       "    </tr>\n",
       "    <tr>\n",
       "      <th>6</th>\n",
       "      <td>XYZ 13423 / ILD</td>\n",
       "      <td>[0.0, 0.4472135954999579, 0.4472135954999579, ...</td>\n",
       "      <td>[-0.09271057026878268, -0.03289804860726471]</td>\n",
       "      <td>cluster_1</td>\n",
       "    </tr>\n",
       "    <tr>\n",
       "      <th>7</th>\n",
       "      <td>ABC/ICL/20891NC</td>\n",
       "      <td>[0.0, 0.0, 0.0, 0.4472135954999579, 0.0, 0.0, ...</td>\n",
       "      <td>[-0.25268649340319055, -0.08072548327504525]</td>\n",
       "      <td>cluster_1</td>\n",
       "    </tr>\n",
       "    <tr>\n",
       "      <th>8</th>\n",
       "      <td>HARDWOOD TABLE</td>\n",
       "      <td>[0.0, 0.0, 0.0, 0.0, 0.0, 0.0, 0.0, 0.0, 0.0, ...</td>\n",
       "      <td>[0.49544944449308437, -0.09052650961925993]</td>\n",
       "      <td>cluster_1</td>\n",
       "    </tr>\n",
       "    <tr>\n",
       "      <th>9</th>\n",
       "      <td>PLASTIC BOTTLE</td>\n",
       "      <td>[0.0, 0.0, 0.0, 0.0, 0.0, 0.0, 0.0, 0.0, 0.0, ...</td>\n",
       "      <td>[0.37960165036850696, 0.10759838419227344]</td>\n",
       "      <td>cluster_1</td>\n",
       "    </tr>\n",
       "    <tr>\n",
       "      <th>10</th>\n",
       "      <td>LONDON</td>\n",
       "      <td>[0.0, 0.0, 0.0, 0.0, 0.0, 0.0, 0.0, 0.0, 0.0, ...</td>\n",
       "      <td>[1.6479873021779667e-17, -2.6020852139652106e-17]</td>\n",
       "      <td>cluster_1</td>\n",
       "    </tr>\n",
       "    <tr>\n",
       "      <th>11</th>\n",
       "      <td>HONG KONG</td>\n",
       "      <td>[0.0, 0.0, 0.0, 0.0, 0.0, 0.0, 0.0, 0.0, 0.0, ...</td>\n",
       "      <td>[1.6479873021779667e-17, -2.6020852139652106e-17]</td>\n",
       "      <td>cluster_1</td>\n",
       "    </tr>\n",
       "    <tr>\n",
       "      <th>12</th>\n",
       "      <td>ASIA</td>\n",
       "      <td>[0.0, 0.0, 0.0, 0.0, 0.0, 0.0, 0.0, 0.0, 0.0, ...</td>\n",
       "      <td>[0.3963321802883766, 0.25651079590424336]</td>\n",
       "      <td>cluster_1</td>\n",
       "    </tr>\n",
       "    <tr>\n",
       "      <th>13</th>\n",
       "      <td>JP Morgan &amp; Chase Co.</td>\n",
       "      <td>[0.0, 0.0, 0.0, 0.0, 0.0, 0.0, 0.0, 0.0, 0.0, ...</td>\n",
       "      <td>[0.0633015577387969, -0.20610322239768525]</td>\n",
       "      <td>cluster_1</td>\n",
       "    </tr>\n",
       "    <tr>\n",
       "      <th>14</th>\n",
       "      <td>ICNAO02312</td>\n",
       "      <td>[0.0, 0.0, 0.0, 0.0, 0.0, 0.0, 0.0, 0.0, 0.0, ...</td>\n",
       "      <td>[-0.023810063633269794, 0.46597688676669474]</td>\n",
       "      <td>cluster_1</td>\n",
       "    </tr>\n",
       "    <tr>\n",
       "      <th>15</th>\n",
       "      <td>TOYS</td>\n",
       "      <td>[0.0, 0.0, 0.0, 0.0, 0.0, 0.0, 0.0, 0.0, 0.0, ...</td>\n",
       "      <td>[0.15297749412452402, -0.33790603979700135]</td>\n",
       "      <td>cluster_1</td>\n",
       "    </tr>\n",
       "    <tr>\n",
       "      <th>16</th>\n",
       "      <td>5 Time Square, New York, NY 10036</td>\n",
       "      <td>[0.30151134457776363, 0.0, 0.0, 0.0, 0.0, 0.0,...</td>\n",
       "      <td>[0.023871767431087536, -0.061278129119226775]</td>\n",
       "      <td>cluster_1</td>\n",
       "    </tr>\n",
       "    <tr>\n",
       "      <th>17</th>\n",
       "      <td>COMPUTER PARTS</td>\n",
       "      <td>[0.0, 0.0, 0.0, 0.0, 0.0, 0.0, 0.0, 0.0, 0.0, ...</td>\n",
       "      <td>[-0.07100818159796454, -0.40354788861342494]</td>\n",
       "      <td>cluster_0</td>\n",
       "    </tr>\n",
       "    <tr>\n",
       "      <th>18</th>\n",
       "      <td>INTEL CORPORATION</td>\n",
       "      <td>[0.0, 0.0, 0.0, 0.0, 0.0, 0.0, 0.0, 0.0, 0.0, ...</td>\n",
       "      <td>[0.030525542022049348, -0.013875972559208]</td>\n",
       "      <td>cluster_1</td>\n",
       "    </tr>\n",
       "    <tr>\n",
       "      <th>19</th>\n",
       "      <td>INTEL CO</td>\n",
       "      <td>[0.0, 0.0, 0.0, 0.0, 0.0, 0.0, 0.0, 0.0, 0.0, ...</td>\n",
       "      <td>[0.026211806579512158, 0.24675158787662524]</td>\n",
       "      <td>cluster_3</td>\n",
       "    </tr>\n",
       "  </tbody>\n",
       "</table>\n",
       "</div>"
      ],
      "text/plain": [
       "                                 text  \\\n",
       "0              Marks and Spencers Ltd   \n",
       "1                         M&S Limited   \n",
       "2                      NVIDIA Ireland   \n",
       "3                     SLOUGH SE12 2XY   \n",
       "4       33 TIMBER YARD,LONDON, L1 8XY   \n",
       "5   44 CHINA ROAD, KOWLOON, HONG KONG   \n",
       "6                     XYZ 13423 / ILD   \n",
       "7                     ABC/ICL/20891NC   \n",
       "8                      HARDWOOD TABLE   \n",
       "9                      PLASTIC BOTTLE   \n",
       "10                             LONDON   \n",
       "11                          HONG KONG   \n",
       "12                               ASIA   \n",
       "13              JP Morgan & Chase Co.   \n",
       "14                         ICNAO02312   \n",
       "15                               TOYS   \n",
       "16  5 Time Square, New York, NY 10036   \n",
       "17                     COMPUTER PARTS   \n",
       "18                  INTEL CORPORATION   \n",
       "19                           INTEL CO   \n",
       "\n",
       "                                               vector  \\\n",
       "0   [0.0, 0.0, 0.0, 0.0, 0.0, 0.0, 0.0, 0.0, 0.0, ...   \n",
       "1   [0.0, 0.0, 0.0, 0.0, 0.0, 0.0, 0.0, 0.0, 0.0, ...   \n",
       "2   [0.0, 0.0, 0.0, 0.0, 0.0, 0.0, 0.0, 0.0, 0.0, ...   \n",
       "3   [0.0, 0.0, 0.0, 0.0, 0.4472135954999579, 0.0, ...   \n",
       "4   [0.0, 0.0, 0.0, 0.0, 0.0, 0.3162277660168379, ...   \n",
       "5   [0.0, 0.0, 0.0, 0.0, 0.0, 0.0, 0.0, 0.35355339...   \n",
       "6   [0.0, 0.4472135954999579, 0.4472135954999579, ...   \n",
       "7   [0.0, 0.0, 0.0, 0.4472135954999579, 0.0, 0.0, ...   \n",
       "8   [0.0, 0.0, 0.0, 0.0, 0.0, 0.0, 0.0, 0.0, 0.0, ...   \n",
       "9   [0.0, 0.0, 0.0, 0.0, 0.0, 0.0, 0.0, 0.0, 0.0, ...   \n",
       "10  [0.0, 0.0, 0.0, 0.0, 0.0, 0.0, 0.0, 0.0, 0.0, ...   \n",
       "11  [0.0, 0.0, 0.0, 0.0, 0.0, 0.0, 0.0, 0.0, 0.0, ...   \n",
       "12  [0.0, 0.0, 0.0, 0.0, 0.0, 0.0, 0.0, 0.0, 0.0, ...   \n",
       "13  [0.0, 0.0, 0.0, 0.0, 0.0, 0.0, 0.0, 0.0, 0.0, ...   \n",
       "14  [0.0, 0.0, 0.0, 0.0, 0.0, 0.0, 0.0, 0.0, 0.0, ...   \n",
       "15  [0.0, 0.0, 0.0, 0.0, 0.0, 0.0, 0.0, 0.0, 0.0, ...   \n",
       "16  [0.30151134457776363, 0.0, 0.0, 0.0, 0.0, 0.0,...   \n",
       "17  [0.0, 0.0, 0.0, 0.0, 0.0, 0.0, 0.0, 0.0, 0.0, ...   \n",
       "18  [0.0, 0.0, 0.0, 0.0, 0.0, 0.0, 0.0, 0.0, 0.0, ...   \n",
       "19  [0.0, 0.0, 0.0, 0.0, 0.0, 0.0, 0.0, 0.0, 0.0, ...   \n",
       "\n",
       "                                                   2D    cluster  \n",
       "0   [-2.688821387764051e-17, -2.2551405187698492e-17]  cluster_1  \n",
       "1         [-0.3013969212290024, 0.010946617216642678]  cluster_1  \n",
       "2           [-0.3579928977872876, 0.4803383626756066]  cluster_2  \n",
       "3        [-0.30817590330924566, -0.24700289061207908]  cluster_1  \n",
       "4        [-0.17732898634670424, -0.11441612228388383]  cluster_1  \n",
       "5          [0.01683857452950952, 0.02015767225199336]  cluster_1  \n",
       "6        [-0.09271057026878268, -0.03289804860726471]  cluster_1  \n",
       "7        [-0.25268649340319055, -0.08072548327504525]  cluster_1  \n",
       "8         [0.49544944449308437, -0.09052650961925993]  cluster_1  \n",
       "9          [0.37960165036850696, 0.10759838419227344]  cluster_1  \n",
       "10  [1.6479873021779667e-17, -2.6020852139652106e-17]  cluster_1  \n",
       "11  [1.6479873021779667e-17, -2.6020852139652106e-17]  cluster_1  \n",
       "12          [0.3963321802883766, 0.25651079590424336]  cluster_1  \n",
       "13         [0.0633015577387969, -0.20610322239768525]  cluster_1  \n",
       "14       [-0.023810063633269794, 0.46597688676669474]  cluster_1  \n",
       "15        [0.15297749412452402, -0.33790603979700135]  cluster_1  \n",
       "16      [0.023871767431087536, -0.061278129119226775]  cluster_1  \n",
       "17       [-0.07100818159796454, -0.40354788861342494]  cluster_0  \n",
       "18         [0.030525542022049348, -0.013875972559208]  cluster_1  \n",
       "19        [0.026211806579512158, 0.24675158787662524]  cluster_3  "
      ]
     },
     "execution_count": 12,
     "metadata": {},
     "output_type": "execute_result"
    }
   ],
   "source": [
    "init_df"
   ]
  },
  {
   "cell_type": "code",
   "execution_count": 1073,
   "metadata": {},
   "outputs": [
    {
     "data": {
      "image/png": "[encoded data removed]",
      "text/plain": [
       "<Figure size 432x288 with 1 Axes>"
      ]
     },
     "metadata": {
      "needs_background": "light"
     },
     "output_type": "display_data"
    }
   ],
   "source": [
    "init_plt = generate_scatter_plot(init_df)"
   ]
  },
  {
   "cell_type": "code",
   "execution_count": 1074,
   "metadata": {},
   "outputs": [],
   "source": [
    "def get_prediction_df(current_df, vectorizer, k, new_string, plot = True): \n",
    "    current_dic = dict(zip(current_df['text'], current_df['vector']))\n",
    "    corpus = current_df['text'].tolist()\n",
    "    if new_string and new_string not in corpus: \n",
    "        print (new_string, '--This is a new string')\n",
    "        corpus += [new_string]  \n",
    "        X = tfidf_vectorizer.fit_transform(corpus)\n",
    "        tfidf_matrix = X.todense()\n",
    "        kmeans = KMeans(n_clusters=4, random_state = 0).fit(tfidf_matrix)\n",
    "        df = structure_new_df(corpus, tfidf_matrix, model = kmeans)\n",
    "    else: \n",
    "        print (new_string, '--String already exist')\n",
    "        row = current_df[current_df['text'] == new_string]\n",
    "        df = current_df.append(row)\n",
    "    if plot == True: \n",
    "        new_plot = generate_scatter_plot(df)\n",
    "    return df\n",
    "\n",
    "def print_clusters(df):\n",
    "    cluster_dict = df.groupby('cluster')['text'].apply(list).to_dict()\n",
    "    for k, v, in cluster_dict.items():\n",
    "        print (k, v)"
   ]
  },
  {
   "cell_type": "markdown",
   "metadata": {},
   "source": [
    "1) add the same string twice \n",
    "<br>everytime when a new vocab is added, tfidf_vectorizer changes dimensions which means the plot coordinates change "
   ]
  },
  {
   "cell_type": "code",
   "execution_count": 1075,
   "metadata": {},
   "outputs": [
    {
     "name": "stdout",
     "output_type": "stream",
     "text": [
      "420 5th ave, New York, NY --This is a new string\n"
     ]
    },
    {
     "data": {
      "image/png": "[encoded data removed]",
      "text/plain": [
       "<Figure size 432x288 with 1 Axes>"
      ]
     },
     "metadata": {
      "needs_background": "light"
     },
     "output_type": "display_data"
    }
   ],
   "source": [
    "c_df = init_df\n",
    "c_df = get_prediction_df(c_df, tfidf_vectorizer, k = 4, new_string = '420 5th ave, New York, NY', plot = True)"
   ]
  },
  {
   "cell_type": "code",
   "execution_count": 1076,
   "metadata": {},
   "outputs": [
    {
     "name": "stdout",
     "output_type": "stream",
     "text": [
      "420 5th ave, New York, NY --String already exist\n"
     ]
    },
    {
     "data": {
      "image/png": "[encoded data removed]",
      "text/plain": [
       "<Figure size 432x288 with 1 Axes>"
      ]
     },
     "metadata": {
      "needs_background": "light"
     },
     "output_type": "display_data"
    }
   ],
   "source": [
    "c_df = get_prediction_df(c_df, tfidf_vectorizer, k = 4, new_string = '420 5th ave, New York, NY', plot = True)"
   ]
  },
  {
   "cell_type": "markdown",
   "metadata": {},
   "source": [
    "2) Add 2 new strings"
   ]
  },
  {
   "cell_type": "code",
   "execution_count": 1077,
   "metadata": {},
   "outputs": [
    {
     "name": "stdout",
     "output_type": "stream",
     "text": [
      "standing desk --This is a new string\n",
      "American Airlines, Inc. --This is a new string\n"
     ]
    },
    {
     "data": {
      "image/png": "[encoded data removed]",
      "text/plain": [
       "<Figure size 432x288 with 1 Axes>"
      ]
     },
     "metadata": {
      "needs_background": "light"
     },
     "output_type": "display_data"
    }
   ],
   "source": [
    "c_df = get_prediction_df(c_df, tfidf_vectorizer, k = 4, new_string = 'standing desk', plot = False)\n",
    "c_df = get_prediction_df(c_df, tfidf_vectorizer, k = 4, new_string = 'American Airlines, Inc.', plot = True)"
   ]
  },
  {
   "cell_type": "code",
   "execution_count": 1078,
   "metadata": {},
   "outputs": [
    {
     "name": "stdout",
     "output_type": "stream",
     "text": [
      "cluster_0 ['M&S Limited']\n",
      "cluster_1 ['33 TIMBER YARD,LONDON, L1 8XY']\n",
      "cluster_2 ['NVIDIA Ireland']\n",
      "cluster_3 ['Marks and Spencers Ltd', 'SLOUGH SE12 2XY', '44 CHINA ROAD, KOWLOON, HONG KONG', 'XYZ 13423 / ILD', 'ABC/ICL/20891NC', 'HARDWOOD TABLE', 'PLASTIC BOTTLE', 'LONDON', 'HONG KONG', 'ASIA', 'JP Morgan & Chase Co.', '420 5th ave, New York, NY', '420 5th ave, New York, NY', 'standing desk', 'American Airlines, Inc.']\n"
     ]
    }
   ],
   "source": [
    "print_clusters(c_df)"
   ]
  },
  {
   "cell_type": "markdown",
   "metadata": {},
   "source": [
    "From both plot and the 2D column, we can see some of the data points are very close, such as\n",
    "<br> #10, London\n",
    "<br> #11, Hong Kong\n",
    "<br> #14 and #15, 420 5th ave, New York, NY\t"
   ]
  },
  {
   "cell_type": "code",
   "execution_count": 1079,
   "metadata": {},
   "outputs": [
    {
     "data": {
      "text/html": [
       "<div>\n",
       "<style scoped>\n",
       "    .dataframe tbody tr th:only-of-type {\n",
       "        vertical-align: middle;\n",
       "    }\n",
       "\n",
       "    .dataframe tbody tr th {\n",
       "        vertical-align: top;\n",
       "    }\n",
       "\n",
       "    .dataframe thead th {\n",
       "        text-align: right;\n",
       "    }\n",
       "</style>\n",
       "<table border=\"1\" class=\"dataframe\">\n",
       "  <thead>\n",
       "    <tr style=\"text-align: right;\">\n",
       "      <th></th>\n",
       "      <th>text</th>\n",
       "      <th>vector</th>\n",
       "      <th>2D</th>\n",
       "      <th>cluster</th>\n",
       "    </tr>\n",
       "  </thead>\n",
       "  <tbody>\n",
       "    <tr>\n",
       "      <th>0</th>\n",
       "      <td>Marks and Spencers Ltd</td>\n",
       "      <td>[0.0, 0.0, 0.0, 0.0, 0.0, 0.0, 0.0, 0.0, 0.0, ...</td>\n",
       "      <td>[3.5561831257524545e-17, -2.688821387764051e-17]</td>\n",
       "      <td>cluster_3</td>\n",
       "    </tr>\n",
       "    <tr>\n",
       "      <th>1</th>\n",
       "      <td>M&amp;S Limited</td>\n",
       "      <td>[0.0, 0.0, 0.0, 0.0, 0.0, 0.0, 0.0, 0.0, 0.0, ...</td>\n",
       "      <td>[-0.24970247013266395, -0.022986854595491844]</td>\n",
       "      <td>cluster_0</td>\n",
       "    </tr>\n",
       "    <tr>\n",
       "      <th>2</th>\n",
       "      <td>NVIDIA Ireland</td>\n",
       "      <td>[0.0, 0.0, 0.0, 0.0, 0.0, 0.0, 0.0, 0.0, 0.0, ...</td>\n",
       "      <td>[-0.38969841831380486, -0.14110210241919746]</td>\n",
       "      <td>cluster_2</td>\n",
       "    </tr>\n",
       "    <tr>\n",
       "      <th>3</th>\n",
       "      <td>SLOUGH SE12 2XY</td>\n",
       "      <td>[0.0, 0.0, 0.0, 0.4472135954999579, 0.0, 0.0, ...</td>\n",
       "      <td>[0.5556074599400634, -0.3679424616514372]</td>\n",
       "      <td>cluster_3</td>\n",
       "    </tr>\n",
       "    <tr>\n",
       "      <th>4</th>\n",
       "      <td>33 TIMBER YARD,LONDON, L1 8XY</td>\n",
       "      <td>[0.0, 0.0, 0.0, 0.0, 0.31622776601683794, 0.31...</td>\n",
       "      <td>[0.16713344800753593, -0.03213755917498132]</td>\n",
       "      <td>cluster_1</td>\n",
       "    </tr>\n",
       "    <tr>\n",
       "      <th>5</th>\n",
       "      <td>44 CHINA ROAD, KOWLOON, HONG KONG</td>\n",
       "      <td>[0.0, 0.0, 0.0, 0.0, 0.0, 0.0, 0.3535533905932...</td>\n",
       "      <td>[0.029972475844704964, -0.09508358578948783]</td>\n",
       "      <td>cluster_3</td>\n",
       "    </tr>\n",
       "    <tr>\n",
       "      <th>6</th>\n",
       "      <td>XYZ 13423 / ILD</td>\n",
       "      <td>[0.4472135954999579, 0.4472135954999579, 0.0, ...</td>\n",
       "      <td>[0.10683283895197068, -0.03835969220527145]</td>\n",
       "      <td>cluster_3</td>\n",
       "    </tr>\n",
       "    <tr>\n",
       "      <th>7</th>\n",
       "      <td>ABC/ICL/20891NC</td>\n",
       "      <td>[0.0, 0.0, 0.4472135954999579, 0.0, 0.0, 0.0, ...</td>\n",
       "      <td>[0.37259797777259535, 0.13563917705376807]</td>\n",
       "      <td>cluster_3</td>\n",
       "    </tr>\n",
       "    <tr>\n",
       "      <th>8</th>\n",
       "      <td>HARDWOOD TABLE</td>\n",
       "      <td>[0.0, 0.0, 0.0, 0.0, 0.0, 0.0, 0.0, 0.0, 0.0, ...</td>\n",
       "      <td>[0.10147518128957445, 0.2629599319323672]</td>\n",
       "      <td>cluster_3</td>\n",
       "    </tr>\n",
       "    <tr>\n",
       "      <th>9</th>\n",
       "      <td>PLASTIC BOTTLE</td>\n",
       "      <td>[0.0, 0.0, 0.0, 0.0, 0.0, 0.0, 0.0, 0.0, 0.0, ...</td>\n",
       "      <td>[0.08044645453632654, 0.7121306014383066]</td>\n",
       "      <td>cluster_3</td>\n",
       "    </tr>\n",
       "    <tr>\n",
       "      <th>10</th>\n",
       "      <td>LONDON</td>\n",
       "      <td>[0.0, 0.0, 0.0, 0.0, 0.0, 0.0, 0.0, 0.0, 0.0, ...</td>\n",
       "      <td>[-7.546047120499111e-17, -2.949029909160572e-17]</td>\n",
       "      <td>cluster_3</td>\n",
       "    </tr>\n",
       "    <tr>\n",
       "      <th>11</th>\n",
       "      <td>HONG KONG</td>\n",
       "      <td>[0.0, 0.0, 0.0, 0.0, 0.0, 0.0, 0.0, 0.0, 0.0, ...</td>\n",
       "      <td>[-7.546047120499111e-17, -2.949029909160572e-17]</td>\n",
       "      <td>cluster_3</td>\n",
       "    </tr>\n",
       "    <tr>\n",
       "      <th>12</th>\n",
       "      <td>ASIA</td>\n",
       "      <td>[0.0, 0.0, 0.0, 0.0, 0.0, 0.0, 0.0, 0.0, 0.0, ...</td>\n",
       "      <td>[-0.12615289729478055, 0.11333483459503503]</td>\n",
       "      <td>cluster_3</td>\n",
       "    </tr>\n",
       "    <tr>\n",
       "      <th>13</th>\n",
       "      <td>JP Morgan &amp; Chase Co.</td>\n",
       "      <td>[0.0, 0.0, 0.0, 0.0, 0.0, 0.0, 0.0, 0.0, 0.0, ...</td>\n",
       "      <td>[0.051741406531296635, -0.25397771544113423]</td>\n",
       "      <td>cluster_3</td>\n",
       "    </tr>\n",
       "    <tr>\n",
       "      <th>14</th>\n",
       "      <td>420 5th ave, New York, NY</td>\n",
       "      <td>[0.0, 0.0, 0.0, 0.0, 0.0, 0.0, 0.0, 0.0, 0.0, ...</td>\n",
       "      <td>[-7.546047120499111e-17, -2.949029909160572e-17]</td>\n",
       "      <td>cluster_3</td>\n",
       "    </tr>\n",
       "    <tr>\n",
       "      <th>15</th>\n",
       "      <td>420 5th ave, New York, NY</td>\n",
       "      <td>[0.0, 0.0, 0.0, 0.0, 0.0, 0.0, 0.0, 0.0, 0.0, ...</td>\n",
       "      <td>[-7.546047120499111e-17, -2.949029909160572e-17]</td>\n",
       "      <td>cluster_3</td>\n",
       "    </tr>\n",
       "    <tr>\n",
       "      <th>16</th>\n",
       "      <td>standing desk</td>\n",
       "      <td>[0.0, 0.0, 0.0, 0.0, 0.0, 0.0, 0.0, 0.0, 0.0, ...</td>\n",
       "      <td>[-0.4435924953964291, 0.11224651757095973]</td>\n",
       "      <td>cluster_3</td>\n",
       "    </tr>\n",
       "    <tr>\n",
       "      <th>17</th>\n",
       "      <td>American Airlines, Inc.</td>\n",
       "      <td>[0.0, 0.0, 0.0, 0.0, 0.0, 0.0, 0.0, 0.0, 0.0, ...</td>\n",
       "      <td>[-0.2566609617363893, -0.3847210913134351]</td>\n",
       "      <td>cluster_3</td>\n",
       "    </tr>\n",
       "  </tbody>\n",
       "</table>\n",
       "</div>"
      ],
      "text/plain": [
       "                                 text  \\\n",
       "0              Marks and Spencers Ltd   \n",
       "1                         M&S Limited   \n",
       "2                      NVIDIA Ireland   \n",
       "3                     SLOUGH SE12 2XY   \n",
       "4       33 TIMBER YARD,LONDON, L1 8XY   \n",
       "5   44 CHINA ROAD, KOWLOON, HONG KONG   \n",
       "6                     XYZ 13423 / ILD   \n",
       "7                     ABC/ICL/20891NC   \n",
       "8                      HARDWOOD TABLE   \n",
       "9                      PLASTIC BOTTLE   \n",
       "10                             LONDON   \n",
       "11                          HONG KONG   \n",
       "12                               ASIA   \n",
       "13              JP Morgan & Chase Co.   \n",
       "14          420 5th ave, New York, NY   \n",
       "15          420 5th ave, New York, NY   \n",
       "16                      standing desk   \n",
       "17            American Airlines, Inc.   \n",
       "\n",
       "                                               vector  \\\n",
       "0   [0.0, 0.0, 0.0, 0.0, 0.0, 0.0, 0.0, 0.0, 0.0, ...   \n",
       "1   [0.0, 0.0, 0.0, 0.0, 0.0, 0.0, 0.0, 0.0, 0.0, ...   \n",
       "2   [0.0, 0.0, 0.0, 0.0, 0.0, 0.0, 0.0, 0.0, 0.0, ...   \n",
       "3   [0.0, 0.0, 0.0, 0.4472135954999579, 0.0, 0.0, ...   \n",
       "4   [0.0, 0.0, 0.0, 0.0, 0.31622776601683794, 0.31...   \n",
       "5   [0.0, 0.0, 0.0, 0.0, 0.0, 0.0, 0.3535533905932...   \n",
       "6   [0.4472135954999579, 0.4472135954999579, 0.0, ...   \n",
       "7   [0.0, 0.0, 0.4472135954999579, 0.0, 0.0, 0.0, ...   \n",
       "8   [0.0, 0.0, 0.0, 0.0, 0.0, 0.0, 0.0, 0.0, 0.0, ...   \n",
       "9   [0.0, 0.0, 0.0, 0.0, 0.0, 0.0, 0.0, 0.0, 0.0, ...   \n",
       "10  [0.0, 0.0, 0.0, 0.0, 0.0, 0.0, 0.0, 0.0, 0.0, ...   \n",
       "11  [0.0, 0.0, 0.0, 0.0, 0.0, 0.0, 0.0, 0.0, 0.0, ...   \n",
       "12  [0.0, 0.0, 0.0, 0.0, 0.0, 0.0, 0.0, 0.0, 0.0, ...   \n",
       "13  [0.0, 0.0, 0.0, 0.0, 0.0, 0.0, 0.0, 0.0, 0.0, ...   \n",
       "14  [0.0, 0.0, 0.0, 0.0, 0.0, 0.0, 0.0, 0.0, 0.0, ...   \n",
       "15  [0.0, 0.0, 0.0, 0.0, 0.0, 0.0, 0.0, 0.0, 0.0, ...   \n",
       "16  [0.0, 0.0, 0.0, 0.0, 0.0, 0.0, 0.0, 0.0, 0.0, ...   \n",
       "17  [0.0, 0.0, 0.0, 0.0, 0.0, 0.0, 0.0, 0.0, 0.0, ...   \n",
       "\n",
       "                                                  2D    cluster  \n",
       "0   [3.5561831257524545e-17, -2.688821387764051e-17]  cluster_3  \n",
       "1      [-0.24970247013266395, -0.022986854595491844]  cluster_0  \n",
       "2       [-0.38969841831380486, -0.14110210241919746]  cluster_2  \n",
       "3          [0.5556074599400634, -0.3679424616514372]  cluster_3  \n",
       "4        [0.16713344800753593, -0.03213755917498132]  cluster_1  \n",
       "5       [0.029972475844704964, -0.09508358578948783]  cluster_3  \n",
       "6        [0.10683283895197068, -0.03835969220527145]  cluster_3  \n",
       "7         [0.37259797777259535, 0.13563917705376807]  cluster_3  \n",
       "8          [0.10147518128957445, 0.2629599319323672]  cluster_3  \n",
       "9          [0.08044645453632654, 0.7121306014383066]  cluster_3  \n",
       "10  [-7.546047120499111e-17, -2.949029909160572e-17]  cluster_3  \n",
       "11  [-7.546047120499111e-17, -2.949029909160572e-17]  cluster_3  \n",
       "12       [-0.12615289729478055, 0.11333483459503503]  cluster_3  \n",
       "13      [0.051741406531296635, -0.25397771544113423]  cluster_3  \n",
       "14  [-7.546047120499111e-17, -2.949029909160572e-17]  cluster_3  \n",
       "15  [-7.546047120499111e-17, -2.949029909160572e-17]  cluster_3  \n",
       "16        [-0.4435924953964291, 0.11224651757095973]  cluster_3  \n",
       "17        [-0.2566609617363893, -0.3847210913134351]  cluster_3  "
      ]
     },
     "execution_count": 1079,
     "metadata": {},
     "output_type": "execute_result"
    }
   ],
   "source": [
    "c_df"
   ]
  },
  {
   "cell_type": "code",
   "execution_count": null,
   "metadata": {},
   "outputs": [],
   "source": []
  }
 ],
 "metadata": {
  "kernelspec": {
   "display_name": "Python 3",
   "language": "python",
   "name": "python3"
  },
  "language_info": {
   "codemirror_mode": {
    "name": "ipython",
    "version": 3
   },
   "file_extension": ".py",
   "mimetype": "text/x-python",
   "name": "python",
   "nbconvert_exporter": "python",
   "pygments_lexer": "ipython3",
   "version": "3.6.10"
  }
 },
 "nbformat": 4,
 "nbformat_minor": 4
}
